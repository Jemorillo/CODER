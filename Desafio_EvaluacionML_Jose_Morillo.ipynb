{
  "nbformat": 4,
  "nbformat_minor": 0,
  "metadata": {
    "colab": {
      "provenance": []
    },
    "kernelspec": {
      "name": "python3",
      "display_name": "Python 3"
    },
    "language_info": {
      "name": "python"
    }
  },
  "cells": [
    {
      "cell_type": "code",
      "execution_count": null,
      "metadata": {
        "id": "eGgTKpgzgVIf"
      },
      "outputs": [],
      "source": [
        "#Importacion de librerias\n",
        "import pandas as pd\n",
        "from sklearn.impute import SimpleImputer\n",
        "import numpy as np\n",
        "import matplotlib as mpl\n",
        "import matplotlib.pyplot as plt\n",
        "import seaborn as sns"
      ]
    },
    {
      "cell_type": "code",
      "source": [
        "from google.colab import drive\n",
        "drive.mount('/content/drive')"
      ],
      "metadata": {
        "colab": {
          "base_uri": "https://localhost:8080/"
        },
        "id": "Q7vLrLpDIu3o",
        "outputId": "a5a6db75-c0bb-4a7a-cfe7-7374e9450bf9"
      },
      "execution_count": null,
      "outputs": [
        {
          "output_type": "stream",
          "name": "stdout",
          "text": [
            "Mounted at /content/drive\n"
          ]
        }
      ]
    },
    {
      "cell_type": "code",
      "source": [
        "datos =pd.read_csv('/content/drive/MyDrive/Colab Notebooks/NYC-Airbnb-2023-data.csv',delimiter=',',header=0)\n",
        "d1 = datos\n",
        "print(d1)"
      ],
      "metadata": {
        "id": "rsOAeG8nMVt4",
        "colab": {
          "base_uri": "https://localhost:8080/"
        },
        "outputId": "d595eeae-7430-43c0-ac7d-63bb84c53291"
      },
      "execution_count": null,
      "outputs": [
        {
          "output_type": "stream",
          "name": "stdout",
          "text": [
            "                                                     id  \\\n",
            "0                                                  2595   \n",
            "1                                                  5121   \n",
            "2                                                  5203   \n",
            "3                                                  5178   \n",
            "4     5136,\"Large Sunny Brooklyn Duplex, Patio + Gar...   \n",
            "...                                                 ...   \n",
            "2451                                            3677436   \n",
            "2452                                            3749971   \n",
            "2453                                            3677769   \n",
            "2454                                            3752035   \n",
            "2455                                            3511778   \n",
            "\n",
            "                                    name     host_id  host_name  \\\n",
            "0                  Skylit Midtown Castle      2845.0   Jennifer   \n",
            "1                        BlissArtsSpace!      7356.0      Garon   \n",
            "2     Cozy Clean Guest Room - Family Apt      7490.0  MaryEllen   \n",
            "3       Large Furnished Room Near B'way　      8967.0   Shunichi   \n",
            "4                                    NaN         NaN        NaN   \n",
            "...                                  ...         ...        ...   \n",
            "2451   Spacious 1BR in heart of Brooklyn  18678912.0      Shena   \n",
            "2452  Williamsburg Apt. w/ private patio  10094431.0      Sofia   \n",
            "2453       Beautiful Large Sunny Bedroom  18681479.0     Pamela   \n",
            "2454   New & Modern 2 BR Brownstone Apt.  14961638.0      Elito   \n",
            "2455    10th St / W Village  Junior Loft  17681072.0     Brooks   \n",
            "\n",
            "     neighbourhood_group       neighbourhood  latitude  longitude  \\\n",
            "0              Manhattan             Midtown  40.75356  -73.98559   \n",
            "1               Brooklyn  Bedford-Stuyvesant  40.68535  -73.95512   \n",
            "2              Manhattan     Upper West Side  40.80380  -73.96751   \n",
            "3              Manhattan             Midtown  40.76457  -73.98317   \n",
            "4                    NaN                 NaN       NaN        NaN   \n",
            "...                  ...                 ...       ...        ...   \n",
            "2451            Brooklyn            Flatbush  40.63387  -73.96224   \n",
            "2452            Brooklyn        Williamsburg  40.71649  -73.96180   \n",
            "2453              Queens           Sunnyside  40.74329  -73.92317   \n",
            "2454            Brooklyn  Bedford-Stuyvesant  40.68599  -73.95538   \n",
            "2455           Manhattan   Greenwich Village  40.73223  -73.99265   \n",
            "\n",
            "            room_type  price  minimum_nights  number_of_reviews last_review  \\\n",
            "0     Entire home/apt  150.0            30.0               49.0  2022-06-21   \n",
            "1        Private room   60.0            30.0               50.0  2019-12-02   \n",
            "2        Private room   75.0             2.0              118.0  2017-07-21   \n",
            "3        Private room   68.0             2.0              575.0  2023-02-19   \n",
            "4                 NaN    NaN             NaN                NaN         NaN   \n",
            "...               ...    ...             ...                ...         ...   \n",
            "2451  Entire home/apt  103.0             2.0                9.0  2022-11-26   \n",
            "2452     Private room  115.0            30.0               95.0  2019-12-08   \n",
            "2453     Private room   75.0            30.0              118.0  2020-01-02   \n",
            "2454  Entire home/apt  181.0             3.0              110.0  2023-01-17   \n",
            "2455  Entire home/apt  275.0            60.0               12.0  2016-09-25   \n",
            "\n",
            "      reviews_per_month  calculated_host_listings_count  availability_365  \\\n",
            "0                  0.30                             3.0             314.0   \n",
            "1                  0.30                             2.0             365.0   \n",
            "2                  0.72                             1.0               0.0   \n",
            "3                  3.41                             1.0             106.0   \n",
            "4                   NaN                             NaN               NaN   \n",
            "...                 ...                             ...               ...   \n",
            "2451               0.09                             1.0              63.0   \n",
            "2452               0.91                             1.0               0.0   \n",
            "2453               1.14                             1.0               0.0   \n",
            "2454               1.11                             1.0             153.0   \n",
            "2455               0.11                             1.0             358.0   \n",
            "\n",
            "      number_of_reviews_ltm  license  \n",
            "0                       1.0      NaN  \n",
            "1                       0.0      NaN  \n",
            "2                       0.0      NaN  \n",
            "3                      52.0      NaN  \n",
            "4                       NaN      NaN  \n",
            "...                     ...      ...  \n",
            "2451                    1.0      NaN  \n",
            "2452                    0.0      NaN  \n",
            "2453                    0.0      NaN  \n",
            "2454                   22.0      NaN  \n",
            "2455                    0.0      NaN  \n",
            "\n",
            "[2456 rows x 18 columns]\n"
          ]
        }
      ]
    },
    {
      "cell_type": "code",
      "source": [
        "#Se rellenan los datos \"NaN\" sustituyendolos por el promedio de la columna\n",
        "d1.fillna(d1.mean(), inplace=True)\n",
        "print(d1)\n"
      ],
      "metadata": {
        "id": "tvB8-Og-Nixi",
        "colab": {
          "base_uri": "https://localhost:8080/"
        },
        "outputId": "c8904251-95cb-4c5e-d169-ae189fb368cb"
      },
      "execution_count": null,
      "outputs": [
        {
          "output_type": "stream",
          "name": "stdout",
          "text": [
            "                                                     id  \\\n",
            "0                                                  2595   \n",
            "1                                                  5121   \n",
            "2                                                  5203   \n",
            "3                                                  5178   \n",
            "4     5136,\"Large Sunny Brooklyn Duplex, Patio + Gar...   \n",
            "...                                                 ...   \n",
            "2451                                            3677436   \n",
            "2452                                            3749971   \n",
            "2453                                            3677769   \n",
            "2454                                            3752035   \n",
            "2455                                            3511778   \n",
            "\n",
            "                                    name       host_id  host_name  \\\n",
            "0                  Skylit Midtown Castle  2.845000e+03   Jennifer   \n",
            "1                        BlissArtsSpace!  7.356000e+03      Garon   \n",
            "2     Cozy Clean Guest Room - Family Apt  7.490000e+03  MaryEllen   \n",
            "3       Large Furnished Room Near B'way　  8.967000e+03   Shunichi   \n",
            "4                                    NaN  5.924846e+06        NaN   \n",
            "...                                  ...           ...        ...   \n",
            "2451   Spacious 1BR in heart of Brooklyn  1.867891e+07      Shena   \n",
            "2452  Williamsburg Apt. w/ private patio  1.009443e+07      Sofia   \n",
            "2453       Beautiful Large Sunny Bedroom  1.868148e+07     Pamela   \n",
            "2454   New & Modern 2 BR Brownstone Apt.  1.496164e+07      Elito   \n",
            "2455    10th St / W Village  Junior Loft  1.768107e+07     Brooks   \n",
            "\n",
            "     neighbourhood_group       neighbourhood   latitude  longitude  \\\n",
            "0              Manhattan             Midtown  40.753560 -73.985590   \n",
            "1               Brooklyn  Bedford-Stuyvesant  40.685350 -73.955120   \n",
            "2              Manhattan     Upper West Side  40.803800 -73.967510   \n",
            "3              Manhattan             Midtown  40.764570 -73.983170   \n",
            "4                    NaN                 NaN  40.729836 -73.959123   \n",
            "...                  ...                 ...        ...        ...   \n",
            "2451            Brooklyn            Flatbush  40.633870 -73.962240   \n",
            "2452            Brooklyn        Williamsburg  40.716490 -73.961800   \n",
            "2453              Queens           Sunnyside  40.743290 -73.923170   \n",
            "2454            Brooklyn  Bedford-Stuyvesant  40.685990 -73.955380   \n",
            "2455           Manhattan   Greenwich Village  40.732230 -73.992650   \n",
            "\n",
            "            room_type       price  minimum_nights  number_of_reviews  \\\n",
            "0     Entire home/apt  150.000000       30.000000          49.000000   \n",
            "1        Private room   60.000000       30.000000          50.000000   \n",
            "2        Private room   75.000000        2.000000         118.000000   \n",
            "3        Private room   68.000000        2.000000         575.000000   \n",
            "4                 NaN  195.419214       24.573508          67.557011   \n",
            "...               ...         ...             ...                ...   \n",
            "2451  Entire home/apt  103.000000        2.000000           9.000000   \n",
            "2452     Private room  115.000000       30.000000          95.000000   \n",
            "2453     Private room   75.000000       30.000000         118.000000   \n",
            "2454  Entire home/apt  181.000000        3.000000         110.000000   \n",
            "2455  Entire home/apt  275.000000       60.000000          12.000000   \n",
            "\n",
            "     last_review  reviews_per_month  calculated_host_listings_count  \\\n",
            "0     2022-06-21           0.300000                        3.000000   \n",
            "1     2019-12-02           0.300000                        2.000000   \n",
            "2     2017-07-21           0.720000                        1.000000   \n",
            "3     2023-02-19           3.410000                        1.000000   \n",
            "4            NaN           0.654504                        2.707909   \n",
            "...          ...                ...                             ...   \n",
            "2451  2022-11-26           0.090000                        1.000000   \n",
            "2452  2019-12-08           0.910000                        1.000000   \n",
            "2453  2020-01-02           1.140000                        1.000000   \n",
            "2454  2023-01-17           1.110000                        1.000000   \n",
            "2455  2016-09-25           0.110000                        1.000000   \n",
            "\n",
            "      availability_365  number_of_reviews_ltm  license  \n",
            "0           314.000000               1.000000      NaN  \n",
            "1           365.000000               0.000000      NaN  \n",
            "2             0.000000               0.000000      NaN  \n",
            "3           106.000000              52.000000      NaN  \n",
            "4           118.527899               5.852014      NaN  \n",
            "...                ...                    ...      ...  \n",
            "2451         63.000000               1.000000      NaN  \n",
            "2452          0.000000               0.000000      NaN  \n",
            "2453          0.000000               0.000000      NaN  \n",
            "2454        153.000000              22.000000      NaN  \n",
            "2455        358.000000               0.000000      NaN  \n",
            "\n",
            "[2456 rows x 18 columns]\n"
          ]
        },
        {
          "output_type": "stream",
          "name": "stderr",
          "text": [
            "<ipython-input-4-f4fa8daa1219>:2: FutureWarning: The default value of numeric_only in DataFrame.mean is deprecated. In a future version, it will default to False. In addition, specifying 'numeric_only=None' is deprecated. Select only valid columns or specify the value of numeric_only to silence this warning.\n",
            "  d1.fillna(d1.mean(), inplace=True)\n"
          ]
        }
      ]
    },
    {
      "cell_type": "code",
      "source": [
        "# - Promedio de precios por tipo de alquiler en cada localidad\n",
        "prom_barrios = d1.groupby(['neighbourhood_group', 'room_type'])['price'].mean().reset_index()\n",
        "\n",
        "sns.set(style=\"whitegrid\")\n",
        "plt.figure(figsize=(12, 6))\n",
        "sns.barplot(x=\"room_type\", y=\"price\", hue=\"neighbourhood_group\", data=prom_barrios)\n",
        "\n",
        "\n",
        "plt.title(\"Promedio de Precio por Tipo de Alquiler en Cada Localidad\")\n",
        "plt.xlabel(\"Tipo de Alquiler\")\n",
        "plt.ylabel(\"Precio Promedio\")\n",
        "plt.xticks(rotation=45)\n",
        "plt.legend(bbox_to_anchor=(1, 1), loc='upper left')\n",
        "\n",
        "\n",
        "plt.tight_layout()\n",
        "plt.show()"
      ],
      "metadata": {
        "colab": {
          "base_uri": "https://localhost:8080/",
          "height": 601
        },
        "id": "gOr1NcgZflJw",
        "outputId": "66a9fab4-155c-44c2-a2bb-df73187c492b"
      },
      "execution_count": null,
      "outputs": [
        {
          "output_type": "display_data",
          "data": {
            "text/plain": [
              "<Figure size 1200x600 with 1 Axes>"
            ],
            "image/png": "[encoded data removed]"
          },
          "metadata": {}
        }
      ]
    },
    {
      "cell_type": "markdown",
      "source": [
        "***Promedio de precios por tipo de alquiler en cada localidad***: Viendo los resultados podemos ver que el tipo de alquiler de habitación de hotel solo se encuentra en una sola localidad, mientras que el alquiler entero y habitación privada tiene mayor oferta en todas las localidades con promedios distintos en cada una de ellas.\n"
      ],
      "metadata": {
        "id": "FpMCMgm1tyZY"
      }
    },
    {
      "cell_type": "code",
      "source": [
        "# - Promedio de precios segun el tipo de alquiler mas ofertado.\n",
        "most_rent = d1[d1['room_type'].isin(['Entire home/apt', 'Private room'])]\n",
        "\n",
        "sns.set(style=\"whitegrid\")\n",
        "plt.figure(figsize=(7, 5))\n",
        "sns.barplot(x=\"room_type\", y=\"price\", data=most_rent, ci=None)\n",
        "plt.title(\"Promedio de Precio por Tipo de alquiler\")\n",
        "plt.xlabel(\"Tipo de alquiler\")\n",
        "plt.ylabel(\"Precio Promedio\")\n",
        "\n",
        "plt.tight_layout()\n",
        "plt.show()"
      ],
      "metadata": {
        "colab": {
          "base_uri": "https://localhost:8080/",
          "height": 588
        },
        "id": "5HDTI_0dz8vn",
        "outputId": "0828fdcd-867b-4f34-bdd8-484eb4dbc057"
      },
      "execution_count": null,
      "outputs": [
        {
          "output_type": "stream",
          "name": "stderr",
          "text": [
            "<ipython-input-5-4f7546534968>:6: FutureWarning: \n",
            "\n",
            "The `ci` parameter is deprecated. Use `errorbar=None` for the same effect.\n",
            "\n",
            "  sns.barplot(x=\"room_type\", y=\"price\", data=most_rent, ci=None)\n"
          ]
        },
        {
          "output_type": "display_data",
          "data": {
            "text/plain": [
              "<Figure size 700x500 with 1 Axes>"
            ],
            "image/png": "[encoded data removed]"
          },
          "metadata": {}
        }
      ]
    },
    {
      "cell_type": "markdown",
      "source": [
        "## **SELECCION DE FEATURES / REGRESION / ANALISIS DE METRICAS / CONCLUSIONES**"
      ],
      "metadata": {
        "id": "HIbGtBQ7ph13"
      }
    },
    {
      "cell_type": "code",
      "source": [
        "\n",
        "from sklearn.linear_model import LinearRegression\n",
        "from mlxtend.feature_selection import SequentialFeatureSelector as SFS\n",
        "import statsmodels.formula.api as sm\n",
        "\n",
        "import os"
      ],
      "metadata": {
        "id": "nFL79dxner79"
      },
      "execution_count": null,
      "outputs": []
    },
    {
      "cell_type": "code",
      "source": [
        "print(most_rent)"
      ],
      "metadata": {
        "colab": {
          "base_uri": "https://localhost:8080/"
        },
        "id": "PN7rtxEx0Gpk",
        "outputId": "2db85841-59cf-43db-c913-8e0934d5dfab"
      },
      "execution_count": null,
      "outputs": [
        {
          "output_type": "stream",
          "name": "stdout",
          "text": [
            "           id                                name     host_id  host_name  \\\n",
            "0        2595               Skylit Midtown Castle      2845.0   Jennifer   \n",
            "1        5121                     BlissArtsSpace!      7356.0      Garon   \n",
            "2        5203  Cozy Clean Guest Room - Family Apt      7490.0  MaryEllen   \n",
            "3        5178    Large Furnished Room Near B'way　      8967.0   Shunichi   \n",
            "6        5586  Rooftop Deck/City Views. Great Apt      8526.0      Susan   \n",
            "...       ...                                 ...         ...        ...   \n",
            "2451  3677436   Spacious 1BR in heart of Brooklyn  18678912.0      Shena   \n",
            "2452  3749971  Williamsburg Apt. w/ private patio  10094431.0      Sofia   \n",
            "2453  3677769       Beautiful Large Sunny Bedroom  18681479.0     Pamela   \n",
            "2454  3752035   New & Modern 2 BR Brownstone Apt.  14961638.0      Elito   \n",
            "2455  3511778    10th St / W Village  Junior Loft  17681072.0     Brooks   \n",
            "\n",
            "     neighbourhood_group       neighbourhood  latitude  longitude  \\\n",
            "0              Manhattan             Midtown  40.75356  -73.98559   \n",
            "1               Brooklyn  Bedford-Stuyvesant  40.68535  -73.95512   \n",
            "2              Manhattan     Upper West Side  40.80380  -73.96751   \n",
            "3              Manhattan             Midtown  40.76457  -73.98317   \n",
            "6              Manhattan     Upper East Side  40.76076  -73.96156   \n",
            "...                  ...                 ...       ...        ...   \n",
            "2451            Brooklyn            Flatbush  40.63387  -73.96224   \n",
            "2452            Brooklyn        Williamsburg  40.71649  -73.96180   \n",
            "2453              Queens           Sunnyside  40.74329  -73.92317   \n",
            "2454            Brooklyn  Bedford-Stuyvesant  40.68599  -73.95538   \n",
            "2455           Manhattan   Greenwich Village  40.73223  -73.99265   \n",
            "\n",
            "            room_type  price  minimum_nights  number_of_reviews last_review  \\\n",
            "0     Entire home/apt  150.0            30.0               49.0  2022-06-21   \n",
            "1        Private room   60.0            30.0               50.0  2019-12-02   \n",
            "2        Private room   75.0             2.0              118.0  2017-07-21   \n",
            "3        Private room   68.0             2.0              575.0  2023-02-19   \n",
            "6     Entire home/apt  295.0             4.0               45.0  2022-10-03   \n",
            "...               ...    ...             ...                ...         ...   \n",
            "2451  Entire home/apt  103.0             2.0                9.0  2022-11-26   \n",
            "2452     Private room  115.0            30.0               95.0  2019-12-08   \n",
            "2453     Private room   75.0            30.0              118.0  2020-01-02   \n",
            "2454  Entire home/apt  181.0             3.0              110.0  2023-01-17   \n",
            "2455  Entire home/apt  275.0            60.0               12.0  2016-09-25   \n",
            "\n",
            "      reviews_per_month  calculated_host_listings_count  availability_365  \\\n",
            "0                  0.30                             3.0             314.0   \n",
            "1                  0.30                             2.0             365.0   \n",
            "2                  0.72                             1.0               0.0   \n",
            "3                  3.41                             1.0             106.0   \n",
            "6                  0.27                             1.0               1.0   \n",
            "...                 ...                             ...               ...   \n",
            "2451               0.09                             1.0              63.0   \n",
            "2452               0.91                             1.0               0.0   \n",
            "2453               1.14                             1.0               0.0   \n",
            "2454               1.11                             1.0             153.0   \n",
            "2455               0.11                             1.0             358.0   \n",
            "\n",
            "      number_of_reviews_ltm  license  \n",
            "0                       1.0      NaN  \n",
            "1                       0.0      NaN  \n",
            "2                       0.0      NaN  \n",
            "3                      52.0      NaN  \n",
            "6                       4.0      NaN  \n",
            "...                     ...      ...  \n",
            "2451                    1.0      NaN  \n",
            "2452                    0.0      NaN  \n",
            "2453                    0.0      NaN  \n",
            "2454                   22.0      NaN  \n",
            "2455                    0.0      NaN  \n",
            "\n",
            "[2036 rows x 18 columns]\n"
          ]
        }
      ]
    },
    {
      "cell_type": "code",
      "source": [
        "# Ajuste de Data Frame para valores numericos\n",
        "d2 = most_rent\n",
        "# Codigo numerico de los barrios\n",
        "codigo_barrio_dic = {\n",
        "    'Manhattan': 100,\n",
        "    'Brooklyn': 200,\n",
        "    'Queens': 300,\n",
        "    'Bronx': 400}\n",
        "\n",
        "room_type_dic = {\n",
        "    'Entire home/apt': 1100,\n",
        "    'Private room': 1200,\n",
        "    'Shared room': 1300,\n",
        "    'Hotel room': 1400}\n",
        "# asignacion de codigos en una nueva columna\n",
        "d2['codigo_barrio']= most_rent['neighbourhood_group'].map(codigo_barrio_dic)\n",
        "d2['codigo_room']= most_rent['room_type'].map(room_type_dic)\n",
        "d2['codigo_barrio'] = pd.to_numeric(d2['codigo_barrio'], downcast='integer', errors='coerce')\n",
        "\n",
        "# completa los campos categoricos con la moda\n",
        "nan_neighbourhood_group = d2['neighbourhood_group'].mode()[0]\n",
        "nan_neighbourhood = d2['neighbourhood'].mode()[0]\n",
        "d2['neighbourhood_group'].fillna(nan_neighbourhood_group, inplace=True)\n",
        "d2['neighbourhood'].fillna(nan_neighbourhood, inplace=True)\n",
        "d2['license'].fillna('0', inplace=True)\n",
        "\n",
        "#elimina los campos vacios\n",
        "d2 = d2.dropna()\n",
        "\n",
        "\n",
        "print(d2)"
      ],
      "metadata": {
        "colab": {
          "base_uri": "https://localhost:8080/"
        },
        "id": "hXarOH61yiSc",
        "outputId": "a940c90f-6650-45fe-e66a-51f6324a5f71"
      },
      "execution_count": null,
      "outputs": [
        {
          "output_type": "stream",
          "name": "stdout",
          "text": [
            "           id                                name     host_id  host_name  \\\n",
            "0        2595               Skylit Midtown Castle      2845.0   Jennifer   \n",
            "1        5121                     BlissArtsSpace!      7356.0      Garon   \n",
            "2        5203  Cozy Clean Guest Room - Family Apt      7490.0  MaryEllen   \n",
            "3        5178    Large Furnished Room Near B'way　      8967.0   Shunichi   \n",
            "6        5586  Rooftop Deck/City Views. Great Apt      8526.0      Susan   \n",
            "...       ...                                 ...         ...        ...   \n",
            "2451  3677436   Spacious 1BR in heart of Brooklyn  18678912.0      Shena   \n",
            "2452  3749971  Williamsburg Apt. w/ private patio  10094431.0      Sofia   \n",
            "2453  3677769       Beautiful Large Sunny Bedroom  18681479.0     Pamela   \n",
            "2454  3752035   New & Modern 2 BR Brownstone Apt.  14961638.0      Elito   \n",
            "2455  3511778    10th St / W Village  Junior Loft  17681072.0     Brooks   \n",
            "\n",
            "     neighbourhood_group       neighbourhood  latitude  longitude  \\\n",
            "0              Manhattan             Midtown  40.75356  -73.98559   \n",
            "1               Brooklyn  Bedford-Stuyvesant  40.68535  -73.95512   \n",
            "2              Manhattan     Upper West Side  40.80380  -73.96751   \n",
            "3              Manhattan             Midtown  40.76457  -73.98317   \n",
            "6              Manhattan     Upper East Side  40.76076  -73.96156   \n",
            "...                  ...                 ...       ...        ...   \n",
            "2451            Brooklyn            Flatbush  40.63387  -73.96224   \n",
            "2452            Brooklyn        Williamsburg  40.71649  -73.96180   \n",
            "2453              Queens           Sunnyside  40.74329  -73.92317   \n",
            "2454            Brooklyn  Bedford-Stuyvesant  40.68599  -73.95538   \n",
            "2455           Manhattan   Greenwich Village  40.73223  -73.99265   \n",
            "\n",
            "            room_type  price  minimum_nights  number_of_reviews last_review  \\\n",
            "0     Entire home/apt  150.0            30.0               49.0  2022-06-21   \n",
            "1        Private room   60.0            30.0               50.0  2019-12-02   \n",
            "2        Private room   75.0             2.0              118.0  2017-07-21   \n",
            "3        Private room   68.0             2.0              575.0  2023-02-19   \n",
            "6     Entire home/apt  295.0             4.0               45.0  2022-10-03   \n",
            "...               ...    ...             ...                ...         ...   \n",
            "2451  Entire home/apt  103.0             2.0                9.0  2022-11-26   \n",
            "2452     Private room  115.0            30.0               95.0  2019-12-08   \n",
            "2453     Private room   75.0            30.0              118.0  2020-01-02   \n",
            "2454  Entire home/apt  181.0             3.0              110.0  2023-01-17   \n",
            "2455  Entire home/apt  275.0            60.0               12.0  2016-09-25   \n",
            "\n",
            "      reviews_per_month  calculated_host_listings_count  availability_365  \\\n",
            "0                  0.30                             3.0             314.0   \n",
            "1                  0.30                             2.0             365.0   \n",
            "2                  0.72                             1.0               0.0   \n",
            "3                  3.41                             1.0             106.0   \n",
            "6                  0.27                             1.0               1.0   \n",
            "...                 ...                             ...               ...   \n",
            "2451               0.09                             1.0              63.0   \n",
            "2452               0.91                             1.0               0.0   \n",
            "2453               1.14                             1.0               0.0   \n",
            "2454               1.11                             1.0             153.0   \n",
            "2455               0.11                             1.0             358.0   \n",
            "\n",
            "      number_of_reviews_ltm license  codigo_barrio  codigo_room  \n",
            "0                       1.0       0          100.0         1100  \n",
            "1                       0.0       0          200.0         1200  \n",
            "2                       0.0       0          100.0         1200  \n",
            "3                      52.0       0          100.0         1200  \n",
            "6                       4.0       0          100.0         1100  \n",
            "...                     ...     ...            ...          ...  \n",
            "2451                    1.0       0          200.0         1100  \n",
            "2452                    0.0       0          200.0         1200  \n",
            "2453                    0.0       0          300.0         1200  \n",
            "2454                   22.0       0          200.0         1100  \n",
            "2455                    0.0       0          100.0         1100  \n",
            "\n",
            "[1841 rows x 20 columns]\n"
          ]
        },
        {
          "output_type": "stream",
          "name": "stderr",
          "text": [
            "<ipython-input-8-8a1cfa82add5>:16: SettingWithCopyWarning: \n",
            "A value is trying to be set on a copy of a slice from a DataFrame.\n",
            "Try using .loc[row_indexer,col_indexer] = value instead\n",
            "\n",
            "See the caveats in the documentation: https://pandas.pydata.org/pandas-docs/stable/user_guide/indexing.html#returning-a-view-versus-a-copy\n",
            "  d2['codigo_barrio']= most_rent['neighbourhood_group'].map(codigo_barrio_dic)\n",
            "<ipython-input-8-8a1cfa82add5>:17: SettingWithCopyWarning: \n",
            "A value is trying to be set on a copy of a slice from a DataFrame.\n",
            "Try using .loc[row_indexer,col_indexer] = value instead\n",
            "\n",
            "See the caveats in the documentation: https://pandas.pydata.org/pandas-docs/stable/user_guide/indexing.html#returning-a-view-versus-a-copy\n",
            "  d2['codigo_room']= most_rent['room_type'].map(room_type_dic)\n",
            "<ipython-input-8-8a1cfa82add5>:18: SettingWithCopyWarning: \n",
            "A value is trying to be set on a copy of a slice from a DataFrame.\n",
            "Try using .loc[row_indexer,col_indexer] = value instead\n",
            "\n",
            "See the caveats in the documentation: https://pandas.pydata.org/pandas-docs/stable/user_guide/indexing.html#returning-a-view-versus-a-copy\n",
            "  d2['codigo_barrio'] = pd.to_numeric(d2['codigo_barrio'], downcast='integer', errors='coerce')\n",
            "<ipython-input-8-8a1cfa82add5>:23: SettingWithCopyWarning: \n",
            "A value is trying to be set on a copy of a slice from a DataFrame\n",
            "\n",
            "See the caveats in the documentation: https://pandas.pydata.org/pandas-docs/stable/user_guide/indexing.html#returning-a-view-versus-a-copy\n",
            "  d2['neighbourhood_group'].fillna(nan_neighbourhood_group, inplace=True)\n",
            "<ipython-input-8-8a1cfa82add5>:24: SettingWithCopyWarning: \n",
            "A value is trying to be set on a copy of a slice from a DataFrame\n",
            "\n",
            "See the caveats in the documentation: https://pandas.pydata.org/pandas-docs/stable/user_guide/indexing.html#returning-a-view-versus-a-copy\n",
            "  d2['neighbourhood'].fillna(nan_neighbourhood, inplace=True)\n",
            "<ipython-input-8-8a1cfa82add5>:25: SettingWithCopyWarning: \n",
            "A value is trying to be set on a copy of a slice from a DataFrame\n",
            "\n",
            "See the caveats in the documentation: https://pandas.pydata.org/pandas-docs/stable/user_guide/indexing.html#returning-a-view-versus-a-copy\n",
            "  d2['license'].fillna('0', inplace=True)\n"
          ]
        }
      ]
    },
    {
      "cell_type": "code",
      "source": [
        "# Ajuste de DataFrame para la seleccion de features\n",
        "\n",
        "d2['price'] = most_rent.price\n",
        "features_drop = [\"id\",\"name\",\"host_name\",\"neighbourhood_group\",\"neighbourhood\",\"room_type\",\"last_review\"]\n",
        "x = d2.drop(columns=features_drop)       # Matriz de características\n",
        "y = d2['price']"
      ],
      "metadata": {
        "id": "mO-BJn3Y1xXC",
        "colab": {
          "base_uri": "https://localhost:8080/"
        },
        "outputId": "f254b60c-90d9-4dd4-d331-655968e8a4c1"
      },
      "execution_count": null,
      "outputs": [
        {
          "output_type": "stream",
          "name": "stderr",
          "text": [
            "<ipython-input-9-ab1fe6cbaadc>:3: SettingWithCopyWarning: \n",
            "A value is trying to be set on a copy of a slice from a DataFrame.\n",
            "Try using .loc[row_indexer,col_indexer] = value instead\n",
            "\n",
            "See the caveats in the documentation: https://pandas.pydata.org/pandas-docs/stable/user_guide/indexing.html#returning-a-view-versus-a-copy\n",
            "  d2['price'] = most_rent.price\n"
          ]
        }
      ]
    },
    {
      "cell_type": "code",
      "source": [
        "x"
      ],
      "metadata": {
        "colab": {
          "base_uri": "https://localhost:8080/",
          "height": 423
        },
        "id": "fTHrdPzZotIC",
        "outputId": "77028dff-07f3-4129-dd61-c0b5f82e42ed"
      },
      "execution_count": null,
      "outputs": [
        {
          "output_type": "execute_result",
          "data": {
            "text/plain": [
              "         host_id  latitude  longitude  price  minimum_nights  \\\n",
              "0         2845.0  40.75356  -73.98559  150.0            30.0   \n",
              "1         7356.0  40.68535  -73.95512   60.0            30.0   \n",
              "2         7490.0  40.80380  -73.96751   75.0             2.0   \n",
              "3         8967.0  40.76457  -73.98317   68.0             2.0   \n",
              "6         8526.0  40.76076  -73.96156  295.0             4.0   \n",
              "...          ...       ...        ...    ...             ...   \n",
              "2451  18678912.0  40.63387  -73.96224  103.0             2.0   \n",
              "2452  10094431.0  40.71649  -73.96180  115.0            30.0   \n",
              "2453  18681479.0  40.74329  -73.92317   75.0            30.0   \n",
              "2454  14961638.0  40.68599  -73.95538  181.0             3.0   \n",
              "2455  17681072.0  40.73223  -73.99265  275.0            60.0   \n",
              "\n",
              "      number_of_reviews  reviews_per_month  calculated_host_listings_count  \\\n",
              "0                  49.0               0.30                             3.0   \n",
              "1                  50.0               0.30                             2.0   \n",
              "2                 118.0               0.72                             1.0   \n",
              "3                 575.0               3.41                             1.0   \n",
              "6                  45.0               0.27                             1.0   \n",
              "...                 ...                ...                             ...   \n",
              "2451                9.0               0.09                             1.0   \n",
              "2452               95.0               0.91                             1.0   \n",
              "2453              118.0               1.14                             1.0   \n",
              "2454              110.0               1.11                             1.0   \n",
              "2455               12.0               0.11                             1.0   \n",
              "\n",
              "      availability_365  number_of_reviews_ltm license  codigo_barrio  \\\n",
              "0                314.0                    1.0       0          100.0   \n",
              "1                365.0                    0.0       0          200.0   \n",
              "2                  0.0                    0.0       0          100.0   \n",
              "3                106.0                   52.0       0          100.0   \n",
              "6                  1.0                    4.0       0          100.0   \n",
              "...                ...                    ...     ...            ...   \n",
              "2451              63.0                    1.0       0          200.0   \n",
              "2452               0.0                    0.0       0          200.0   \n",
              "2453               0.0                    0.0       0          300.0   \n",
              "2454             153.0                   22.0       0          200.0   \n",
              "2455             358.0                    0.0       0          100.0   \n",
              "\n",
              "      codigo_room  \n",
              "0            1100  \n",
              "1            1200  \n",
              "2            1200  \n",
              "3            1200  \n",
              "6            1100  \n",
              "...           ...  \n",
              "2451         1100  \n",
              "2452         1200  \n",
              "2453         1200  \n",
              "2454         1100  \n",
              "2455         1100  \n",
              "\n",
              "[1841 rows x 13 columns]"
            ],
            "text/html": [
              "\n",
              "  <div id=\"df-f2b3a891-b2af-4f8c-808a-1da94ce0476b\" class=\"colab-df-container\">\n",
              "    <div>\n",
              "<style scoped>\n",
              "    .dataframe tbody tr th:only-of-type {\n",
              "        vertical-align: middle;\n",
              "    }\n",
              "\n",
              "    .dataframe tbody tr th {\n",
              "        vertical-align: top;\n",
              "    }\n",
              "\n",
              "    .dataframe thead th {\n",
              "        text-align: right;\n",
              "    }\n",
              "</style>\n",
              "<table border=\"1\" class=\"dataframe\">\n",
              "  <thead>\n",
              "    <tr style=\"text-align: right;\">\n",
              "      <th></th>\n",
              "      <th>host_id</th>\n",
              "      <th>latitude</th>\n",
              "      <th>longitude</th>\n",
              "      <th>price</th>\n",
              "      <th>minimum_nights</th>\n",
              "      <th>number_of_reviews</th>\n",
              "      <th>reviews_per_month</th>\n",
              "      <th>calculated_host_listings_count</th>\n",
              "      <th>availability_365</th>\n",
              "      <th>number_of_reviews_ltm</th>\n",
              "      <th>license</th>\n",
              "      <th>codigo_barrio</th>\n",
              "      <th>codigo_room</th>\n",
              "    </tr>\n",
              "  </thead>\n",
              "  <tbody>\n",
              "    <tr>\n",
              "      <th>0</th>\n",
              "      <td>2845.0</td>\n",
              "      <td>40.75356</td>\n",
              "      <td>-73.98559</td>\n",
              "      <td>150.0</td>\n",
              "      <td>30.0</td>\n",
              "      <td>49.0</td>\n",
              "      <td>0.30</td>\n",
              "      <td>3.0</td>\n",
              "      <td>314.0</td>\n",
              "      <td>1.0</td>\n",
              "      <td>0</td>\n",
              "      <td>100.0</td>\n",
              "      <td>1100</td>\n",
              "    </tr>\n",
              "    <tr>\n",
              "      <th>1</th>\n",
              "      <td>7356.0</td>\n",
              "      <td>40.68535</td>\n",
              "      <td>-73.95512</td>\n",
              "      <td>60.0</td>\n",
              "      <td>30.0</td>\n",
              "      <td>50.0</td>\n",
              "      <td>0.30</td>\n",
              "      <td>2.0</td>\n",
              "      <td>365.0</td>\n",
              "      <td>0.0</td>\n",
              "      <td>0</td>\n",
              "      <td>200.0</td>\n",
              "      <td>1200</td>\n",
              "    </tr>\n",
              "    <tr>\n",
              "      <th>2</th>\n",
              "      <td>7490.0</td>\n",
              "      <td>40.80380</td>\n",
              "      <td>-73.96751</td>\n",
              "      <td>75.0</td>\n",
              "      <td>2.0</td>\n",
              "      <td>118.0</td>\n",
              "      <td>0.72</td>\n",
              "      <td>1.0</td>\n",
              "      <td>0.0</td>\n",
              "      <td>0.0</td>\n",
              "      <td>0</td>\n",
              "      <td>100.0</td>\n",
              "      <td>1200</td>\n",
              "    </tr>\n",
              "    <tr>\n",
              "      <th>3</th>\n",
              "      <td>8967.0</td>\n",
              "      <td>40.76457</td>\n",
              "      <td>-73.98317</td>\n",
              "      <td>68.0</td>\n",
              "      <td>2.0</td>\n",
              "      <td>575.0</td>\n",
              "      <td>3.41</td>\n",
              "      <td>1.0</td>\n",
              "      <td>106.0</td>\n",
              "      <td>52.0</td>\n",
              "      <td>0</td>\n",
              "      <td>100.0</td>\n",
              "      <td>1200</td>\n",
              "    </tr>\n",
              "    <tr>\n",
              "      <th>6</th>\n",
              "      <td>8526.0</td>\n",
              "      <td>40.76076</td>\n",
              "      <td>-73.96156</td>\n",
              "      <td>295.0</td>\n",
              "      <td>4.0</td>\n",
              "      <td>45.0</td>\n",
              "      <td>0.27</td>\n",
              "      <td>1.0</td>\n",
              "      <td>1.0</td>\n",
              "      <td>4.0</td>\n",
              "      <td>0</td>\n",
              "      <td>100.0</td>\n",
              "      <td>1100</td>\n",
              "    </tr>\n",
              "    <tr>\n",
              "      <th>...</th>\n",
              "      <td>...</td>\n",
              "      <td>...</td>\n",
              "      <td>...</td>\n",
              "      <td>...</td>\n",
              "      <td>...</td>\n",
              "      <td>...</td>\n",
              "      <td>...</td>\n",
              "      <td>...</td>\n",
              "      <td>...</td>\n",
              "      <td>...</td>\n",
              "      <td>...</td>\n",
              "      <td>...</td>\n",
              "      <td>...</td>\n",
              "    </tr>\n",
              "    <tr>\n",
              "      <th>2451</th>\n",
              "      <td>18678912.0</td>\n",
              "      <td>40.63387</td>\n",
              "      <td>-73.96224</td>\n",
              "      <td>103.0</td>\n",
              "      <td>2.0</td>\n",
              "      <td>9.0</td>\n",
              "      <td>0.09</td>\n",
              "      <td>1.0</td>\n",
              "      <td>63.0</td>\n",
              "      <td>1.0</td>\n",
              "      <td>0</td>\n",
              "      <td>200.0</td>\n",
              "      <td>1100</td>\n",
              "    </tr>\n",
              "    <tr>\n",
              "      <th>2452</th>\n",
              "      <td>10094431.0</td>\n",
              "      <td>40.71649</td>\n",
              "      <td>-73.96180</td>\n",
              "      <td>115.0</td>\n",
              "      <td>30.0</td>\n",
              "      <td>95.0</td>\n",
              "      <td>0.91</td>\n",
              "      <td>1.0</td>\n",
              "      <td>0.0</td>\n",
              "      <td>0.0</td>\n",
              "      <td>0</td>\n",
              "      <td>200.0</td>\n",
              "      <td>1200</td>\n",
              "    </tr>\n",
              "    <tr>\n",
              "      <th>2453</th>\n",
              "      <td>18681479.0</td>\n",
              "      <td>40.74329</td>\n",
              "      <td>-73.92317</td>\n",
              "      <td>75.0</td>\n",
              "      <td>30.0</td>\n",
              "      <td>118.0</td>\n",
              "      <td>1.14</td>\n",
              "      <td>1.0</td>\n",
              "      <td>0.0</td>\n",
              "      <td>0.0</td>\n",
              "      <td>0</td>\n",
              "      <td>300.0</td>\n",
              "      <td>1200</td>\n",
              "    </tr>\n",
              "    <tr>\n",
              "      <th>2454</th>\n",
              "      <td>14961638.0</td>\n",
              "      <td>40.68599</td>\n",
              "      <td>-73.95538</td>\n",
              "      <td>181.0</td>\n",
              "      <td>3.0</td>\n",
              "      <td>110.0</td>\n",
              "      <td>1.11</td>\n",
              "      <td>1.0</td>\n",
              "      <td>153.0</td>\n",
              "      <td>22.0</td>\n",
              "      <td>0</td>\n",
              "      <td>200.0</td>\n",
              "      <td>1100</td>\n",
              "    </tr>\n",
              "    <tr>\n",
              "      <th>2455</th>\n",
              "      <td>17681072.0</td>\n",
              "      <td>40.73223</td>\n",
              "      <td>-73.99265</td>\n",
              "      <td>275.0</td>\n",
              "      <td>60.0</td>\n",
              "      <td>12.0</td>\n",
              "      <td>0.11</td>\n",
              "      <td>1.0</td>\n",
              "      <td>358.0</td>\n",
              "      <td>0.0</td>\n",
              "      <td>0</td>\n",
              "      <td>100.0</td>\n",
              "      <td>1100</td>\n",
              "    </tr>\n",
              "  </tbody>\n",
              "</table>\n",
              "<p>1841 rows × 13 columns</p>\n",
              "</div>\n",
              "    <div class=\"colab-df-buttons\">\n",
              "\n",
              "  <div class=\"colab-df-container\">\n",
              "    <button class=\"colab-df-convert\" onclick=\"convertToInteractive('df-f2b3a891-b2af-4f8c-808a-1da94ce0476b')\"\n",
              "            title=\"Convert this dataframe to an interactive table.\"\n",
              "            style=\"display:none;\">\n",
              "\n",
              "  <svg xmlns=\"http://www.w3.org/2000/svg\" height=\"24px\" viewBox=\"0 -960 960 960\">\n",
              "    <path d=\"M120-120v-720h720v720H120Zm60-500h600v-160H180v160Zm220 220h160v-160H400v160Zm0 220h160v-160H400v160ZM180-400h160v-160H180v160Zm440 0h160v-160H620v160ZM180-180h160v-160H180v160Zm440 0h160v-160H620v160Z\"/>\n",
              "  </svg>\n",
              "    </button>\n",
              "\n",
              "  <style>\n",
              "    .colab-df-container {\n",
              "      display:flex;\n",
              "      gap: 12px;\n",
              "    }\n",
              "\n",
              "    .colab-df-convert {\n",
              "      background-color: #E8F0FE;\n",
              "      border: none;\n",
              "      border-radius: 50%;\n",
              "      cursor: pointer;\n",
              "      display: none;\n",
              "      fill: #1967D2;\n",
              "      height: 32px;\n",
              "      padding: 0 0 0 0;\n",
              "      width: 32px;\n",
              "    }\n",
              "\n",
              "    .colab-df-convert:hover {\n",
              "      background-color: #E2EBFA;\n",
              "      box-shadow: 0px 1px 2px rgba(60, 64, 67, 0.3), 0px 1px 3px 1px rgba(60, 64, 67, 0.15);\n",
              "      fill: #174EA6;\n",
              "    }\n",
              "\n",
              "    .colab-df-buttons div {\n",
              "      margin-bottom: 4px;\n",
              "    }\n",
              "\n",
              "    [theme=dark] .colab-df-convert {\n",
              "      background-color: #3B4455;\n",
              "      fill: #D2E3FC;\n",
              "    }\n",
              "\n",
              "    [theme=dark] .colab-df-convert:hover {\n",
              "      background-color: #434B5C;\n",
              "      box-shadow: 0px 1px 3px 1px rgba(0, 0, 0, 0.15);\n",
              "      filter: drop-shadow(0px 1px 2px rgba(0, 0, 0, 0.3));\n",
              "      fill: #FFFFFF;\n",
              "    }\n",
              "  </style>\n",
              "\n",
              "    <script>\n",
              "      const buttonEl =\n",
              "        document.querySelector('#df-f2b3a891-b2af-4f8c-808a-1da94ce0476b button.colab-df-convert');\n",
              "      buttonEl.style.display =\n",
              "        google.colab.kernel.accessAllowed ? 'block' : 'none';\n",
              "\n",
              "      async function convertToInteractive(key) {\n",
              "        const element = document.querySelector('#df-f2b3a891-b2af-4f8c-808a-1da94ce0476b');\n",
              "        const dataTable =\n",
              "          await google.colab.kernel.invokeFunction('convertToInteractive',\n",
              "                                                    [key], {});\n",
              "        if (!dataTable) return;\n",
              "\n",
              "        const docLinkHtml = 'Like what you see? Visit the ' +\n",
              "          '<a target=\"_blank\" href=https://colab.research.google.com/notebooks/data_table.ipynb>data table notebook</a>'\n",
              "          + ' to learn more about interactive tables.';\n",
              "        element.innerHTML = '';\n",
              "        dataTable['output_type'] = 'display_data';\n",
              "        await google.colab.output.renderOutput(dataTable, element);\n",
              "        const docLink = document.createElement('div');\n",
              "        docLink.innerHTML = docLinkHtml;\n",
              "        element.appendChild(docLink);\n",
              "      }\n",
              "    </script>\n",
              "  </div>\n",
              "\n",
              "\n",
              "<div id=\"df-0afab83c-3688-41d1-9d54-1130abbbaf23\">\n",
              "  <button class=\"colab-df-quickchart\" onclick=\"quickchart('df-0afab83c-3688-41d1-9d54-1130abbbaf23')\"\n",
              "            title=\"Suggest charts\"\n",
              "            style=\"display:none;\">\n",
              "\n",
              "<svg xmlns=\"http://www.w3.org/2000/svg\" height=\"24px\"viewBox=\"0 0 24 24\"\n",
              "     width=\"24px\">\n",
              "    <g>\n",
              "        <path d=\"M19 3H5c-1.1 0-2 .9-2 2v14c0 1.1.9 2 2 2h14c1.1 0 2-.9 2-2V5c0-1.1-.9-2-2-2zM9 17H7v-7h2v7zm4 0h-2V7h2v10zm4 0h-2v-4h2v4z\"/>\n",
              "    </g>\n",
              "</svg>\n",
              "  </button>\n",
              "\n",
              "<style>\n",
              "  .colab-df-quickchart {\n",
              "      --bg-color: #E8F0FE;\n",
              "      --fill-color: #1967D2;\n",
              "      --hover-bg-color: #E2EBFA;\n",
              "      --hover-fill-color: #174EA6;\n",
              "      --disabled-fill-color: #AAA;\n",
              "      --disabled-bg-color: #DDD;\n",
              "  }\n",
              "\n",
              "  [theme=dark] .colab-df-quickchart {\n",
              "      --bg-color: #3B4455;\n",
              "      --fill-color: #D2E3FC;\n",
              "      --hover-bg-color: #434B5C;\n",
              "      --hover-fill-color: #FFFFFF;\n",
              "      --disabled-bg-color: #3B4455;\n",
              "      --disabled-fill-color: #666;\n",
              "  }\n",
              "\n",
              "  .colab-df-quickchart {\n",
              "    background-color: var(--bg-color);\n",
              "    border: none;\n",
              "    border-radius: 50%;\n",
              "    cursor: pointer;\n",
              "    display: none;\n",
              "    fill: var(--fill-color);\n",
              "    height: 32px;\n",
              "    padding: 0;\n",
              "    width: 32px;\n",
              "  }\n",
              "\n",
              "  .colab-df-quickchart:hover {\n",
              "    background-color: var(--hover-bg-color);\n",
              "    box-shadow: 0 1px 2px rgba(60, 64, 67, 0.3), 0 1px 3px 1px rgba(60, 64, 67, 0.15);\n",
              "    fill: var(--button-hover-fill-color);\n",
              "  }\n",
              "\n",
              "  .colab-df-quickchart-complete:disabled,\n",
              "  .colab-df-quickchart-complete:disabled:hover {\n",
              "    background-color: var(--disabled-bg-color);\n",
              "    fill: var(--disabled-fill-color);\n",
              "    box-shadow: none;\n",
              "  }\n",
              "\n",
              "  .colab-df-spinner {\n",
              "    border: 2px solid var(--fill-color);\n",
              "    border-color: transparent;\n",
              "    border-bottom-color: var(--fill-color);\n",
              "    animation:\n",
              "      spin 1s steps(1) infinite;\n",
              "  }\n",
              "\n",
              "  @keyframes spin {\n",
              "    0% {\n",
              "      border-color: transparent;\n",
              "      border-bottom-color: var(--fill-color);\n",
              "      border-left-color: var(--fill-color);\n",
              "    }\n",
              "    20% {\n",
              "      border-color: transparent;\n",
              "      border-left-color: var(--fill-color);\n",
              "      border-top-color: var(--fill-color);\n",
              "    }\n",
              "    30% {\n",
              "      border-color: transparent;\n",
              "      border-left-color: var(--fill-color);\n",
              "      border-top-color: var(--fill-color);\n",
              "      border-right-color: var(--fill-color);\n",
              "    }\n",
              "    40% {\n",
              "      border-color: transparent;\n",
              "      border-right-color: var(--fill-color);\n",
              "      border-top-color: var(--fill-color);\n",
              "    }\n",
              "    60% {\n",
              "      border-color: transparent;\n",
              "      border-right-color: var(--fill-color);\n",
              "    }\n",
              "    80% {\n",
              "      border-color: transparent;\n",
              "      border-right-color: var(--fill-color);\n",
              "      border-bottom-color: var(--fill-color);\n",
              "    }\n",
              "    90% {\n",
              "      border-color: transparent;\n",
              "      border-bottom-color: var(--fill-color);\n",
              "    }\n",
              "  }\n",
              "</style>\n",
              "\n",
              "  <script>\n",
              "    async function quickchart(key) {\n",
              "      const quickchartButtonEl =\n",
              "        document.querySelector('#' + key + ' button');\n",
              "      quickchartButtonEl.disabled = true;  // To prevent multiple clicks.\n",
              "      quickchartButtonEl.classList.add('colab-df-spinner');\n",
              "      try {\n",
              "        const charts = await google.colab.kernel.invokeFunction(\n",
              "            'suggestCharts', [key], {});\n",
              "      } catch (error) {\n",
              "        console.error('Error during call to suggestCharts:', error);\n",
              "      }\n",
              "      quickchartButtonEl.classList.remove('colab-df-spinner');\n",
              "      quickchartButtonEl.classList.add('colab-df-quickchart-complete');\n",
              "    }\n",
              "    (() => {\n",
              "      let quickchartButtonEl =\n",
              "        document.querySelector('#df-0afab83c-3688-41d1-9d54-1130abbbaf23 button');\n",
              "      quickchartButtonEl.style.display =\n",
              "        google.colab.kernel.accessAllowed ? 'block' : 'none';\n",
              "    })();\n",
              "  </script>\n",
              "</div>\n",
              "    </div>\n",
              "  </div>\n"
            ]
          },
          "metadata": {},
          "execution_count": 10
        }
      ]
    },
    {
      "cell_type": "code",
      "source": [
        "y"
      ],
      "metadata": {
        "colab": {
          "base_uri": "https://localhost:8080/"
        },
        "id": "6VTpd3AKGnyh",
        "outputId": "3455501b-a151-4389-90bd-df17b7ec7d9a"
      },
      "execution_count": null,
      "outputs": [
        {
          "output_type": "execute_result",
          "data": {
            "text/plain": [
              "0       150.0\n",
              "1        60.0\n",
              "2        75.0\n",
              "3        68.0\n",
              "6       295.0\n",
              "        ...  \n",
              "2451    103.0\n",
              "2452    115.0\n",
              "2453     75.0\n",
              "2454    181.0\n",
              "2455    275.0\n",
              "Name: price, Length: 1841, dtype: float64"
            ]
          },
          "metadata": {},
          "execution_count": 11
        }
      ]
    },
    {
      "cell_type": "code",
      "source": [
        "# Método de Bi-directional Elimination (Stepwise)\n",
        "sfs_stepwise = SFS(LinearRegression(),\n",
        "                   k_features=6,\n",
        "                   forward=True,\n",
        "                   floating=True,\n",
        "                   scoring='r2',\n",
        "                   cv=5)\n",
        "sfs_stepwise.fit(x, y)\n",
        "selected_features_stepwise = sfs_stepwise.k_feature_names_\n",
        "print(\"Bi-directional Elimination (Stepwise) - Características seleccionadas:\", selected_features_stepwise)"
      ],
      "metadata": {
        "colab": {
          "base_uri": "https://localhost:8080/"
        },
        "id": "Pfp4ZLi2j37i",
        "outputId": "c48a8459-ae2a-47c7-fbd5-8cb82ab524e5"
      },
      "execution_count": null,
      "outputs": [
        {
          "output_type": "stream",
          "name": "stdout",
          "text": [
            "Bi-directional Elimination (Stepwise) - Características seleccionadas: ('host_id', 'latitude', 'longitude', 'price', 'minimum_nights', 'number_of_reviews')\n"
          ]
        }
      ]
    },
    {
      "cell_type": "code",
      "source": [
        "#LIBRERIAS\n",
        "! pip install chart_studio\n",
        "import chart_studio.plotly     as py\n",
        "from sklearn.model_selection import train_test_split\n",
        "from sklearn.linear_model import LinearRegression\n",
        "from sklearn.metrics import mean_absolute_error, mean_squared_error, r2_score"
      ],
      "metadata": {
        "id": "UaO4iNYmgSCo",
        "colab": {
          "base_uri": "https://localhost:8080/"
        },
        "outputId": "bf461711-4e17-4bce-8d1e-24c8f1fbb025"
      },
      "execution_count": null,
      "outputs": [
        {
          "output_type": "stream",
          "name": "stdout",
          "text": [
            "Collecting chart_studio\n",
            "  Downloading chart_studio-1.1.0-py3-none-any.whl (64 kB)\n",
            "\u001b[?25l     \u001b[90m━━━━━━━━━━━━━━━━━━━━━━━━━━━━━━━━━━━━━━━━\u001b[0m \u001b[32m0.0/64.4 kB\u001b[0m \u001b[31m?\u001b[0m eta \u001b[36m-:--:--\u001b[0m\r\u001b[2K     \u001b[90m━━━━━━━━━━━━━━━━━━━━━━━━━━━━━━━━━━━━━━━━\u001b[0m \u001b[32m64.4/64.4 kB\u001b[0m \u001b[31m2.1 MB/s\u001b[0m eta \u001b[36m0:00:00\u001b[0m\n",
            "\u001b[?25hRequirement already satisfied: plotly in /usr/local/lib/python3.10/dist-packages (from chart_studio) (5.15.0)\n",
            "Requirement already satisfied: requests in /usr/local/lib/python3.10/dist-packages (from chart_studio) (2.31.0)\n",
            "Collecting retrying>=1.3.3 (from chart_studio)\n",
            "  Downloading retrying-1.3.4-py3-none-any.whl (11 kB)\n",
            "Requirement already satisfied: six in /usr/local/lib/python3.10/dist-packages (from chart_studio) (1.16.0)\n",
            "Requirement already satisfied: tenacity>=6.2.0 in /usr/local/lib/python3.10/dist-packages (from plotly->chart_studio) (8.2.3)\n",
            "Requirement already satisfied: packaging in /usr/local/lib/python3.10/dist-packages (from plotly->chart_studio) (23.2)\n",
            "Requirement already satisfied: charset-normalizer<4,>=2 in /usr/local/lib/python3.10/dist-packages (from requests->chart_studio) (3.3.2)\n",
            "Requirement already satisfied: idna<4,>=2.5 in /usr/local/lib/python3.10/dist-packages (from requests->chart_studio) (3.6)\n",
            "Requirement already satisfied: urllib3<3,>=1.21.1 in /usr/local/lib/python3.10/dist-packages (from requests->chart_studio) (2.0.7)\n",
            "Requirement already satisfied: certifi>=2017.4.17 in /usr/local/lib/python3.10/dist-packages (from requests->chart_studio) (2023.11.17)\n",
            "Installing collected packages: retrying, chart_studio\n",
            "Successfully installed chart_studio-1.1.0 retrying-1.3.4\n"
          ]
        }
      ]
    },
    {
      "cell_type": "code",
      "source": [
        "#CONFIRMACION DE HIPOTESIS NULA\n",
        "#Regresion lineal - Para confirmar la hipotesis nula de la realcion entre los dias disponibles al año y el precio\n",
        "modelo_lineal = 'price~availability_365'\n",
        "lm1   = sm.ols(formula = modelo_lineal, data = d2).fit()\n",
        "print(lm1.summary())"
      ],
      "metadata": {
        "id": "EbYWwvS-KdY0"
      },
      "execution_count": null,
      "outputs": []
    },
    {
      "cell_type": "markdown",
      "source": [
        "**Resultado:** Viendo que F< Significancia de F. No es posible rechazar la hipotesis nula, la cual corresponde a que no hay variacion de precio en funcion a los dias disponibles al año de las ofertas.\n"
      ],
      "metadata": {
        "id": "5Ne34XBrZkVe"
      }
    },
    {
      "cell_type": "markdown",
      "source": [
        "# **Regresion lineal con seleccion de feature**"
      ],
      "metadata": {
        "id": "XdZ-6zOwlCrz"
      }
    },
    {
      "cell_type": "code",
      "source": [
        "# Features seleccionados:\n",
        "d2_x = d2[['host_id', 'latitude', 'longitude', 'price', 'minimum_nights', 'number_of_reviews']]\n",
        "# Division de datos en conjuntos de entrenamiento y prueba\n",
        "x_train, x_test, y_train, y_test = train_test_split(d2_x, y, test_size=0.2, random_state=42)\n",
        "\n",
        "# Crear un modelo de regresión lineal\n",
        "model = LinearRegression()\n",
        "model.fit(x_train, y_train)\n",
        "\n",
        "# Predecir los valores en el conjunto de prueba\n",
        "y_pred = model.predict(x_test)\n",
        "print(d2_x)"
      ],
      "metadata": {
        "id": "H6JDqKlZaWoN",
        "colab": {
          "base_uri": "https://localhost:8080/"
        },
        "outputId": "6f15ef3a-a291-495f-ee5d-13832cea8191"
      },
      "execution_count": null,
      "outputs": [
        {
          "output_type": "stream",
          "name": "stdout",
          "text": [
            "         host_id  latitude  longitude  price  minimum_nights  \\\n",
            "0         2845.0  40.75356  -73.98559  150.0            30.0   \n",
            "1         7356.0  40.68535  -73.95512   60.0            30.0   \n",
            "2         7490.0  40.80380  -73.96751   75.0             2.0   \n",
            "3         8967.0  40.76457  -73.98317   68.0             2.0   \n",
            "6         8526.0  40.76076  -73.96156  295.0             4.0   \n",
            "...          ...       ...        ...    ...             ...   \n",
            "2451  18678912.0  40.63387  -73.96224  103.0             2.0   \n",
            "2452  10094431.0  40.71649  -73.96180  115.0            30.0   \n",
            "2453  18681479.0  40.74329  -73.92317   75.0            30.0   \n",
            "2454  14961638.0  40.68599  -73.95538  181.0             3.0   \n",
            "2455  17681072.0  40.73223  -73.99265  275.0            60.0   \n",
            "\n",
            "      number_of_reviews  \n",
            "0                  49.0  \n",
            "1                  50.0  \n",
            "2                 118.0  \n",
            "3                 575.0  \n",
            "6                  45.0  \n",
            "...                 ...  \n",
            "2451                9.0  \n",
            "2452               95.0  \n",
            "2453              118.0  \n",
            "2454              110.0  \n",
            "2455               12.0  \n",
            "\n",
            "[1841 rows x 6 columns]\n"
          ]
        }
      ]
    },
    {
      "cell_type": "markdown",
      "source": [
        "# **Metricas de regresion**"
      ],
      "metadata": {
        "id": "8xBgaCiplyKs"
      }
    },
    {
      "cell_type": "code",
      "source": [
        "#MAE\n",
        "mse = mean_absolute_error(y_test, y_pred)\n",
        "print(f\"MSE: {mse}\")"
      ],
      "metadata": {
        "id": "hvnVdRU7jmcl",
        "colab": {
          "base_uri": "https://localhost:8080/"
        },
        "outputId": "ecbe735b-ee5c-4b99-ed77-b47ff79c5465"
      },
      "execution_count": null,
      "outputs": [
        {
          "output_type": "stream",
          "name": "stdout",
          "text": [
            "MSE: 7.812682533434914e-10\n"
          ]
        }
      ]
    },
    {
      "cell_type": "code",
      "source": [
        "#mse\n",
        "mse = mean_squared_error(y_test, y_pred)\n",
        "print(f\"MSE: {mse}\")"
      ],
      "metadata": {
        "id": "OZ9d98Hdl35P",
        "colab": {
          "base_uri": "https://localhost:8080/"
        },
        "outputId": "3c13d493-c635-4198-d7de-ab7ae31c6b8f"
      },
      "execution_count": null,
      "outputs": [
        {
          "output_type": "stream",
          "name": "stdout",
          "text": [
            "MSE: 3.049355065210942e-18\n"
          ]
        }
      ]
    },
    {
      "cell_type": "markdown",
      "source": [
        "El MAE y un MSE bajo indica que las predicciones del modelo están más cerca de los valores reales, lo que es deseable."
      ],
      "metadata": {
        "id": "3HbXqms-mW5H"
      }
    },
    {
      "cell_type": "code",
      "source": [
        "#R2\n",
        "r2 = r2_score(y_test, y_pred)\n",
        "rmse = np.sqrt(mse)\n",
        "\n",
        "print(f\"R^2: {r2}\")"
      ],
      "metadata": {
        "id": "j7HdmVRBmimR",
        "colab": {
          "base_uri": "https://localhost:8080/"
        },
        "outputId": "bab2d226-d90a-48a3-a3b3-d277de0cbc39"
      },
      "execution_count": null,
      "outputs": [
        {
          "output_type": "stream",
          "name": "stdout",
          "text": [
            "R^2: 1.0\n"
          ]
        }
      ]
    },
    {
      "cell_type": "markdown",
      "source": [
        " R2 cercano a 1 indicando que el modelo explica una gran parte de la variabilidad en los datos y se ajusta bien a ellos."
      ],
      "metadata": {
        "id": "YLlDOwVnoIqg"
      }
    },
    {
      "cell_type": "markdown",
      "source": [
        "# **CONCLUSIONES:**\n",
        "\n",
        "A pesar de los buenos valores de las métricas de la regresión lineal en base a los features seleccionados, estos no hacen referencia directamente a caracteristicas que condicionen el precio directamente proporcional a los alquileres. sin embargo, los campos de Log y Lat, pueden interpretarse con mayor detalle en una visualizacions GIS para relacionar los precios en funcion de estas coordenadas, lo que validaria la regresión con la seleccion de estos features."
      ],
      "metadata": {
        "id": "mGJNbw1QohuA"
      }
    },
    {
      "cell_type": "code",
      "source": [],
      "metadata": {
        "id": "Sbhom6xZnXZP"
      },
      "execution_count": null,
      "outputs": []
    }
  ]
}