{
  "nbformat": 4,
  "nbformat_minor": 0,
  "metadata": {
    "colab": {
      "provenance": []
    },
    "kernelspec": {
      "name": "python3",
      "display_name": "Python 3"
    },
    "language_info": {
      "name": "python"
    }
  },
  "cells": [
    {
      "cell_type": "code",
      "execution_count": 1,
      "metadata": {
        "id": "eGgTKpgzgVIf"
      },
      "outputs": [],
      "source": [
        "#Importacion de librerias\n",
        "import pandas as pd\n",
        "from sklearn.impute import SimpleImputer\n",
        "import numpy as np\n",
        "import matplotlib as mpl\n",
        "import matplotlib.pyplot as plt\n",
        "import seaborn as sns"
      ]
    },
    {
      "cell_type": "code",
      "source": [
        "from google.colab import drive\n",
        "drive.mount('/content/drive')"
      ],
      "metadata": {
        "colab": {
          "base_uri": "https://localhost:8080/"
        },
        "id": "Q7vLrLpDIu3o",
        "outputId": "77310512-b721-465a-da52-bd800b559970"
      },
      "execution_count": 2,
      "outputs": [
        {
          "output_type": "stream",
          "name": "stdout",
          "text": [
            "Mounted at /content/drive\n"
          ]
        }
      ]
    },
    {
      "cell_type": "code",
      "source": [
        "datos =pd.read_csv('/content/drive/MyDrive/Colab Notebooks/NYC-Airbnb-2023-data.csv',delimiter=',',header=0)\n",
        "d1 = datos\n",
        "print(d1)"
      ],
      "metadata": {
        "id": "rsOAeG8nMVt4",
        "colab": {
          "base_uri": "https://localhost:8080/"
        },
        "outputId": "ea5b3e72-bbf7-4f44-d990-ddc88f7193a7"
      },
      "execution_count": 3,
      "outputs": [
        {
          "output_type": "stream",
          "name": "stdout",
          "text": [
            "                                                     id  \\\n",
            "0                                                  2595   \n",
            "1                                                  5121   \n",
            "2                                                  5203   \n",
            "3                                                  5178   \n",
            "4     5136,\"Large Sunny Brooklyn Duplex, Patio + Gar...   \n",
            "...                                                 ...   \n",
            "2451                                            3677436   \n",
            "2452                                            3749971   \n",
            "2453                                            3677769   \n",
            "2454                                            3752035   \n",
            "2455                                            3511778   \n",
            "\n",
            "                                    name     host_id  host_name  \\\n",
            "0                  Skylit Midtown Castle      2845.0   Jennifer   \n",
            "1                        BlissArtsSpace!      7356.0      Garon   \n",
            "2     Cozy Clean Guest Room - Family Apt      7490.0  MaryEllen   \n",
            "3       Large Furnished Room Near B'way　      8967.0   Shunichi   \n",
            "4                                    NaN         NaN        NaN   \n",
            "...                                  ...         ...        ...   \n",
            "2451   Spacious 1BR in heart of Brooklyn  18678912.0      Shena   \n",
            "2452  Williamsburg Apt. w/ private patio  10094431.0      Sofia   \n",
            "2453       Beautiful Large Sunny Bedroom  18681479.0     Pamela   \n",
            "2454   New & Modern 2 BR Brownstone Apt.  14961638.0      Elito   \n",
            "2455    10th St / W Village  Junior Loft  17681072.0     Brooks   \n",
            "\n",
            "     neighbourhood_group       neighbourhood  latitude  longitude  \\\n",
            "0              Manhattan             Midtown  40.75356  -73.98559   \n",
            "1               Brooklyn  Bedford-Stuyvesant  40.68535  -73.95512   \n",
            "2              Manhattan     Upper West Side  40.80380  -73.96751   \n",
            "3              Manhattan             Midtown  40.76457  -73.98317   \n",
            "4                    NaN                 NaN       NaN        NaN   \n",
            "...                  ...                 ...       ...        ...   \n",
            "2451            Brooklyn            Flatbush  40.63387  -73.96224   \n",
            "2452            Brooklyn        Williamsburg  40.71649  -73.96180   \n",
            "2453              Queens           Sunnyside  40.74329  -73.92317   \n",
            "2454            Brooklyn  Bedford-Stuyvesant  40.68599  -73.95538   \n",
            "2455           Manhattan   Greenwich Village  40.73223  -73.99265   \n",
            "\n",
            "            room_type  price  minimum_nights  number_of_reviews last_review  \\\n",
            "0     Entire home/apt  150.0            30.0               49.0  2022-06-21   \n",
            "1        Private room   60.0            30.0               50.0  2019-12-02   \n",
            "2        Private room   75.0             2.0              118.0  2017-07-21   \n",
            "3        Private room   68.0             2.0              575.0  2023-02-19   \n",
            "4                 NaN    NaN             NaN                NaN         NaN   \n",
            "...               ...    ...             ...                ...         ...   \n",
            "2451  Entire home/apt  103.0             2.0                9.0  2022-11-26   \n",
            "2452     Private room  115.0            30.0               95.0  2019-12-08   \n",
            "2453     Private room   75.0            30.0              118.0  2020-01-02   \n",
            "2454  Entire home/apt  181.0             3.0              110.0  2023-01-17   \n",
            "2455  Entire home/apt  275.0            60.0               12.0  2016-09-25   \n",
            "\n",
            "      reviews_per_month  calculated_host_listings_count  availability_365  \\\n",
            "0                  0.30                             3.0             314.0   \n",
            "1                  0.30                             2.0             365.0   \n",
            "2                  0.72                             1.0               0.0   \n",
            "3                  3.41                             1.0             106.0   \n",
            "4                   NaN                             NaN               NaN   \n",
            "...                 ...                             ...               ...   \n",
            "2451               0.09                             1.0              63.0   \n",
            "2452               0.91                             1.0               0.0   \n",
            "2453               1.14                             1.0               0.0   \n",
            "2454               1.11                             1.0             153.0   \n",
            "2455               0.11                             1.0             358.0   \n",
            "\n",
            "      number_of_reviews_ltm  license  \n",
            "0                       1.0      NaN  \n",
            "1                       0.0      NaN  \n",
            "2                       0.0      NaN  \n",
            "3                      52.0      NaN  \n",
            "4                       NaN      NaN  \n",
            "...                     ...      ...  \n",
            "2451                    1.0      NaN  \n",
            "2452                    0.0      NaN  \n",
            "2453                    0.0      NaN  \n",
            "2454                   22.0      NaN  \n",
            "2455                    0.0      NaN  \n",
            "\n",
            "[2456 rows x 18 columns]\n"
          ]
        }
      ]
    },
    {
      "cell_type": "code",
      "source": [
        "#Se rellenan los datos \"NaN\" sustituyendolos por el promedio de la columna\n",
        "d1.fillna(d1.mean(), inplace=True)\n",
        "print(d1)\n"
      ],
      "metadata": {
        "id": "tvB8-Og-Nixi",
        "colab": {
          "base_uri": "https://localhost:8080/"
        },
        "outputId": "0e4a5f5a-2b1b-471c-875b-57d83464f08c"
      },
      "execution_count": 4,
      "outputs": [
        {
          "output_type": "stream",
          "name": "stdout",
          "text": [
            "                                                     id  \\\n",
            "0                                                  2595   \n",
            "1                                                  5121   \n",
            "2                                                  5203   \n",
            "3                                                  5178   \n",
            "4     5136,\"Large Sunny Brooklyn Duplex, Patio + Gar...   \n",
            "...                                                 ...   \n",
            "2451                                            3677436   \n",
            "2452                                            3749971   \n",
            "2453                                            3677769   \n",
            "2454                                            3752035   \n",
            "2455                                            3511778   \n",
            "\n",
            "                                    name       host_id  host_name  \\\n",
            "0                  Skylit Midtown Castle  2.845000e+03   Jennifer   \n",
            "1                        BlissArtsSpace!  7.356000e+03      Garon   \n",
            "2     Cozy Clean Guest Room - Family Apt  7.490000e+03  MaryEllen   \n",
            "3       Large Furnished Room Near B'way　  8.967000e+03   Shunichi   \n",
            "4                                    NaN  5.924846e+06        NaN   \n",
            "...                                  ...           ...        ...   \n",
            "2451   Spacious 1BR in heart of Brooklyn  1.867891e+07      Shena   \n",
            "2452  Williamsburg Apt. w/ private patio  1.009443e+07      Sofia   \n",
            "2453       Beautiful Large Sunny Bedroom  1.868148e+07     Pamela   \n",
            "2454   New & Modern 2 BR Brownstone Apt.  1.496164e+07      Elito   \n",
            "2455    10th St / W Village  Junior Loft  1.768107e+07     Brooks   \n",
            "\n",
            "     neighbourhood_group       neighbourhood   latitude  longitude  \\\n",
            "0              Manhattan             Midtown  40.753560 -73.985590   \n",
            "1               Brooklyn  Bedford-Stuyvesant  40.685350 -73.955120   \n",
            "2              Manhattan     Upper West Side  40.803800 -73.967510   \n",
            "3              Manhattan             Midtown  40.764570 -73.983170   \n",
            "4                    NaN                 NaN  40.729836 -73.959123   \n",
            "...                  ...                 ...        ...        ...   \n",
            "2451            Brooklyn            Flatbush  40.633870 -73.962240   \n",
            "2452            Brooklyn        Williamsburg  40.716490 -73.961800   \n",
            "2453              Queens           Sunnyside  40.743290 -73.923170   \n",
            "2454            Brooklyn  Bedford-Stuyvesant  40.685990 -73.955380   \n",
            "2455           Manhattan   Greenwich Village  40.732230 -73.992650   \n",
            "\n",
            "            room_type       price  minimum_nights  number_of_reviews  \\\n",
            "0     Entire home/apt  150.000000       30.000000          49.000000   \n",
            "1        Private room   60.000000       30.000000          50.000000   \n",
            "2        Private room   75.000000        2.000000         118.000000   \n",
            "3        Private room   68.000000        2.000000         575.000000   \n",
            "4                 NaN  195.419214       24.573508          67.557011   \n",
            "...               ...         ...             ...                ...   \n",
            "2451  Entire home/apt  103.000000        2.000000           9.000000   \n",
            "2452     Private room  115.000000       30.000000          95.000000   \n",
            "2453     Private room   75.000000       30.000000         118.000000   \n",
            "2454  Entire home/apt  181.000000        3.000000         110.000000   \n",
            "2455  Entire home/apt  275.000000       60.000000          12.000000   \n",
            "\n",
            "     last_review  reviews_per_month  calculated_host_listings_count  \\\n",
            "0     2022-06-21           0.300000                        3.000000   \n",
            "1     2019-12-02           0.300000                        2.000000   \n",
            "2     2017-07-21           0.720000                        1.000000   \n",
            "3     2023-02-19           3.410000                        1.000000   \n",
            "4            NaN           0.654504                        2.707909   \n",
            "...          ...                ...                             ...   \n",
            "2451  2022-11-26           0.090000                        1.000000   \n",
            "2452  2019-12-08           0.910000                        1.000000   \n",
            "2453  2020-01-02           1.140000                        1.000000   \n",
            "2454  2023-01-17           1.110000                        1.000000   \n",
            "2455  2016-09-25           0.110000                        1.000000   \n",
            "\n",
            "      availability_365  number_of_reviews_ltm  license  \n",
            "0           314.000000               1.000000      NaN  \n",
            "1           365.000000               0.000000      NaN  \n",
            "2             0.000000               0.000000      NaN  \n",
            "3           106.000000              52.000000      NaN  \n",
            "4           118.527899               5.852014      NaN  \n",
            "...                ...                    ...      ...  \n",
            "2451         63.000000               1.000000      NaN  \n",
            "2452          0.000000               0.000000      NaN  \n",
            "2453          0.000000               0.000000      NaN  \n",
            "2454        153.000000              22.000000      NaN  \n",
            "2455        358.000000               0.000000      NaN  \n",
            "\n",
            "[2456 rows x 18 columns]\n"
          ]
        },
        {
          "output_type": "stream",
          "name": "stderr",
          "text": [
            "<ipython-input-4-f4fa8daa1219>:2: FutureWarning: The default value of numeric_only in DataFrame.mean is deprecated. In a future version, it will default to False. In addition, specifying 'numeric_only=None' is deprecated. Select only valid columns or specify the value of numeric_only to silence this warning.\n",
            "  d1.fillna(d1.mean(), inplace=True)\n"
          ]
        }
      ]
    },
    {
      "cell_type": "code",
      "source": [
        "# - Promedio de precios por tipo de alquiler en cada localidad\n",
        "prom_barrios = d1.groupby(['neighbourhood_group', 'room_type'])['price'].mean().reset_index()\n",
        "\n",
        "sns.set(style=\"whitegrid\")\n",
        "plt.figure(figsize=(12, 6))\n",
        "sns.barplot(x=\"room_type\", y=\"price\", hue=\"neighbourhood_group\", data=prom_barrios)\n",
        "\n",
        "\n",
        "plt.title(\"Promedio de Precio por Tipo de Alquiler en Cada Localidad\")\n",
        "plt.xlabel(\"Tipo de Alquiler\")\n",
        "plt.ylabel(\"Precio Promedio\")\n",
        "plt.xticks(rotation=45)\n",
        "plt.legend(bbox_to_anchor=(1, 1), loc='upper left')\n",
        "\n",
        "\n",
        "plt.tight_layout()\n",
        "plt.show()"
      ],
      "metadata": {
        "colab": {
          "base_uri": "https://localhost:8080/",
          "height": 601
        },
        "id": "gOr1NcgZflJw",
        "outputId": "4a933e81-2cf3-4d73-e0ee-54f17ba0fa9d"
      },
      "execution_count": 5,
      "outputs": [
        {
          "output_type": "display_data",
          "data": {
            "text/plain": [
              "<Figure size 1200x600 with 1 Axes>"
            ],
            "image/png": "[encoded data removed]"
          },
          "metadata": {}
        }
      ]
    },
    {
      "cell_type": "markdown",
      "source": [
        "***Promedio de precios por tipo de alquiler en cada localidad***: Viendo los resultados podemos ver que el tipo de alquiler de habitación de hotel solo se encuentra en una sola localidad, mientras que el alquiler entero y habitación privada tiene mayor oferta en todas las localidades con promedios distintos en cada una de ellas.\n"
      ],
      "metadata": {
        "id": "FpMCMgm1tyZY"
      }
    },
    {
      "cell_type": "code",
      "source": [
        "# - Promedio de precios segun el tipo de alquiler mas ofertado.\n",
        "most_rent = d1[d1['room_type'].isin(['Entire home/apt', 'Private room'])]\n",
        "\n",
        "sns.set(style=\"whitegrid\")\n",
        "plt.figure(figsize=(7, 5))\n",
        "sns.barplot(x=\"room_type\", y=\"price\", data=most_rent, ci=None)\n",
        "plt.title(\"Promedio de Precio por Tipo de alquiler\")\n",
        "plt.xlabel(\"Tipo de alquiler\")\n",
        "plt.ylabel(\"Precio Promedio\")\n",
        "\n",
        "plt.tight_layout()\n",
        "plt.show()"
      ],
      "metadata": {
        "colab": {
          "base_uri": "https://localhost:8080/",
          "height": 588
        },
        "id": "5HDTI_0dz8vn",
        "outputId": "e02f7bed-2b94-417e-bd6c-1d6663cc6fa4"
      },
      "execution_count": 6,
      "outputs": [
        {
          "output_type": "stream",
          "name": "stderr",
          "text": [
            "<ipython-input-6-47092e23f078>:6: FutureWarning: \n",
            "\n",
            "The `ci` parameter is deprecated. Use `errorbar=None` for the same effect.\n",
            "\n",
            "  sns.barplot(x=\"room_type\", y=\"price\", data=most_rent, ci=None)\n"
          ]
        },
        {
          "output_type": "display_data",
          "data": {
            "text/plain": [
              "<Figure size 700x500 with 1 Axes>"
            ],
            "image/png": "[encoded data removed]"
          },
          "metadata": {}
        }
      ]
    },
    {
      "cell_type": "markdown",
      "source": [
        "## **SELECCION DE FEATURES / REGRESION / ANALISIS DE METRICAS / CONCLUSIONES**"
      ],
      "metadata": {
        "id": "HIbGtBQ7ph13"
      }
    },
    {
      "cell_type": "code",
      "source": [
        "\n",
        "from sklearn.linear_model import LinearRegression\n",
        "from mlxtend.feature_selection import SequentialFeatureSelector as SFS\n",
        "import statsmodels.formula.api as sm\n",
        "\n",
        "import os"
      ],
      "metadata": {
        "id": "nFL79dxner79"
      },
      "execution_count": 7,
      "outputs": []
    },
    {
      "cell_type": "code",
      "source": [
        "print(most_rent)"
      ],
      "metadata": {
        "colab": {
          "base_uri": "https://localhost:8080/"
        },
        "id": "PN7rtxEx0Gpk",
        "outputId": "8644d4ea-476c-4ef8-fb30-ca2447ea7ed2"
      },
      "execution_count": 8,
      "outputs": [
        {
          "output_type": "stream",
          "name": "stdout",
          "text": [
            "           id                                name     host_id  host_name  \\\n",
            "0        2595               Skylit Midtown Castle      2845.0   Jennifer   \n",
            "1        5121                     BlissArtsSpace!      7356.0      Garon   \n",
            "2        5203  Cozy Clean Guest Room - Family Apt      7490.0  MaryEllen   \n",
            "3        5178    Large Furnished Room Near B'way　      8967.0   Shunichi   \n",
            "6        5586  Rooftop Deck/City Views. Great Apt      8526.0      Susan   \n",
            "...       ...                                 ...         ...        ...   \n",
            "2451  3677436   Spacious 1BR in heart of Brooklyn  18678912.0      Shena   \n",
            "2452  3749971  Williamsburg Apt. w/ private patio  10094431.0      Sofia   \n",
            "2453  3677769       Beautiful Large Sunny Bedroom  18681479.0     Pamela   \n",
            "2454  3752035   New & Modern 2 BR Brownstone Apt.  14961638.0      Elito   \n",
            "2455  3511778    10th St / W Village  Junior Loft  17681072.0     Brooks   \n",
            "\n",
            "     neighbourhood_group       neighbourhood  latitude  longitude  \\\n",
            "0              Manhattan             Midtown  40.75356  -73.98559   \n",
            "1               Brooklyn  Bedford-Stuyvesant  40.68535  -73.95512   \n",
            "2              Manhattan     Upper West Side  40.80380  -73.96751   \n",
            "3              Manhattan             Midtown  40.76457  -73.98317   \n",
            "6              Manhattan     Upper East Side  40.76076  -73.96156   \n",
            "...                  ...                 ...       ...        ...   \n",
            "2451            Brooklyn            Flatbush  40.63387  -73.96224   \n",
            "2452            Brooklyn        Williamsburg  40.71649  -73.96180   \n",
            "2453              Queens           Sunnyside  40.74329  -73.92317   \n",
            "2454            Brooklyn  Bedford-Stuyvesant  40.68599  -73.95538   \n",
            "2455           Manhattan   Greenwich Village  40.73223  -73.99265   \n",
            "\n",
            "            room_type  price  minimum_nights  number_of_reviews last_review  \\\n",
            "0     Entire home/apt  150.0            30.0               49.0  2022-06-21   \n",
            "1        Private room   60.0            30.0               50.0  2019-12-02   \n",
            "2        Private room   75.0             2.0              118.0  2017-07-21   \n",
            "3        Private room   68.0             2.0              575.0  2023-02-19   \n",
            "6     Entire home/apt  295.0             4.0               45.0  2022-10-03   \n",
            "...               ...    ...             ...                ...         ...   \n",
            "2451  Entire home/apt  103.0             2.0                9.0  2022-11-26   \n",
            "2452     Private room  115.0            30.0               95.0  2019-12-08   \n",
            "2453     Private room   75.0            30.0              118.0  2020-01-02   \n",
            "2454  Entire home/apt  181.0             3.0              110.0  2023-01-17   \n",
            "2455  Entire home/apt  275.0            60.0               12.0  2016-09-25   \n",
            "\n",
            "      reviews_per_month  calculated_host_listings_count  availability_365  \\\n",
            "0                  0.30                             3.0             314.0   \n",
            "1                  0.30                             2.0             365.0   \n",
            "2                  0.72                             1.0               0.0   \n",
            "3                  3.41                             1.0             106.0   \n",
            "6                  0.27                             1.0               1.0   \n",
            "...                 ...                             ...               ...   \n",
            "2451               0.09                             1.0              63.0   \n",
            "2452               0.91                             1.0               0.0   \n",
            "2453               1.14                             1.0               0.0   \n",
            "2454               1.11                             1.0             153.0   \n",
            "2455               0.11                             1.0             358.0   \n",
            "\n",
            "      number_of_reviews_ltm  license  \n",
            "0                       1.0      NaN  \n",
            "1                       0.0      NaN  \n",
            "2                       0.0      NaN  \n",
            "3                      52.0      NaN  \n",
            "6                       4.0      NaN  \n",
            "...                     ...      ...  \n",
            "2451                    1.0      NaN  \n",
            "2452                    0.0      NaN  \n",
            "2453                    0.0      NaN  \n",
            "2454                   22.0      NaN  \n",
            "2455                    0.0      NaN  \n",
            "\n",
            "[2036 rows x 18 columns]\n"
          ]
        }
      ]
    },
    {
      "cell_type": "code",
      "source": [
        "# Ajuste de Data Frame para valores numericos\n",
        "d2 = most_rent\n",
        "# Codigo numerico de los barrios\n",
        "codigo_barrio_dic = {\n",
        "    'Manhattan': 100,\n",
        "    'Brooklyn': 200,\n",
        "    'Queens': 300,\n",
        "    'Bronx': 400}\n",
        "\n",
        "room_type_dic = {\n",
        "    'Entire home/apt': 1100,\n",
        "    'Private room': 1200,\n",
        "    'Shared room': 1300,\n",
        "    'Hotel room': 1400}\n",
        "# asignacion de codigos en una nueva columna\n",
        "d2['codigo_barrio']= most_rent['neighbourhood_group'].map(codigo_barrio_dic)\n",
        "d2['codigo_room']= most_rent['room_type'].map(room_type_dic)\n",
        "d2['codigo_barrio'] = pd.to_numeric(d2['codigo_barrio'], downcast='integer', errors='coerce')\n",
        "\n",
        "# completa los campos categoricos con la moda\n",
        "nan_neighbourhood_group = d2['neighbourhood_group'].mode()[0]\n",
        "nan_neighbourhood = d2['neighbourhood'].mode()[0]\n",
        "d2['neighbourhood_group'].fillna(nan_neighbourhood_group, inplace=True)\n",
        "d2['neighbourhood'].fillna(nan_neighbourhood, inplace=True)\n",
        "d2['license'].fillna('0', inplace=True)\n",
        "\n",
        "#elimina los campos vacios\n",
        "d2 = d2.dropna()\n",
        "\n",
        "\n",
        "print(d2)"
      ],
      "metadata": {
        "colab": {
          "base_uri": "https://localhost:8080/"
        },
        "id": "hXarOH61yiSc",
        "outputId": "a5d3e96e-5442-413f-ccce-fdfbd595054a"
      },
      "execution_count": 9,
      "outputs": [
        {
          "output_type": "stream",
          "name": "stdout",
          "text": [
            "           id                                name     host_id  host_name  \\\n",
            "0        2595               Skylit Midtown Castle      2845.0   Jennifer   \n",
            "1        5121                     BlissArtsSpace!      7356.0      Garon   \n",
            "2        5203  Cozy Clean Guest Room - Family Apt      7490.0  MaryEllen   \n",
            "3        5178    Large Furnished Room Near B'way　      8967.0   Shunichi   \n",
            "6        5586  Rooftop Deck/City Views. Great Apt      8526.0      Susan   \n",
            "...       ...                                 ...         ...        ...   \n",
            "2451  3677436   Spacious 1BR in heart of Brooklyn  18678912.0      Shena   \n",
            "2452  3749971  Williamsburg Apt. w/ private patio  10094431.0      Sofia   \n",
            "2453  3677769       Beautiful Large Sunny Bedroom  18681479.0     Pamela   \n",
            "2454  3752035   New & Modern 2 BR Brownstone Apt.  14961638.0      Elito   \n",
            "2455  3511778    10th St / W Village  Junior Loft  17681072.0     Brooks   \n",
            "\n",
            "     neighbourhood_group       neighbourhood  latitude  longitude  \\\n",
            "0              Manhattan             Midtown  40.75356  -73.98559   \n",
            "1               Brooklyn  Bedford-Stuyvesant  40.68535  -73.95512   \n",
            "2              Manhattan     Upper West Side  40.80380  -73.96751   \n",
            "3              Manhattan             Midtown  40.76457  -73.98317   \n",
            "6              Manhattan     Upper East Side  40.76076  -73.96156   \n",
            "...                  ...                 ...       ...        ...   \n",
            "2451            Brooklyn            Flatbush  40.63387  -73.96224   \n",
            "2452            Brooklyn        Williamsburg  40.71649  -73.96180   \n",
            "2453              Queens           Sunnyside  40.74329  -73.92317   \n",
            "2454            Brooklyn  Bedford-Stuyvesant  40.68599  -73.95538   \n",
            "2455           Manhattan   Greenwich Village  40.73223  -73.99265   \n",
            "\n",
            "            room_type  price  minimum_nights  number_of_reviews last_review  \\\n",
            "0     Entire home/apt  150.0            30.0               49.0  2022-06-21   \n",
            "1        Private room   60.0            30.0               50.0  2019-12-02   \n",
            "2        Private room   75.0             2.0              118.0  2017-07-21   \n",
            "3        Private room   68.0             2.0              575.0  2023-02-19   \n",
            "6     Entire home/apt  295.0             4.0               45.0  2022-10-03   \n",
            "...               ...    ...             ...                ...         ...   \n",
            "2451  Entire home/apt  103.0             2.0                9.0  2022-11-26   \n",
            "2452     Private room  115.0            30.0               95.0  2019-12-08   \n",
            "2453     Private room   75.0            30.0              118.0  2020-01-02   \n",
            "2454  Entire home/apt  181.0             3.0              110.0  2023-01-17   \n",
            "2455  Entire home/apt  275.0            60.0               12.0  2016-09-25   \n",
            "\n",
            "      reviews_per_month  calculated_host_listings_count  availability_365  \\\n",
            "0                  0.30                             3.0             314.0   \n",
            "1                  0.30                             2.0             365.0   \n",
            "2                  0.72                             1.0               0.0   \n",
            "3                  3.41                             1.0             106.0   \n",
            "6                  0.27                             1.0               1.0   \n",
            "...                 ...                             ...               ...   \n",
            "2451               0.09                             1.0              63.0   \n",
            "2452               0.91                             1.0               0.0   \n",
            "2453               1.14                             1.0               0.0   \n",
            "2454               1.11                             1.0             153.0   \n",
            "2455               0.11                             1.0             358.0   \n",
            "\n",
            "      number_of_reviews_ltm license  codigo_barrio  codigo_room  \n",
            "0                       1.0       0          100.0         1100  \n",
            "1                       0.0       0          200.0         1200  \n",
            "2                       0.0       0          100.0         1200  \n",
            "3                      52.0       0          100.0         1200  \n",
            "6                       4.0       0          100.0         1100  \n",
            "...                     ...     ...            ...          ...  \n",
            "2451                    1.0       0          200.0         1100  \n",
            "2452                    0.0       0          200.0         1200  \n",
            "2453                    0.0       0          300.0         1200  \n",
            "2454                   22.0       0          200.0         1100  \n",
            "2455                    0.0       0          100.0         1100  \n",
            "\n",
            "[1841 rows x 20 columns]\n"
          ]
        },
        {
          "output_type": "stream",
          "name": "stderr",
          "text": [
            "<ipython-input-9-8a1cfa82add5>:16: SettingWithCopyWarning: \n",
            "A value is trying to be set on a copy of a slice from a DataFrame.\n",
            "Try using .loc[row_indexer,col_indexer] = value instead\n",
            "\n",
            "See the caveats in the documentation: https://pandas.pydata.org/pandas-docs/stable/user_guide/indexing.html#returning-a-view-versus-a-copy\n",
            "  d2['codigo_barrio']= most_rent['neighbourhood_group'].map(codigo_barrio_dic)\n",
            "<ipython-input-9-8a1cfa82add5>:17: SettingWithCopyWarning: \n",
            "A value is trying to be set on a copy of a slice from a DataFrame.\n",
            "Try using .loc[row_indexer,col_indexer] = value instead\n",
            "\n",
            "See the caveats in the documentation: https://pandas.pydata.org/pandas-docs/stable/user_guide/indexing.html#returning-a-view-versus-a-copy\n",
            "  d2['codigo_room']= most_rent['room_type'].map(room_type_dic)\n",
            "<ipython-input-9-8a1cfa82add5>:18: SettingWithCopyWarning: \n",
            "A value is trying to be set on a copy of a slice from a DataFrame.\n",
            "Try using .loc[row_indexer,col_indexer] = value instead\n",
            "\n",
            "See the caveats in the documentation: https://pandas.pydata.org/pandas-docs/stable/user_guide/indexing.html#returning-a-view-versus-a-copy\n",
            "  d2['codigo_barrio'] = pd.to_numeric(d2['codigo_barrio'], downcast='integer', errors='coerce')\n",
            "<ipython-input-9-8a1cfa82add5>:23: SettingWithCopyWarning: \n",
            "A value is trying to be set on a copy of a slice from a DataFrame\n",
            "\n",
            "See the caveats in the documentation: https://pandas.pydata.org/pandas-docs/stable/user_guide/indexing.html#returning-a-view-versus-a-copy\n",
            "  d2['neighbourhood_group'].fillna(nan_neighbourhood_group, inplace=True)\n",
            "<ipython-input-9-8a1cfa82add5>:24: SettingWithCopyWarning: \n",
            "A value is trying to be set on a copy of a slice from a DataFrame\n",
            "\n",
            "See the caveats in the documentation: https://pandas.pydata.org/pandas-docs/stable/user_guide/indexing.html#returning-a-view-versus-a-copy\n",
            "  d2['neighbourhood'].fillna(nan_neighbourhood, inplace=True)\n",
            "<ipython-input-9-8a1cfa82add5>:25: SettingWithCopyWarning: \n",
            "A value is trying to be set on a copy of a slice from a DataFrame\n",
            "\n",
            "See the caveats in the documentation: https://pandas.pydata.org/pandas-docs/stable/user_guide/indexing.html#returning-a-view-versus-a-copy\n",
            "  d2['license'].fillna('0', inplace=True)\n"
          ]
        }
      ]
    },
    {
      "cell_type": "code",
      "source": [
        "# Ajuste de DataFrame para la seleccion de features\n",
        "\n",
        "d2['price'] = most_rent.price\n",
        "features_drop = [\"id\",\"name\",\"host_name\",\"neighbourhood_group\",\"neighbourhood\",\"room_type\",\"last_review\"]\n",
        "x = d2.drop(columns=features_drop)       # Matriz de características\n",
        "y = d2['price']"
      ],
      "metadata": {
        "id": "mO-BJn3Y1xXC",
        "colab": {
          "base_uri": "https://localhost:8080/"
        },
        "outputId": "f8c8e09f-ec50-4bca-cc1b-7266295f78bd"
      },
      "execution_count": 10,
      "outputs": [
        {
          "output_type": "stream",
          "name": "stderr",
          "text": [
            "<ipython-input-10-ab1fe6cbaadc>:3: SettingWithCopyWarning: \n",
            "A value is trying to be set on a copy of a slice from a DataFrame.\n",
            "Try using .loc[row_indexer,col_indexer] = value instead\n",
            "\n",
            "See the caveats in the documentation: https://pandas.pydata.org/pandas-docs/stable/user_guide/indexing.html#returning-a-view-versus-a-copy\n",
            "  d2['price'] = most_rent.price\n"
          ]
        }
      ]
    },
    {
      "cell_type": "code",
      "source": [
        "x"
      ],
      "metadata": {
        "colab": {
          "base_uri": "https://localhost:8080/",
          "height": 443
        },
        "id": "fTHrdPzZotIC",
        "outputId": "4b94379d-2e25-45a5-91a7-1ae91e8eb34a"
      },
      "execution_count": 11,
      "outputs": [
        {
          "output_type": "execute_result",
          "data": {
            "text/plain": [
              "         host_id  latitude  longitude  price  minimum_nights  \\\n",
              "0         2845.0  40.75356  -73.98559  150.0            30.0   \n",
              "1         7356.0  40.68535  -73.95512   60.0            30.0   \n",
              "2         7490.0  40.80380  -73.96751   75.0             2.0   \n",
              "3         8967.0  40.76457  -73.98317   68.0             2.0   \n",
              "6         8526.0  40.76076  -73.96156  295.0             4.0   \n",
              "...          ...       ...        ...    ...             ...   \n",
              "2451  18678912.0  40.63387  -73.96224  103.0             2.0   \n",
              "2452  10094431.0  40.71649  -73.96180  115.0            30.0   \n",
              "2453  18681479.0  40.74329  -73.92317   75.0            30.0   \n",
              "2454  14961638.0  40.68599  -73.95538  181.0             3.0   \n",
              "2455  17681072.0  40.73223  -73.99265  275.0            60.0   \n",
              "\n",
              "      number_of_reviews  reviews_per_month  calculated_host_listings_count  \\\n",
              "0                  49.0               0.30                             3.0   \n",
              "1                  50.0               0.30                             2.0   \n",
              "2                 118.0               0.72                             1.0   \n",
              "3                 575.0               3.41                             1.0   \n",
              "6                  45.0               0.27                             1.0   \n",
              "...                 ...                ...                             ...   \n",
              "2451                9.0               0.09                             1.0   \n",
              "2452               95.0               0.91                             1.0   \n",
              "2453              118.0               1.14                             1.0   \n",
              "2454              110.0               1.11                             1.0   \n",
              "2455               12.0               0.11                             1.0   \n",
              "\n",
              "      availability_365  number_of_reviews_ltm license  codigo_barrio  \\\n",
              "0                314.0                    1.0       0          100.0   \n",
              "1                365.0                    0.0       0          200.0   \n",
              "2                  0.0                    0.0       0          100.0   \n",
              "3                106.0                   52.0       0          100.0   \n",
              "6                  1.0                    4.0       0          100.0   \n",
              "...                ...                    ...     ...            ...   \n",
              "2451              63.0                    1.0       0          200.0   \n",
              "2452               0.0                    0.0       0          200.0   \n",
              "2453               0.0                    0.0       0          300.0   \n",
              "2454             153.0                   22.0       0          200.0   \n",
              "2455             358.0                    0.0       0          100.0   \n",
              "\n",
              "      codigo_room  \n",
              "0            1100  \n",
              "1            1200  \n",
              "2            1200  \n",
              "3            1200  \n",
              "6            1100  \n",
              "...           ...  \n",
              "2451         1100  \n",
              "2452         1200  \n",
              "2453         1200  \n",
              "2454         1100  \n",
              "2455         1100  \n",
              "\n",
              "[1841 rows x 13 columns]"
            ],
            "text/html": [
              "\n",
              "  <div id=\"df-d8e58717-a7fe-4eeb-bd27-db29274f7515\" class=\"colab-df-container\">\n",
              "    <div>\n",
              "<style scoped>\n",
              "    .dataframe tbody tr th:only-of-type {\n",
              "        vertical-align: middle;\n",
              "    }\n",
              "\n",
              "    .dataframe tbody tr th {\n",
              "        vertical-align: top;\n",
              "    }\n",
              "\n",
              "    .dataframe thead th {\n",
              "        text-align: right;\n",
              "    }\n",
              "</style>\n",
              "<table border=\"1\" class=\"dataframe\">\n",
              "  <thead>\n",
              "    <tr style=\"text-align: right;\">\n",
              "      <th></th>\n",
              "      <th>host_id</th>\n",
              "      <th>latitude</th>\n",
              "      <th>longitude</th>\n",
              "      <th>price</th>\n",
              "      <th>minimum_nights</th>\n",
              "      <th>number_of_reviews</th>\n",
              "      <th>reviews_per_month</th>\n",
              "      <th>calculated_host_listings_count</th>\n",
              "      <th>availability_365</th>\n",
              "      <th>number_of_reviews_ltm</th>\n",
              "      <th>license</th>\n",
              "      <th>codigo_barrio</th>\n",
              "      <th>codigo_room</th>\n",
              "    </tr>\n",
              "  </thead>\n",
              "  <tbody>\n",
              "    <tr>\n",
              "      <th>0</th>\n",
              "      <td>2845.0</td>\n",
              "      <td>40.75356</td>\n",
              "      <td>-73.98559</td>\n",
              "      <td>150.0</td>\n",
              "      <td>30.0</td>\n",
              "      <td>49.0</td>\n",
              "      <td>0.30</td>\n",
              "      <td>3.0</td>\n",
              "      <td>314.0</td>\n",
              "      <td>1.0</td>\n",
              "      <td>0</td>\n",
              "      <td>100.0</td>\n",
              "      <td>1100</td>\n",
              "    </tr>\n",
              "    <tr>\n",
              "      <th>1</th>\n",
              "      <td>7356.0</td>\n",
              "      <td>40.68535</td>\n",
              "      <td>-73.95512</td>\n",
              "      <td>60.0</td>\n",
              "      <td>30.0</td>\n",
              "      <td>50.0</td>\n",
              "      <td>0.30</td>\n",
              "      <td>2.0</td>\n",
              "      <td>365.0</td>\n",
              "      <td>0.0</td>\n",
              "      <td>0</td>\n",
              "      <td>200.0</td>\n",
              "      <td>1200</td>\n",
              "    </tr>\n",
              "    <tr>\n",
              "      <th>2</th>\n",
              "      <td>7490.0</td>\n",
              "      <td>40.80380</td>\n",
              "      <td>-73.96751</td>\n",
              "      <td>75.0</td>\n",
              "      <td>2.0</td>\n",
              "      <td>118.0</td>\n",
              "      <td>0.72</td>\n",
              "      <td>1.0</td>\n",
              "      <td>0.0</td>\n",
              "      <td>0.0</td>\n",
              "      <td>0</td>\n",
              "      <td>100.0</td>\n",
              "      <td>1200</td>\n",
              "    </tr>\n",
              "    <tr>\n",
              "      <th>3</th>\n",
              "      <td>8967.0</td>\n",
              "      <td>40.76457</td>\n",
              "      <td>-73.98317</td>\n",
              "      <td>68.0</td>\n",
              "      <td>2.0</td>\n",
              "      <td>575.0</td>\n",
              "      <td>3.41</td>\n",
              "      <td>1.0</td>\n",
              "      <td>106.0</td>\n",
              "      <td>52.0</td>\n",
              "      <td>0</td>\n",
              "      <td>100.0</td>\n",
              "      <td>1200</td>\n",
              "    </tr>\n",
              "    <tr>\n",
              "      <th>6</th>\n",
              "      <td>8526.0</td>\n",
              "      <td>40.76076</td>\n",
              "      <td>-73.96156</td>\n",
              "      <td>295.0</td>\n",
              "      <td>4.0</td>\n",
              "      <td>45.0</td>\n",
              "      <td>0.27</td>\n",
              "      <td>1.0</td>\n",
              "      <td>1.0</td>\n",
              "      <td>4.0</td>\n",
              "      <td>0</td>\n",
              "      <td>100.0</td>\n",
              "      <td>1100</td>\n",
              "    </tr>\n",
              "    <tr>\n",
              "      <th>...</th>\n",
              "      <td>...</td>\n",
              "      <td>...</td>\n",
              "      <td>...</td>\n",
              "      <td>...</td>\n",
              "      <td>...</td>\n",
              "      <td>...</td>\n",
              "      <td>...</td>\n",
              "      <td>...</td>\n",
              "      <td>...</td>\n",
              "      <td>...</td>\n",
              "      <td>...</td>\n",
              "      <td>...</td>\n",
              "      <td>...</td>\n",
              "    </tr>\n",
              "    <tr>\n",
              "      <th>2451</th>\n",
              "      <td>18678912.0</td>\n",
              "      <td>40.63387</td>\n",
              "      <td>-73.96224</td>\n",
              "      <td>103.0</td>\n",
              "      <td>2.0</td>\n",
              "      <td>9.0</td>\n",
              "      <td>0.09</td>\n",
              "      <td>1.0</td>\n",
              "      <td>63.0</td>\n",
              "      <td>1.0</td>\n",
              "      <td>0</td>\n",
              "      <td>200.0</td>\n",
              "      <td>1100</td>\n",
              "    </tr>\n",
              "    <tr>\n",
              "      <th>2452</th>\n",
              "      <td>10094431.0</td>\n",
              "      <td>40.71649</td>\n",
              "      <td>-73.96180</td>\n",
              "      <td>115.0</td>\n",
              "      <td>30.0</td>\n",
              "      <td>95.0</td>\n",
              "      <td>0.91</td>\n",
              "      <td>1.0</td>\n",
              "      <td>0.0</td>\n",
              "      <td>0.0</td>\n",
              "      <td>0</td>\n",
              "      <td>200.0</td>\n",
              "      <td>1200</td>\n",
              "    </tr>\n",
              "    <tr>\n",
              "      <th>2453</th>\n",
              "      <td>18681479.0</td>\n",
              "      <td>40.74329</td>\n",
              "      <td>-73.92317</td>\n",
              "      <td>75.0</td>\n",
              "      <td>30.0</td>\n",
              "      <td>118.0</td>\n",
              "      <td>1.14</td>\n",
              "      <td>1.0</td>\n",
              "      <td>0.0</td>\n",
              "      <td>0.0</td>\n",
              "      <td>0</td>\n",
              "      <td>300.0</td>\n",
              "      <td>1200</td>\n",
              "    </tr>\n",
              "    <tr>\n",
              "      <th>2454</th>\n",
              "      <td>14961638.0</td>\n",
              "      <td>40.68599</td>\n",
              "      <td>-73.95538</td>\n",
              "      <td>181.0</td>\n",
              "      <td>3.0</td>\n",
              "      <td>110.0</td>\n",
              "      <td>1.11</td>\n",
              "      <td>1.0</td>\n",
              "      <td>153.0</td>\n",
              "      <td>22.0</td>\n",
              "      <td>0</td>\n",
              "      <td>200.0</td>\n",
              "      <td>1100</td>\n",
              "    </tr>\n",
              "    <tr>\n",
              "      <th>2455</th>\n",
              "      <td>17681072.0</td>\n",
              "      <td>40.73223</td>\n",
              "      <td>-73.99265</td>\n",
              "      <td>275.0</td>\n",
              "      <td>60.0</td>\n",
              "      <td>12.0</td>\n",
              "      <td>0.11</td>\n",
              "      <td>1.0</td>\n",
              "      <td>358.0</td>\n",
              "      <td>0.0</td>\n",
              "      <td>0</td>\n",
              "      <td>100.0</td>\n",
              "      <td>1100</td>\n",
              "    </tr>\n",
              "  </tbody>\n",
              "</table>\n",
              "<p>1841 rows × 13 columns</p>\n",
              "</div>\n",
              "    <div class=\"colab-df-buttons\">\n",
              "\n",
              "  <div class=\"colab-df-container\">\n",
              "    <button class=\"colab-df-convert\" onclick=\"convertToInteractive('df-d8e58717-a7fe-4eeb-bd27-db29274f7515')\"\n",
              "            title=\"Convert this dataframe to an interactive table.\"\n",
              "            style=\"display:none;\">\n",
              "\n",
              "  <svg xmlns=\"http://www.w3.org/2000/svg\" height=\"24px\" viewBox=\"0 -960 960 960\">\n",
              "    <path d=\"M120-120v-720h720v720H120Zm60-500h600v-160H180v160Zm220 220h160v-160H400v160Zm0 220h160v-160H400v160ZM180-400h160v-160H180v160Zm440 0h160v-160H620v160ZM180-180h160v-160H180v160Zm440 0h160v-160H620v160Z\"/>\n",
              "  </svg>\n",
              "    </button>\n",
              "\n",
              "  <style>\n",
              "    .colab-df-container {\n",
              "      display:flex;\n",
              "      gap: 12px;\n",
              "    }\n",
              "\n",
              "    .colab-df-convert {\n",
              "      background-color: #E8F0FE;\n",
              "      border: none;\n",
              "      border-radius: 50%;\n",
              "      cursor: pointer;\n",
              "      display: none;\n",
              "      fill: #1967D2;\n",
              "      height: 32px;\n",
              "      padding: 0 0 0 0;\n",
              "      width: 32px;\n",
              "    }\n",
              "\n",
              "    .colab-df-convert:hover {\n",
              "      background-color: #E2EBFA;\n",
              "      box-shadow: 0px 1px 2px rgba(60, 64, 67, 0.3), 0px 1px 3px 1px rgba(60, 64, 67, 0.15);\n",
              "      fill: #174EA6;\n",
              "    }\n",
              "\n",
              "    .colab-df-buttons div {\n",
              "      margin-bottom: 4px;\n",
              "    }\n",
              "\n",
              "    [theme=dark] .colab-df-convert {\n",
              "      background-color: #3B4455;\n",
              "      fill: #D2E3FC;\n",
              "    }\n",
              "\n",
              "    [theme=dark] .colab-df-convert:hover {\n",
              "      background-color: #434B5C;\n",
              "      box-shadow: 0px 1px 3px 1px rgba(0, 0, 0, 0.15);\n",
              "      filter: drop-shadow(0px 1px 2px rgba(0, 0, 0, 0.3));\n",
              "      fill: #FFFFFF;\n",
              "    }\n",
              "  </style>\n",
              "\n",
              "    <script>\n",
              "      const buttonEl =\n",
              "        document.querySelector('#df-d8e58717-a7fe-4eeb-bd27-db29274f7515 button.colab-df-convert');\n",
              "      buttonEl.style.display =\n",
              "        google.colab.kernel.accessAllowed ? 'block' : 'none';\n",
              "\n",
              "      async function convertToInteractive(key) {\n",
              "        const element = document.querySelector('#df-d8e58717-a7fe-4eeb-bd27-db29274f7515');\n",
              "        const dataTable =\n",
              "          await google.colab.kernel.invokeFunction('convertToInteractive',\n",
              "                                                    [key], {});\n",
              "        if (!dataTable) return;\n",
              "\n",
              "        const docLinkHtml = 'Like what you see? Visit the ' +\n",
              "          '<a target=\"_blank\" href=https://colab.research.google.com/notebooks/data_table.ipynb>data table notebook</a>'\n",
              "          + ' to learn more about interactive tables.';\n",
              "        element.innerHTML = '';\n",
              "        dataTable['output_type'] = 'display_data';\n",
              "        await google.colab.output.renderOutput(dataTable, element);\n",
              "        const docLink = document.createElement('div');\n",
              "        docLink.innerHTML = docLinkHtml;\n",
              "        element.appendChild(docLink);\n",
              "      }\n",
              "    </script>\n",
              "  </div>\n",
              "\n",
              "\n",
              "<div id=\"df-6749351e-f147-4e3d-be1d-4a47e6534184\">\n",
              "  <button class=\"colab-df-quickchart\" onclick=\"quickchart('df-6749351e-f147-4e3d-be1d-4a47e6534184')\"\n",
              "            title=\"Suggest charts\"\n",
              "            style=\"display:none;\">\n",
              "\n",
              "<svg xmlns=\"http://www.w3.org/2000/svg\" height=\"24px\"viewBox=\"0 0 24 24\"\n",
              "     width=\"24px\">\n",
              "    <g>\n",
              "        <path d=\"M19 3H5c-1.1 0-2 .9-2 2v14c0 1.1.9 2 2 2h14c1.1 0 2-.9 2-2V5c0-1.1-.9-2-2-2zM9 17H7v-7h2v7zm4 0h-2V7h2v10zm4 0h-2v-4h2v4z\"/>\n",
              "    </g>\n",
              "</svg>\n",
              "  </button>\n",
              "\n",
              "<style>\n",
              "  .colab-df-quickchart {\n",
              "      --bg-color: #E8F0FE;\n",
              "      --fill-color: #1967D2;\n",
              "      --hover-bg-color: #E2EBFA;\n",
              "      --hover-fill-color: #174EA6;\n",
              "      --disabled-fill-color: #AAA;\n",
              "      --disabled-bg-color: #DDD;\n",
              "  }\n",
              "\n",
              "  [theme=dark] .colab-df-quickchart {\n",
              "      --bg-color: #3B4455;\n",
              "      --fill-color: #D2E3FC;\n",
              "      --hover-bg-color: #434B5C;\n",
              "      --hover-fill-color: #FFFFFF;\n",
              "      --disabled-bg-color: #3B4455;\n",
              "      --disabled-fill-color: #666;\n",
              "  }\n",
              "\n",
              "  .colab-df-quickchart {\n",
              "    background-color: var(--bg-color);\n",
              "    border: none;\n",
              "    border-radius: 50%;\n",
              "    cursor: pointer;\n",
              "    display: none;\n",
              "    fill: var(--fill-color);\n",
              "    height: 32px;\n",
              "    padding: 0;\n",
              "    width: 32px;\n",
              "  }\n",
              "\n",
              "  .colab-df-quickchart:hover {\n",
              "    background-color: var(--hover-bg-color);\n",
              "    box-shadow: 0 1px 2px rgba(60, 64, 67, 0.3), 0 1px 3px 1px rgba(60, 64, 67, 0.15);\n",
              "    fill: var(--button-hover-fill-color);\n",
              "  }\n",
              "\n",
              "  .colab-df-quickchart-complete:disabled,\n",
              "  .colab-df-quickchart-complete:disabled:hover {\n",
              "    background-color: var(--disabled-bg-color);\n",
              "    fill: var(--disabled-fill-color);\n",
              "    box-shadow: none;\n",
              "  }\n",
              "\n",
              "  .colab-df-spinner {\n",
              "    border: 2px solid var(--fill-color);\n",
              "    border-color: transparent;\n",
              "    border-bottom-color: var(--fill-color);\n",
              "    animation:\n",
              "      spin 1s steps(1) infinite;\n",
              "  }\n",
              "\n",
              "  @keyframes spin {\n",
              "    0% {\n",
              "      border-color: transparent;\n",
              "      border-bottom-color: var(--fill-color);\n",
              "      border-left-color: var(--fill-color);\n",
              "    }\n",
              "    20% {\n",
              "      border-color: transparent;\n",
              "      border-left-color: var(--fill-color);\n",
              "      border-top-color: var(--fill-color);\n",
              "    }\n",
              "    30% {\n",
              "      border-color: transparent;\n",
              "      border-left-color: var(--fill-color);\n",
              "      border-top-color: var(--fill-color);\n",
              "      border-right-color: var(--fill-color);\n",
              "    }\n",
              "    40% {\n",
              "      border-color: transparent;\n",
              "      border-right-color: var(--fill-color);\n",
              "      border-top-color: var(--fill-color);\n",
              "    }\n",
              "    60% {\n",
              "      border-color: transparent;\n",
              "      border-right-color: var(--fill-color);\n",
              "    }\n",
              "    80% {\n",
              "      border-color: transparent;\n",
              "      border-right-color: var(--fill-color);\n",
              "      border-bottom-color: var(--fill-color);\n",
              "    }\n",
              "    90% {\n",
              "      border-color: transparent;\n",
              "      border-bottom-color: var(--fill-color);\n",
              "    }\n",
              "  }\n",
              "</style>\n",
              "\n",
              "  <script>\n",
              "    async function quickchart(key) {\n",
              "      const quickchartButtonEl =\n",
              "        document.querySelector('#' + key + ' button');\n",
              "      quickchartButtonEl.disabled = true;  // To prevent multiple clicks.\n",
              "      quickchartButtonEl.classList.add('colab-df-spinner');\n",
              "      try {\n",
              "        const charts = await google.colab.kernel.invokeFunction(\n",
              "            'suggestCharts', [key], {});\n",
              "      } catch (error) {\n",
              "        console.error('Error during call to suggestCharts:', error);\n",
              "      }\n",
              "      quickchartButtonEl.classList.remove('colab-df-spinner');\n",
              "      quickchartButtonEl.classList.add('colab-df-quickchart-complete');\n",
              "    }\n",
              "    (() => {\n",
              "      let quickchartButtonEl =\n",
              "        document.querySelector('#df-6749351e-f147-4e3d-be1d-4a47e6534184 button');\n",
              "      quickchartButtonEl.style.display =\n",
              "        google.colab.kernel.accessAllowed ? 'block' : 'none';\n",
              "    })();\n",
              "  </script>\n",
              "</div>\n",
              "    </div>\n",
              "  </div>\n"
            ]
          },
          "metadata": {},
          "execution_count": 11
        }
      ]
    },
    {
      "cell_type": "code",
      "source": [
        "y"
      ],
      "metadata": {
        "colab": {
          "base_uri": "https://localhost:8080/"
        },
        "id": "6VTpd3AKGnyh",
        "outputId": "c10632a8-2c11-456f-a77e-4e5016ed5c47"
      },
      "execution_count": 12,
      "outputs": [
        {
          "output_type": "execute_result",
          "data": {
            "text/plain": [
              "0       150.0\n",
              "1        60.0\n",
              "2        75.0\n",
              "3        68.0\n",
              "6       295.0\n",
              "        ...  \n",
              "2451    103.0\n",
              "2452    115.0\n",
              "2453     75.0\n",
              "2454    181.0\n",
              "2455    275.0\n",
              "Name: price, Length: 1841, dtype: float64"
            ]
          },
          "metadata": {},
          "execution_count": 12
        }
      ]
    },
    {
      "cell_type": "code",
      "source": [
        "# Método de Bi-directional Elimination (Stepwise)\n",
        "sfs_stepwise = SFS(LinearRegression(),\n",
        "                   k_features=6,\n",
        "                   forward=True,\n",
        "                   floating=True,\n",
        "                   scoring='r2',\n",
        "                   cv=5)\n",
        "sfs_stepwise.fit(x, y)\n",
        "selected_features_stepwise = sfs_stepwise.k_feature_names_\n",
        "print(\"Bi-directional Elimination (Stepwise) - Características seleccionadas:\", selected_features_stepwise)"
      ],
      "metadata": {
        "colab": {
          "base_uri": "https://localhost:8080/"
        },
        "id": "Pfp4ZLi2j37i",
        "outputId": "c48a8459-ae2a-47c7-fbd5-8cb82ab524e5"
      },
      "execution_count": null,
      "outputs": [
        {
          "output_type": "stream",
          "name": "stdout",
          "text": [
            "Bi-directional Elimination (Stepwise) - Características seleccionadas: ('host_id', 'latitude', 'longitude', 'price', 'minimum_nights', 'number_of_reviews')\n"
          ]
        }
      ]
    },
    {
      "cell_type": "code",
      "source": [
        "#LIBRERIAS\n",
        "! pip install chart_studio\n",
        "import chart_studio.plotly     as py\n",
        "from sklearn.model_selection import train_test_split\n",
        "from sklearn.linear_model import LinearRegression\n",
        "from sklearn.metrics import mean_absolute_error, mean_squared_error, r2_score"
      ],
      "metadata": {
        "id": "UaO4iNYmgSCo",
        "colab": {
          "base_uri": "https://localhost:8080/"
        },
        "outputId": "074965d1-671d-4521-fcd4-3837281477ce"
      },
      "execution_count": 13,
      "outputs": [
        {
          "output_type": "stream",
          "name": "stdout",
          "text": [
            "Collecting chart_studio\n",
            "  Downloading chart_studio-1.1.0-py3-none-any.whl (64 kB)\n",
            "\u001b[2K     \u001b[90m━━━━━━━━━━━━━━━━━━━━━━━━━━━━━━━━━━━━━━━━\u001b[0m \u001b[32m64.4/64.4 kB\u001b[0m \u001b[31m871.2 kB/s\u001b[0m eta \u001b[36m0:00:00\u001b[0m\n",
            "\u001b[?25hRequirement already satisfied: plotly in /usr/local/lib/python3.10/dist-packages (from chart_studio) (5.15.0)\n",
            "Requirement already satisfied: requests in /usr/local/lib/python3.10/dist-packages (from chart_studio) (2.31.0)\n",
            "Collecting retrying>=1.3.3 (from chart_studio)\n",
            "  Downloading retrying-1.3.4-py3-none-any.whl (11 kB)\n",
            "Requirement already satisfied: six in /usr/local/lib/python3.10/dist-packages (from chart_studio) (1.16.0)\n",
            "Requirement already satisfied: tenacity>=6.2.0 in /usr/local/lib/python3.10/dist-packages (from plotly->chart_studio) (8.2.3)\n",
            "Requirement already satisfied: packaging in /usr/local/lib/python3.10/dist-packages (from plotly->chart_studio) (23.2)\n",
            "Requirement already satisfied: charset-normalizer<4,>=2 in /usr/local/lib/python3.10/dist-packages (from requests->chart_studio) (3.3.2)\n",
            "Requirement already satisfied: idna<4,>=2.5 in /usr/local/lib/python3.10/dist-packages (from requests->chart_studio) (3.6)\n",
            "Requirement already satisfied: urllib3<3,>=1.21.1 in /usr/local/lib/python3.10/dist-packages (from requests->chart_studio) (2.0.7)\n",
            "Requirement already satisfied: certifi>=2017.4.17 in /usr/local/lib/python3.10/dist-packages (from requests->chart_studio) (2023.11.17)\n",
            "Installing collected packages: retrying, chart_studio\n",
            "Successfully installed chart_studio-1.1.0 retrying-1.3.4\n"
          ]
        }
      ]
    },
    {
      "cell_type": "markdown",
      "source": [
        "# **Regresion lineal con seleccion de feature**"
      ],
      "metadata": {
        "id": "XdZ-6zOwlCrz"
      }
    },
    {
      "cell_type": "code",
      "source": [],
      "metadata": {
        "id": "ZxWXPPSlAl04"
      },
      "execution_count": null,
      "outputs": []
    },
    {
      "cell_type": "code",
      "source": [
        "# Features seleccionados:\n",
        "d2_x = d2[['host_id', 'latitude', 'longitude', 'minimum_nights', 'number_of_reviews']]\n",
        "# Division de datos en conjuntos de entrenamiento y prueba\n",
        "x_train, x_test, y_train, y_test = train_test_split(d2_x, y, test_size=0.2, random_state=42)\n",
        "\n",
        "# Crear un modelo de regresión lineal\n",
        "model = LinearRegression()\n",
        "model.fit(x_train, y_train)\n",
        "\n",
        "# Predecir los valores en el conjunto de prueba\n",
        "y_pred = model.predict(x_test)\n",
        "print(d2_x)"
      ],
      "metadata": {
        "id": "H6JDqKlZaWoN",
        "colab": {
          "base_uri": "https://localhost:8080/"
        },
        "outputId": "eaca93b5-6e07-446e-921b-a6fb6744da87"
      },
      "execution_count": null,
      "outputs": [
        {
          "output_type": "stream",
          "name": "stdout",
          "text": [
            "         host_id  latitude  longitude  minimum_nights  number_of_reviews\n",
            "0         2845.0  40.75356  -73.98559            30.0               49.0\n",
            "1         7356.0  40.68535  -73.95512            30.0               50.0\n",
            "2         7490.0  40.80380  -73.96751             2.0              118.0\n",
            "3         8967.0  40.76457  -73.98317             2.0              575.0\n",
            "6         8526.0  40.76076  -73.96156             4.0               45.0\n",
            "...          ...       ...        ...             ...                ...\n",
            "2451  18678912.0  40.63387  -73.96224             2.0                9.0\n",
            "2452  10094431.0  40.71649  -73.96180            30.0               95.0\n",
            "2453  18681479.0  40.74329  -73.92317            30.0              118.0\n",
            "2454  14961638.0  40.68599  -73.95538             3.0              110.0\n",
            "2455  17681072.0  40.73223  -73.99265            60.0               12.0\n",
            "\n",
            "[1841 rows x 5 columns]\n"
          ]
        }
      ]
    },
    {
      "cell_type": "markdown",
      "source": [
        "# **Metricas de regresion**"
      ],
      "metadata": {
        "id": "8xBgaCiplyKs"
      }
    },
    {
      "cell_type": "code",
      "source": [
        "#MAE\n",
        "mse = mean_absolute_error(y_test, y_pred)\n",
        "print(f\"MSE: {mse}\")"
      ],
      "metadata": {
        "id": "hvnVdRU7jmcl",
        "colab": {
          "base_uri": "https://localhost:8080/"
        },
        "outputId": "fe2b8578-2518-4eb4-9a4c-05c2b00755d0"
      },
      "execution_count": null,
      "outputs": [
        {
          "output_type": "stream",
          "name": "stdout",
          "text": [
            "MSE: 81.99238553291259\n"
          ]
        }
      ]
    },
    {
      "cell_type": "code",
      "source": [
        "#mse\n",
        "mse = mean_squared_error(y_test, y_pred)\n",
        "print(f\"MSE: {mse}\")"
      ],
      "metadata": {
        "id": "OZ9d98Hdl35P",
        "colab": {
          "base_uri": "https://localhost:8080/"
        },
        "outputId": "7f67a7b3-7d3f-4ac9-c171-a874e219af60"
      },
      "execution_count": null,
      "outputs": [
        {
          "output_type": "stream",
          "name": "stdout",
          "text": [
            "MSE: 15901.682774117638\n"
          ]
        }
      ]
    },
    {
      "cell_type": "markdown",
      "source": [
        "El MAE y un MSE bajo indica que las predicciones del modelo están más cerca de los valores reales, lo que es deseable."
      ],
      "metadata": {
        "id": "3HbXqms-mW5H"
      }
    },
    {
      "cell_type": "code",
      "source": [
        "#R2\n",
        "r2 = r2_score(y_test, y_pred)\n",
        "rmse = np.sqrt(mse)\n",
        "\n",
        "print(f\"R^2: {r2}\")"
      ],
      "metadata": {
        "id": "j7HdmVRBmimR",
        "colab": {
          "base_uri": "https://localhost:8080/"
        },
        "outputId": "2d545e30-956f-4028-9596-9c77fb1cf2fc"
      },
      "execution_count": null,
      "outputs": [
        {
          "output_type": "stream",
          "name": "stdout",
          "text": [
            "R^2: 0.07064849525174943\n"
          ]
        }
      ]
    },
    {
      "cell_type": "markdown",
      "source": [
        " R2 cercano a 1 indicando que el modelo explica una gran parte de la variabilidad en los datos y se ajusta bien a ellos."
      ],
      "metadata": {
        "id": "YLlDOwVnoIqg"
      }
    },
    {
      "cell_type": "code",
      "source": [],
      "metadata": {
        "id": "Z8_JPFB9IFCJ"
      },
      "execution_count": null,
      "outputs": []
    },
    {
      "cell_type": "markdown",
      "source": [
        "## **Regresion Lineal con Random Forest Regressor**"
      ],
      "metadata": {
        "id": "cRAyWsRkBS1L"
      }
    },
    {
      "cell_type": "code",
      "source": [
        "from sklearn.ensemble import RandomForestRegressor\n",
        "# Features seleccionados:\n",
        "d2_x = d2[['host_id', 'latitude', 'longitude', 'minimum_nights', 'number_of_reviews']]\n",
        "# Division de datos en conjuntos de entrenamiento y prueba\n",
        "X_train, X_test, y_train, y_test = train_test_split(d2_x, y, test_size=0.2, shuffle=True)\n",
        "\n",
        "# Crear un modelo de regresión lineal\n",
        "model =RandomForestRegressor(random_state=42, n_estimators=10,max_depth=4)\n",
        "# Ajuste\n",
        "model.fit(X_train,y_train)\n",
        "# Predecir los valores en el conjunto de prueba\n",
        "predicciones= model.predict(X_test)\n"
      ],
      "metadata": {
        "id": "DJ_bAG_VBcJk"
      },
      "execution_count": 99,
      "outputs": []
    },
    {
      "cell_type": "code",
      "source": [
        "#Evaluamos las métricas de regresión con validación simple\n",
        "from sklearn.metrics import mean_squared_error, mean_absolute_error,r2_score\n",
        "print('MSE: ',mean_squared_error(y_true= y_test, y_pred= predicciones))\n",
        "print('MAE: ',mean_absolute_error(y_true= y_test, y_pred= predicciones))\n",
        "print('R2: ',r2_score(y_true= y_test, y_pred= predicciones))"
      ],
      "metadata": {
        "colab": {
          "base_uri": "https://localhost:8080/"
        },
        "id": "AB_aTGVjCJIn",
        "outputId": "b14ff26c-a104-476c-c68d-14c5d2427651"
      },
      "execution_count": 100,
      "outputs": [
        {
          "output_type": "stream",
          "name": "stdout",
          "text": [
            "MSE:  31163.63101871426\n",
            "MAE:  90.27659748827399\n",
            "R2:  0.014971444477601459\n"
          ]
        }
      ]
    },
    {
      "cell_type": "code",
      "source": [
        "#Deteccion de outliers del precio\n",
        "plt.figure(figsize=(12,8))\n",
        "\n",
        "#Boxplot\n",
        "sns.boxplot(x=d2.room_type, y= d2.price, hue=d2.neighbourhood_group)\n",
        "\n",
        "#Contextualizamos el gráfico\n",
        "plt.title('Precio/ Tipo de alquiler')\n",
        "plt.xlabel('Tipo de alquiler')\n",
        "plt.ylabel('Precio')\n",
        "plt.legend(bbox_to_anchor=(1, 1), loc='upper left')\n",
        "\n",
        "\n",
        "plt.tight_layout()\n",
        "plt.show()"
      ],
      "metadata": {
        "colab": {
          "base_uri": "https://localhost:8080/",
          "height": 801
        },
        "id": "pjyAVtWpGCe7",
        "outputId": "55a35ae0-4735-4e90-ca52-cc8df980a699"
      },
      "execution_count": 102,
      "outputs": [
        {
          "output_type": "display_data",
          "data": {
            "text/plain": [
              "<Figure size 1200x800 with 1 Axes>"
            ],
            "image/png": "[encoded data removed]"
          },
          "metadata": {}
        }
      ]
    },
    {
      "cell_type": "code",
      "source": [
        "#Debido a la existencia de outliers muy fuera de rango se procede a filtrar el dataset solo para obtener valores del precio dentro del rango intercuartilico\n",
        "Q1 = d2['price'].quantile(0.25)\n",
        "Q3 = d2['price'].quantile(0.75)\n",
        "IQR = Q3 - Q1\n",
        "filtro = (d2['price'] >= Q1 - 1.5 * IQR) & (d2['price'] <= Q3 + 1.5 * IQR)\n",
        "d3 = d2[filtro]\n",
        "d3.head()"
      ],
      "metadata": {
        "colab": {
          "base_uri": "https://localhost:8080/",
          "height": 399
        },
        "id": "EPCdHhZGIKGn",
        "outputId": "2dc212c8-76c5-4c9e-e41e-6b9d33876bd5"
      },
      "execution_count": 107,
      "outputs": [
        {
          "output_type": "execute_result",
          "data": {
            "text/plain": [
              "     id                                name  host_id  host_name  \\\n",
              "0  2595               Skylit Midtown Castle   2845.0   Jennifer   \n",
              "1  5121                     BlissArtsSpace!   7356.0      Garon   \n",
              "2  5203  Cozy Clean Guest Room - Family Apt   7490.0  MaryEllen   \n",
              "3  5178    Large Furnished Room Near B'way　   8967.0   Shunichi   \n",
              "6  5586  Rooftop Deck/City Views. Great Apt   8526.0      Susan   \n",
              "\n",
              "  neighbourhood_group       neighbourhood  latitude  longitude  \\\n",
              "0           Manhattan             Midtown  40.75356  -73.98559   \n",
              "1            Brooklyn  Bedford-Stuyvesant  40.68535  -73.95512   \n",
              "2           Manhattan     Upper West Side  40.80380  -73.96751   \n",
              "3           Manhattan             Midtown  40.76457  -73.98317   \n",
              "6           Manhattan     Upper East Side  40.76076  -73.96156   \n",
              "\n",
              "         room_type  price  minimum_nights  number_of_reviews last_review  \\\n",
              "0  Entire home/apt  150.0            30.0               49.0  2022-06-21   \n",
              "1     Private room   60.0            30.0               50.0  2019-12-02   \n",
              "2     Private room   75.0             2.0              118.0  2017-07-21   \n",
              "3     Private room   68.0             2.0              575.0  2023-02-19   \n",
              "6  Entire home/apt  295.0             4.0               45.0  2022-10-03   \n",
              "\n",
              "   reviews_per_month  calculated_host_listings_count  availability_365  \\\n",
              "0               0.30                             3.0             314.0   \n",
              "1               0.30                             2.0             365.0   \n",
              "2               0.72                             1.0               0.0   \n",
              "3               3.41                             1.0             106.0   \n",
              "6               0.27                             1.0               1.0   \n",
              "\n",
              "   number_of_reviews_ltm license  codigo_barrio  codigo_room  \n",
              "0                    1.0       0          100.0         1100  \n",
              "1                    0.0       0          200.0         1200  \n",
              "2                    0.0       0          100.0         1200  \n",
              "3                   52.0       0          100.0         1200  \n",
              "6                    4.0       0          100.0         1100  "
            ],
            "text/html": [
              "\n",
              "  <div id=\"df-e4767363-ab1a-4755-a0f4-a85fb98cf2ba\" class=\"colab-df-container\">\n",
              "    <div>\n",
              "<style scoped>\n",
              "    .dataframe tbody tr th:only-of-type {\n",
              "        vertical-align: middle;\n",
              "    }\n",
              "\n",
              "    .dataframe tbody tr th {\n",
              "        vertical-align: top;\n",
              "    }\n",
              "\n",
              "    .dataframe thead th {\n",
              "        text-align: right;\n",
              "    }\n",
              "</style>\n",
              "<table border=\"1\" class=\"dataframe\">\n",
              "  <thead>\n",
              "    <tr style=\"text-align: right;\">\n",
              "      <th></th>\n",
              "      <th>id</th>\n",
              "      <th>name</th>\n",
              "      <th>host_id</th>\n",
              "      <th>host_name</th>\n",
              "      <th>neighbourhood_group</th>\n",
              "      <th>neighbourhood</th>\n",
              "      <th>latitude</th>\n",
              "      <th>longitude</th>\n",
              "      <th>room_type</th>\n",
              "      <th>price</th>\n",
              "      <th>minimum_nights</th>\n",
              "      <th>number_of_reviews</th>\n",
              "      <th>last_review</th>\n",
              "      <th>reviews_per_month</th>\n",
              "      <th>calculated_host_listings_count</th>\n",
              "      <th>availability_365</th>\n",
              "      <th>number_of_reviews_ltm</th>\n",
              "      <th>license</th>\n",
              "      <th>codigo_barrio</th>\n",
              "      <th>codigo_room</th>\n",
              "    </tr>\n",
              "  </thead>\n",
              "  <tbody>\n",
              "    <tr>\n",
              "      <th>0</th>\n",
              "      <td>2595</td>\n",
              "      <td>Skylit Midtown Castle</td>\n",
              "      <td>2845.0</td>\n",
              "      <td>Jennifer</td>\n",
              "      <td>Manhattan</td>\n",
              "      <td>Midtown</td>\n",
              "      <td>40.75356</td>\n",
              "      <td>-73.98559</td>\n",
              "      <td>Entire home/apt</td>\n",
              "      <td>150.0</td>\n",
              "      <td>30.0</td>\n",
              "      <td>49.0</td>\n",
              "      <td>2022-06-21</td>\n",
              "      <td>0.30</td>\n",
              "      <td>3.0</td>\n",
              "      <td>314.0</td>\n",
              "      <td>1.0</td>\n",
              "      <td>0</td>\n",
              "      <td>100.0</td>\n",
              "      <td>1100</td>\n",
              "    </tr>\n",
              "    <tr>\n",
              "      <th>1</th>\n",
              "      <td>5121</td>\n",
              "      <td>BlissArtsSpace!</td>\n",
              "      <td>7356.0</td>\n",
              "      <td>Garon</td>\n",
              "      <td>Brooklyn</td>\n",
              "      <td>Bedford-Stuyvesant</td>\n",
              "      <td>40.68535</td>\n",
              "      <td>-73.95512</td>\n",
              "      <td>Private room</td>\n",
              "      <td>60.0</td>\n",
              "      <td>30.0</td>\n",
              "      <td>50.0</td>\n",
              "      <td>2019-12-02</td>\n",
              "      <td>0.30</td>\n",
              "      <td>2.0</td>\n",
              "      <td>365.0</td>\n",
              "      <td>0.0</td>\n",
              "      <td>0</td>\n",
              "      <td>200.0</td>\n",
              "      <td>1200</td>\n",
              "    </tr>\n",
              "    <tr>\n",
              "      <th>2</th>\n",
              "      <td>5203</td>\n",
              "      <td>Cozy Clean Guest Room - Family Apt</td>\n",
              "      <td>7490.0</td>\n",
              "      <td>MaryEllen</td>\n",
              "      <td>Manhattan</td>\n",
              "      <td>Upper West Side</td>\n",
              "      <td>40.80380</td>\n",
              "      <td>-73.96751</td>\n",
              "      <td>Private room</td>\n",
              "      <td>75.0</td>\n",
              "      <td>2.0</td>\n",
              "      <td>118.0</td>\n",
              "      <td>2017-07-21</td>\n",
              "      <td>0.72</td>\n",
              "      <td>1.0</td>\n",
              "      <td>0.0</td>\n",
              "      <td>0.0</td>\n",
              "      <td>0</td>\n",
              "      <td>100.0</td>\n",
              "      <td>1200</td>\n",
              "    </tr>\n",
              "    <tr>\n",
              "      <th>3</th>\n",
              "      <td>5178</td>\n",
              "      <td>Large Furnished Room Near B'way</td>\n",
              "      <td>8967.0</td>\n",
              "      <td>Shunichi</td>\n",
              "      <td>Manhattan</td>\n",
              "      <td>Midtown</td>\n",
              "      <td>40.76457</td>\n",
              "      <td>-73.98317</td>\n",
              "      <td>Private room</td>\n",
              "      <td>68.0</td>\n",
              "      <td>2.0</td>\n",
              "      <td>575.0</td>\n",
              "      <td>2023-02-19</td>\n",
              "      <td>3.41</td>\n",
              "      <td>1.0</td>\n",
              "      <td>106.0</td>\n",
              "      <td>52.0</td>\n",
              "      <td>0</td>\n",
              "      <td>100.0</td>\n",
              "      <td>1200</td>\n",
              "    </tr>\n",
              "    <tr>\n",
              "      <th>6</th>\n",
              "      <td>5586</td>\n",
              "      <td>Rooftop Deck/City Views. Great Apt</td>\n",
              "      <td>8526.0</td>\n",
              "      <td>Susan</td>\n",
              "      <td>Manhattan</td>\n",
              "      <td>Upper East Side</td>\n",
              "      <td>40.76076</td>\n",
              "      <td>-73.96156</td>\n",
              "      <td>Entire home/apt</td>\n",
              "      <td>295.0</td>\n",
              "      <td>4.0</td>\n",
              "      <td>45.0</td>\n",
              "      <td>2022-10-03</td>\n",
              "      <td>0.27</td>\n",
              "      <td>1.0</td>\n",
              "      <td>1.0</td>\n",
              "      <td>4.0</td>\n",
              "      <td>0</td>\n",
              "      <td>100.0</td>\n",
              "      <td>1100</td>\n",
              "    </tr>\n",
              "  </tbody>\n",
              "</table>\n",
              "</div>\n",
              "    <div class=\"colab-df-buttons\">\n",
              "\n",
              "  <div class=\"colab-df-container\">\n",
              "    <button class=\"colab-df-convert\" onclick=\"convertToInteractive('df-e4767363-ab1a-4755-a0f4-a85fb98cf2ba')\"\n",
              "            title=\"Convert this dataframe to an interactive table.\"\n",
              "            style=\"display:none;\">\n",
              "\n",
              "  <svg xmlns=\"http://www.w3.org/2000/svg\" height=\"24px\" viewBox=\"0 -960 960 960\">\n",
              "    <path d=\"M120-120v-720h720v720H120Zm60-500h600v-160H180v160Zm220 220h160v-160H400v160Zm0 220h160v-160H400v160ZM180-400h160v-160H180v160Zm440 0h160v-160H620v160ZM180-180h160v-160H180v160Zm440 0h160v-160H620v160Z\"/>\n",
              "  </svg>\n",
              "    </button>\n",
              "\n",
              "  <style>\n",
              "    .colab-df-container {\n",
              "      display:flex;\n",
              "      gap: 12px;\n",
              "    }\n",
              "\n",
              "    .colab-df-convert {\n",
              "      background-color: #E8F0FE;\n",
              "      border: none;\n",
              "      border-radius: 50%;\n",
              "      cursor: pointer;\n",
              "      display: none;\n",
              "      fill: #1967D2;\n",
              "      height: 32px;\n",
              "      padding: 0 0 0 0;\n",
              "      width: 32px;\n",
              "    }\n",
              "\n",
              "    .colab-df-convert:hover {\n",
              "      background-color: #E2EBFA;\n",
              "      box-shadow: 0px 1px 2px rgba(60, 64, 67, 0.3), 0px 1px 3px 1px rgba(60, 64, 67, 0.15);\n",
              "      fill: #174EA6;\n",
              "    }\n",
              "\n",
              "    .colab-df-buttons div {\n",
              "      margin-bottom: 4px;\n",
              "    }\n",
              "\n",
              "    [theme=dark] .colab-df-convert {\n",
              "      background-color: #3B4455;\n",
              "      fill: #D2E3FC;\n",
              "    }\n",
              "\n",
              "    [theme=dark] .colab-df-convert:hover {\n",
              "      background-color: #434B5C;\n",
              "      box-shadow: 0px 1px 3px 1px rgba(0, 0, 0, 0.15);\n",
              "      filter: drop-shadow(0px 1px 2px rgba(0, 0, 0, 0.3));\n",
              "      fill: #FFFFFF;\n",
              "    }\n",
              "  </style>\n",
              "\n",
              "    <script>\n",
              "      const buttonEl =\n",
              "        document.querySelector('#df-e4767363-ab1a-4755-a0f4-a85fb98cf2ba button.colab-df-convert');\n",
              "      buttonEl.style.display =\n",
              "        google.colab.kernel.accessAllowed ? 'block' : 'none';\n",
              "\n",
              "      async function convertToInteractive(key) {\n",
              "        const element = document.querySelector('#df-e4767363-ab1a-4755-a0f4-a85fb98cf2ba');\n",
              "        const dataTable =\n",
              "          await google.colab.kernel.invokeFunction('convertToInteractive',\n",
              "                                                    [key], {});\n",
              "        if (!dataTable) return;\n",
              "\n",
              "        const docLinkHtml = 'Like what you see? Visit the ' +\n",
              "          '<a target=\"_blank\" href=https://colab.research.google.com/notebooks/data_table.ipynb>data table notebook</a>'\n",
              "          + ' to learn more about interactive tables.';\n",
              "        element.innerHTML = '';\n",
              "        dataTable['output_type'] = 'display_data';\n",
              "        await google.colab.output.renderOutput(dataTable, element);\n",
              "        const docLink = document.createElement('div');\n",
              "        docLink.innerHTML = docLinkHtml;\n",
              "        element.appendChild(docLink);\n",
              "      }\n",
              "    </script>\n",
              "  </div>\n",
              "\n",
              "\n",
              "<div id=\"df-7835865f-3804-4de9-bf80-7e4cf5858b02\">\n",
              "  <button class=\"colab-df-quickchart\" onclick=\"quickchart('df-7835865f-3804-4de9-bf80-7e4cf5858b02')\"\n",
              "            title=\"Suggest charts\"\n",
              "            style=\"display:none;\">\n",
              "\n",
              "<svg xmlns=\"http://www.w3.org/2000/svg\" height=\"24px\"viewBox=\"0 0 24 24\"\n",
              "     width=\"24px\">\n",
              "    <g>\n",
              "        <path d=\"M19 3H5c-1.1 0-2 .9-2 2v14c0 1.1.9 2 2 2h14c1.1 0 2-.9 2-2V5c0-1.1-.9-2-2-2zM9 17H7v-7h2v7zm4 0h-2V7h2v10zm4 0h-2v-4h2v4z\"/>\n",
              "    </g>\n",
              "</svg>\n",
              "  </button>\n",
              "\n",
              "<style>\n",
              "  .colab-df-quickchart {\n",
              "      --bg-color: #E8F0FE;\n",
              "      --fill-color: #1967D2;\n",
              "      --hover-bg-color: #E2EBFA;\n",
              "      --hover-fill-color: #174EA6;\n",
              "      --disabled-fill-color: #AAA;\n",
              "      --disabled-bg-color: #DDD;\n",
              "  }\n",
              "\n",
              "  [theme=dark] .colab-df-quickchart {\n",
              "      --bg-color: #3B4455;\n",
              "      --fill-color: #D2E3FC;\n",
              "      --hover-bg-color: #434B5C;\n",
              "      --hover-fill-color: #FFFFFF;\n",
              "      --disabled-bg-color: #3B4455;\n",
              "      --disabled-fill-color: #666;\n",
              "  }\n",
              "\n",
              "  .colab-df-quickchart {\n",
              "    background-color: var(--bg-color);\n",
              "    border: none;\n",
              "    border-radius: 50%;\n",
              "    cursor: pointer;\n",
              "    display: none;\n",
              "    fill: var(--fill-color);\n",
              "    height: 32px;\n",
              "    padding: 0;\n",
              "    width: 32px;\n",
              "  }\n",
              "\n",
              "  .colab-df-quickchart:hover {\n",
              "    background-color: var(--hover-bg-color);\n",
              "    box-shadow: 0 1px 2px rgba(60, 64, 67, 0.3), 0 1px 3px 1px rgba(60, 64, 67, 0.15);\n",
              "    fill: var(--button-hover-fill-color);\n",
              "  }\n",
              "\n",
              "  .colab-df-quickchart-complete:disabled,\n",
              "  .colab-df-quickchart-complete:disabled:hover {\n",
              "    background-color: var(--disabled-bg-color);\n",
              "    fill: var(--disabled-fill-color);\n",
              "    box-shadow: none;\n",
              "  }\n",
              "\n",
              "  .colab-df-spinner {\n",
              "    border: 2px solid var(--fill-color);\n",
              "    border-color: transparent;\n",
              "    border-bottom-color: var(--fill-color);\n",
              "    animation:\n",
              "      spin 1s steps(1) infinite;\n",
              "  }\n",
              "\n",
              "  @keyframes spin {\n",
              "    0% {\n",
              "      border-color: transparent;\n",
              "      border-bottom-color: var(--fill-color);\n",
              "      border-left-color: var(--fill-color);\n",
              "    }\n",
              "    20% {\n",
              "      border-color: transparent;\n",
              "      border-left-color: var(--fill-color);\n",
              "      border-top-color: var(--fill-color);\n",
              "    }\n",
              "    30% {\n",
              "      border-color: transparent;\n",
              "      border-left-color: var(--fill-color);\n",
              "      border-top-color: var(--fill-color);\n",
              "      border-right-color: var(--fill-color);\n",
              "    }\n",
              "    40% {\n",
              "      border-color: transparent;\n",
              "      border-right-color: var(--fill-color);\n",
              "      border-top-color: var(--fill-color);\n",
              "    }\n",
              "    60% {\n",
              "      border-color: transparent;\n",
              "      border-right-color: var(--fill-color);\n",
              "    }\n",
              "    80% {\n",
              "      border-color: transparent;\n",
              "      border-right-color: var(--fill-color);\n",
              "      border-bottom-color: var(--fill-color);\n",
              "    }\n",
              "    90% {\n",
              "      border-color: transparent;\n",
              "      border-bottom-color: var(--fill-color);\n",
              "    }\n",
              "  }\n",
              "</style>\n",
              "\n",
              "  <script>\n",
              "    async function quickchart(key) {\n",
              "      const quickchartButtonEl =\n",
              "        document.querySelector('#' + key + ' button');\n",
              "      quickchartButtonEl.disabled = true;  // To prevent multiple clicks.\n",
              "      quickchartButtonEl.classList.add('colab-df-spinner');\n",
              "      try {\n",
              "        const charts = await google.colab.kernel.invokeFunction(\n",
              "            'suggestCharts', [key], {});\n",
              "      } catch (error) {\n",
              "        console.error('Error during call to suggestCharts:', error);\n",
              "      }\n",
              "      quickchartButtonEl.classList.remove('colab-df-spinner');\n",
              "      quickchartButtonEl.classList.add('colab-df-quickchart-complete');\n",
              "    }\n",
              "    (() => {\n",
              "      let quickchartButtonEl =\n",
              "        document.querySelector('#df-7835865f-3804-4de9-bf80-7e4cf5858b02 button');\n",
              "      quickchartButtonEl.style.display =\n",
              "        google.colab.kernel.accessAllowed ? 'block' : 'none';\n",
              "    })();\n",
              "  </script>\n",
              "</div>\n",
              "    </div>\n",
              "  </div>\n"
            ]
          },
          "metadata": {},
          "execution_count": 107
        }
      ]
    },
    {
      "cell_type": "code",
      "source": [
        "#Deteccion de outliers del precio\n",
        "plt.figure(figsize=(12,8))\n",
        "\n",
        "#Boxplot\n",
        "sns.boxplot(x=d3.room_type, y= d3.price, hue=d3.neighbourhood_group)\n",
        "\n",
        "#Contextualizamos el gráfico\n",
        "plt.title('Precio/ Tipo de alquiler')\n",
        "plt.xlabel('Tipo de alquiler')\n",
        "plt.ylabel('Precio')\n",
        "plt.legend(bbox_to_anchor=(1, 1), loc='upper left')\n",
        "\n",
        "\n",
        "plt.tight_layout()\n",
        "plt.show()"
      ],
      "metadata": {
        "colab": {
          "base_uri": "https://localhost:8080/",
          "height": 801
        },
        "id": "9y5Moh64JOmn",
        "outputId": "2073c2b5-c69c-4482-f2de-5c0274f8d693"
      },
      "execution_count": 108,
      "outputs": [
        {
          "output_type": "display_data",
          "data": {
            "text/plain": [
              "<Figure size 1200x800 with 1 Axes>"
            ],
            "image/png": "[encoded data removed]"
          },
          "metadata": {}
        }
      ]
    },
    {
      "cell_type": "code",
      "source": [
        "# Ajuste de DataFrame para la seleccion de features\n",
        "\n",
        "d3['price'] = d2.price\n",
        "features_drop = [\"id\",\"name\",\"host_name\",\"neighbourhood_group\",\"neighbourhood\",\"room_type\",\"last_review\"]\n",
        "x1 = d3.drop(columns=features_drop)       # Matriz de características\n",
        "y1 = d3['price']"
      ],
      "metadata": {
        "colab": {
          "base_uri": "https://localhost:8080/"
        },
        "id": "eeBcgwtcJzZx",
        "outputId": "777db400-6d32-4039-d0d4-b5b6a1ad70ca"
      },
      "execution_count": 109,
      "outputs": [
        {
          "output_type": "stream",
          "name": "stderr",
          "text": [
            "<ipython-input-109-b0ffca2a7e41>:3: SettingWithCopyWarning: \n",
            "A value is trying to be set on a copy of a slice from a DataFrame.\n",
            "Try using .loc[row_indexer,col_indexer] = value instead\n",
            "\n",
            "See the caveats in the documentation: https://pandas.pydata.org/pandas-docs/stable/user_guide/indexing.html#returning-a-view-versus-a-copy\n",
            "  d3['price'] = d2.price\n"
          ]
        }
      ]
    },
    {
      "cell_type": "code",
      "source": [
        "# Método de Bi-directional Elimination (Stepwise)\n",
        "sfs_stepwise = SFS(LinearRegression(),\n",
        "                   k_features=6,\n",
        "                   forward=True,\n",
        "                   floating=True,\n",
        "                   scoring='r2',\n",
        "                   cv=5)\n",
        "sfs_stepwise.fit(x1, y1)\n",
        "selected_features_stepwise = sfs_stepwise.k_feature_names_\n",
        "print(\"Bi-directional Elimination (Stepwise) - Características seleccionadas:\", selected_features_stepwise)"
      ],
      "metadata": {
        "colab": {
          "base_uri": "https://localhost:8080/"
        },
        "id": "A-vRHLPmKH_O",
        "outputId": "6aa257ec-e08e-4058-ce64-9197ff085e91"
      },
      "execution_count": 110,
      "outputs": [
        {
          "output_type": "stream",
          "name": "stdout",
          "text": [
            "Bi-directional Elimination (Stepwise) - Características seleccionadas: ('host_id', 'latitude', 'longitude', 'price', 'minimum_nights', 'number_of_reviews')\n"
          ]
        }
      ]
    },
    {
      "cell_type": "markdown",
      "source": [
        "### **Se creo un modelo nuevo con Random forest Regressor con el nuevo rango de price**"
      ],
      "metadata": {
        "id": "I5V7CLoQLhtW"
      }
    },
    {
      "cell_type": "code",
      "source": [
        "from sklearn.ensemble import RandomForestRegressor\n",
        "# Features seleccionados:\n",
        "d3_x = d3[['host_id', 'latitude', 'longitude', 'minimum_nights', 'number_of_reviews']]\n",
        "# Division de datos en conjuntos de entrenamiento y prueba\n",
        "X1_train, X1_test, y1_train, y1_test = train_test_split(d3_x, y1, test_size=0.2, shuffle=True)\n",
        "\n",
        "# Crear un modelo de regresión lineal\n",
        "model2 =RandomForestRegressor(random_state=42, n_estimators=10,max_depth=10)\n",
        "# Ajuste\n",
        "model2.fit(X1_train,y1_train)\n",
        "# Predecir los valores en el conjunto de prueba\n",
        "prediction= model2.predict(X1_test)"
      ],
      "metadata": {
        "id": "KwHky12ZKRNU"
      },
      "execution_count": 120,
      "outputs": []
    },
    {
      "cell_type": "code",
      "source": [
        "#Evaluamos las métricas de regresión\n",
        "from sklearn.metrics import mean_squared_error, mean_absolute_error,r2_score\n",
        "print('MSE: ',mean_squared_error(y_true= y1_test, y_pred= prediction))\n",
        "print('MAE: ',mean_absolute_error(y_true= y1_test, y_pred= prediction))\n",
        "print('R2: ',r2_score(y_true= y1_test, y_pred= prediction))"
      ],
      "metadata": {
        "colab": {
          "base_uri": "https://localhost:8080/"
        },
        "id": "wnwUFx6eKwJ3",
        "outputId": "6c1c3b7b-0db1-4fa3-e7d6-447cc0521941"
      },
      "execution_count": 121,
      "outputs": [
        {
          "output_type": "stream",
          "name": "stdout",
          "text": [
            "MSE:  4303.906611510973\n",
            "MAE:  51.341521045553186\n",
            "R2:  0.16445144017503233\n"
          ]
        }
      ]
    },
    {
      "cell_type": "markdown",
      "source": [
        "Mejoró mucho el modelo a pesar de no se el mejor, paso de un R2: 0.014 a 0.164"
      ],
      "metadata": {
        "id": "Usm87IfALtaj"
      }
    },
    {
      "cell_type": "markdown",
      "source": [
        "### **Se creo de modelo nuevo con Regresion lineal con el nuevo rango de price**"
      ],
      "metadata": {
        "id": "T-QpTv_lL6Ai"
      }
    },
    {
      "cell_type": "code",
      "source": [
        "# Features seleccionados:\n",
        "d3_x = d3[['host_id', 'latitude', 'longitude', 'minimum_nights', 'number_of_reviews']]\n",
        "# Division de datos en conjuntos de entrenamiento y prueba\n",
        "x2_train, x2_test, y2_train, y2_test = train_test_split(d3_x, y1, test_size=0.2, random_state=42)\n",
        "\n",
        "# Crear un modelo de regresión lineal\n",
        "model3 = LinearRegression()\n",
        "model3.fit(x2_train, y2_train)\n",
        "\n",
        "# Predecir los valores en el conjunto de prueba\n",
        "y2_pred = model3.predict(x2_test)"
      ],
      "metadata": {
        "id": "sWBolaagMC0G"
      },
      "execution_count": 122,
      "outputs": []
    },
    {
      "cell_type": "code",
      "source": [
        "#Evaluamos las métricas de regresión\n",
        "from sklearn.metrics import mean_squared_error, mean_absolute_error,r2_score\n",
        "print('MSE: ',mean_squared_error(y_true= y2_test, y_pred= y2_pred))\n",
        "print('MAE: ',mean_absolute_error(y_true= y2_test, y_pred= y2_pred))\n",
        "print('R2: ',r2_score(y_true= y2_test, y_pred= y2_pred))"
      ],
      "metadata": {
        "colab": {
          "base_uri": "https://localhost:8080/"
        },
        "id": "t8S-NcsrMWle",
        "outputId": "f41d4145-b333-4465-8e77-5a9582db449f"
      },
      "execution_count": 123,
      "outputs": [
        {
          "output_type": "stream",
          "name": "stdout",
          "text": [
            "MSE:  4956.9091797625115\n",
            "MAE:  55.58333241030532\n",
            "R2:  0.06932400662163796\n"
          ]
        }
      ]
    },
    {
      "cell_type": "markdown",
      "source": [
        "No mejoró el valor de R2 paso de 0.070 a 0.069"
      ],
      "metadata": {
        "id": "Pf02riv6M4la"
      }
    },
    {
      "cell_type": "markdown",
      "source": [
        "## **Se puede segmentar la regresion para obtener dos modelos segun el tipo de alquiler, Entire home/apt y Private room**"
      ],
      "metadata": {
        "id": "hY57rLz4OKjs"
      }
    },
    {
      "cell_type": "code",
      "source": [
        "#Separacion de datasets para nuevos modelos\n",
        "d4 = d3[d3['room_type'].isin(['Entire home/apt'])] #Dataset solo de Apto enteros\n",
        "d5 = d3[d3['room_type'].isin(['Private room'])] #Dataset solo de Habitaciones privadas\n"
      ],
      "metadata": {
        "id": "Kjs6X5I-On2j"
      },
      "execution_count": 126,
      "outputs": []
    },
    {
      "cell_type": "code",
      "source": [
        "d4.head()"
      ],
      "metadata": {
        "colab": {
          "base_uri": "https://localhost:8080/",
          "height": 486
        },
        "id": "1jiXyIBRPNcR",
        "outputId": "4334ccb3-0df3-4f99-c911-e3e11250cad1"
      },
      "execution_count": 127,
      "outputs": [
        {
          "output_type": "execute_result",
          "data": {
            "text/plain": [
              "       id                                    name   host_id      host_name  \\\n",
              "0    2595                   Skylit Midtown Castle    2845.0       Jennifer   \n",
              "6    5586      Rooftop Deck/City Views. Great Apt    8526.0          Susan   \n",
              "9    6848        Only 2 stops to Manhattan studio   15991.0  Allen & Irina   \n",
              "11  67288            Central Park 1BR sunny condo  101597.0            Per   \n",
              "12  31555  Luminous Beautiful West Village Studio  135619.0            Tom   \n",
              "\n",
              "   neighbourhood_group    neighbourhood  latitude  longitude        room_type  \\\n",
              "0            Manhattan          Midtown  40.75356  -73.98559  Entire home/apt   \n",
              "6            Manhattan  Upper East Side  40.76076  -73.96156  Entire home/apt   \n",
              "9             Brooklyn     Williamsburg  40.70935  -73.95342  Entire home/apt   \n",
              "11           Manhattan      East Harlem  40.79544  -73.94836  Entire home/apt   \n",
              "12           Manhattan     West Village  40.73405  -74.00281  Entire home/apt   \n",
              "\n",
              "    price  minimum_nights  number_of_reviews last_review  reviews_per_month  \\\n",
              "0   150.0            30.0               49.0  2022-06-21               0.30   \n",
              "6   295.0             4.0               45.0  2022-10-03               0.27   \n",
              "9    81.0            30.0              189.0  2023-02-04               1.13   \n",
              "11  250.0            28.0               47.0  2022-12-14               0.37   \n",
              "12  120.0            30.0               32.0  2021-03-27               0.22   \n",
              "\n",
              "    calculated_host_listings_count  availability_365  number_of_reviews_ltm  \\\n",
              "0                              3.0             314.0                    1.0   \n",
              "6                              1.0               1.0                    4.0   \n",
              "9                              1.0             207.0                    5.0   \n",
              "11                             1.0              81.0                    9.0   \n",
              "12                             1.0               0.0                    0.0   \n",
              "\n",
              "   license  codigo_barrio  codigo_room  \n",
              "0        0          100.0         1100  \n",
              "6        0          100.0         1100  \n",
              "9        0          200.0         1100  \n",
              "11       0          100.0         1100  \n",
              "12       0          100.0         1100  "
            ],
            "text/html": [
              "\n",
              "  <div id=\"df-1d8a6a66-44a0-49cf-9bd6-e2088f1158ef\" class=\"colab-df-container\">\n",
              "    <div>\n",
              "<style scoped>\n",
              "    .dataframe tbody tr th:only-of-type {\n",
              "        vertical-align: middle;\n",
              "    }\n",
              "\n",
              "    .dataframe tbody tr th {\n",
              "        vertical-align: top;\n",
              "    }\n",
              "\n",
              "    .dataframe thead th {\n",
              "        text-align: right;\n",
              "    }\n",
              "</style>\n",
              "<table border=\"1\" class=\"dataframe\">\n",
              "  <thead>\n",
              "    <tr style=\"text-align: right;\">\n",
              "      <th></th>\n",
              "      <th>id</th>\n",
              "      <th>name</th>\n",
              "      <th>host_id</th>\n",
              "      <th>host_name</th>\n",
              "      <th>neighbourhood_group</th>\n",
              "      <th>neighbourhood</th>\n",
              "      <th>latitude</th>\n",
              "      <th>longitude</th>\n",
              "      <th>room_type</th>\n",
              "      <th>price</th>\n",
              "      <th>minimum_nights</th>\n",
              "      <th>number_of_reviews</th>\n",
              "      <th>last_review</th>\n",
              "      <th>reviews_per_month</th>\n",
              "      <th>calculated_host_listings_count</th>\n",
              "      <th>availability_365</th>\n",
              "      <th>number_of_reviews_ltm</th>\n",
              "      <th>license</th>\n",
              "      <th>codigo_barrio</th>\n",
              "      <th>codigo_room</th>\n",
              "    </tr>\n",
              "  </thead>\n",
              "  <tbody>\n",
              "    <tr>\n",
              "      <th>0</th>\n",
              "      <td>2595</td>\n",
              "      <td>Skylit Midtown Castle</td>\n",
              "      <td>2845.0</td>\n",
              "      <td>Jennifer</td>\n",
              "      <td>Manhattan</td>\n",
              "      <td>Midtown</td>\n",
              "      <td>40.75356</td>\n",
              "      <td>-73.98559</td>\n",
              "      <td>Entire home/apt</td>\n",
              "      <td>150.0</td>\n",
              "      <td>30.0</td>\n",
              "      <td>49.0</td>\n",
              "      <td>2022-06-21</td>\n",
              "      <td>0.30</td>\n",
              "      <td>3.0</td>\n",
              "      <td>314.0</td>\n",
              "      <td>1.0</td>\n",
              "      <td>0</td>\n",
              "      <td>100.0</td>\n",
              "      <td>1100</td>\n",
              "    </tr>\n",
              "    <tr>\n",
              "      <th>6</th>\n",
              "      <td>5586</td>\n",
              "      <td>Rooftop Deck/City Views. Great Apt</td>\n",
              "      <td>8526.0</td>\n",
              "      <td>Susan</td>\n",
              "      <td>Manhattan</td>\n",
              "      <td>Upper East Side</td>\n",
              "      <td>40.76076</td>\n",
              "      <td>-73.96156</td>\n",
              "      <td>Entire home/apt</td>\n",
              "      <td>295.0</td>\n",
              "      <td>4.0</td>\n",
              "      <td>45.0</td>\n",
              "      <td>2022-10-03</td>\n",
              "      <td>0.27</td>\n",
              "      <td>1.0</td>\n",
              "      <td>1.0</td>\n",
              "      <td>4.0</td>\n",
              "      <td>0</td>\n",
              "      <td>100.0</td>\n",
              "      <td>1100</td>\n",
              "    </tr>\n",
              "    <tr>\n",
              "      <th>9</th>\n",
              "      <td>6848</td>\n",
              "      <td>Only 2 stops to Manhattan studio</td>\n",
              "      <td>15991.0</td>\n",
              "      <td>Allen &amp; Irina</td>\n",
              "      <td>Brooklyn</td>\n",
              "      <td>Williamsburg</td>\n",
              "      <td>40.70935</td>\n",
              "      <td>-73.95342</td>\n",
              "      <td>Entire home/apt</td>\n",
              "      <td>81.0</td>\n",
              "      <td>30.0</td>\n",
              "      <td>189.0</td>\n",
              "      <td>2023-02-04</td>\n",
              "      <td>1.13</td>\n",
              "      <td>1.0</td>\n",
              "      <td>207.0</td>\n",
              "      <td>5.0</td>\n",
              "      <td>0</td>\n",
              "      <td>200.0</td>\n",
              "      <td>1100</td>\n",
              "    </tr>\n",
              "    <tr>\n",
              "      <th>11</th>\n",
              "      <td>67288</td>\n",
              "      <td>Central Park 1BR sunny condo</td>\n",
              "      <td>101597.0</td>\n",
              "      <td>Per</td>\n",
              "      <td>Manhattan</td>\n",
              "      <td>East Harlem</td>\n",
              "      <td>40.79544</td>\n",
              "      <td>-73.94836</td>\n",
              "      <td>Entire home/apt</td>\n",
              "      <td>250.0</td>\n",
              "      <td>28.0</td>\n",
              "      <td>47.0</td>\n",
              "      <td>2022-12-14</td>\n",
              "      <td>0.37</td>\n",
              "      <td>1.0</td>\n",
              "      <td>81.0</td>\n",
              "      <td>9.0</td>\n",
              "      <td>0</td>\n",
              "      <td>100.0</td>\n",
              "      <td>1100</td>\n",
              "    </tr>\n",
              "    <tr>\n",
              "      <th>12</th>\n",
              "      <td>31555</td>\n",
              "      <td>Luminous Beautiful West Village Studio</td>\n",
              "      <td>135619.0</td>\n",
              "      <td>Tom</td>\n",
              "      <td>Manhattan</td>\n",
              "      <td>West Village</td>\n",
              "      <td>40.73405</td>\n",
              "      <td>-74.00281</td>\n",
              "      <td>Entire home/apt</td>\n",
              "      <td>120.0</td>\n",
              "      <td>30.0</td>\n",
              "      <td>32.0</td>\n",
              "      <td>2021-03-27</td>\n",
              "      <td>0.22</td>\n",
              "      <td>1.0</td>\n",
              "      <td>0.0</td>\n",
              "      <td>0.0</td>\n",
              "      <td>0</td>\n",
              "      <td>100.0</td>\n",
              "      <td>1100</td>\n",
              "    </tr>\n",
              "  </tbody>\n",
              "</table>\n",
              "</div>\n",
              "    <div class=\"colab-df-buttons\">\n",
              "\n",
              "  <div class=\"colab-df-container\">\n",
              "    <button class=\"colab-df-convert\" onclick=\"convertToInteractive('df-1d8a6a66-44a0-49cf-9bd6-e2088f1158ef')\"\n",
              "            title=\"Convert this dataframe to an interactive table.\"\n",
              "            style=\"display:none;\">\n",
              "\n",
              "  <svg xmlns=\"http://www.w3.org/2000/svg\" height=\"24px\" viewBox=\"0 -960 960 960\">\n",
              "    <path d=\"M120-120v-720h720v720H120Zm60-500h600v-160H180v160Zm220 220h160v-160H400v160Zm0 220h160v-160H400v160ZM180-400h160v-160H180v160Zm440 0h160v-160H620v160ZM180-180h160v-160H180v160Zm440 0h160v-160H620v160Z\"/>\n",
              "  </svg>\n",
              "    </button>\n",
              "\n",
              "  <style>\n",
              "    .colab-df-container {\n",
              "      display:flex;\n",
              "      gap: 12px;\n",
              "    }\n",
              "\n",
              "    .colab-df-convert {\n",
              "      background-color: #E8F0FE;\n",
              "      border: none;\n",
              "      border-radius: 50%;\n",
              "      cursor: pointer;\n",
              "      display: none;\n",
              "      fill: #1967D2;\n",
              "      height: 32px;\n",
              "      padding: 0 0 0 0;\n",
              "      width: 32px;\n",
              "    }\n",
              "\n",
              "    .colab-df-convert:hover {\n",
              "      background-color: #E2EBFA;\n",
              "      box-shadow: 0px 1px 2px rgba(60, 64, 67, 0.3), 0px 1px 3px 1px rgba(60, 64, 67, 0.15);\n",
              "      fill: #174EA6;\n",
              "    }\n",
              "\n",
              "    .colab-df-buttons div {\n",
              "      margin-bottom: 4px;\n",
              "    }\n",
              "\n",
              "    [theme=dark] .colab-df-convert {\n",
              "      background-color: #3B4455;\n",
              "      fill: #D2E3FC;\n",
              "    }\n",
              "\n",
              "    [theme=dark] .colab-df-convert:hover {\n",
              "      background-color: #434B5C;\n",
              "      box-shadow: 0px 1px 3px 1px rgba(0, 0, 0, 0.15);\n",
              "      filter: drop-shadow(0px 1px 2px rgba(0, 0, 0, 0.3));\n",
              "      fill: #FFFFFF;\n",
              "    }\n",
              "  </style>\n",
              "\n",
              "    <script>\n",
              "      const buttonEl =\n",
              "        document.querySelector('#df-1d8a6a66-44a0-49cf-9bd6-e2088f1158ef button.colab-df-convert');\n",
              "      buttonEl.style.display =\n",
              "        google.colab.kernel.accessAllowed ? 'block' : 'none';\n",
              "\n",
              "      async function convertToInteractive(key) {\n",
              "        const element = document.querySelector('#df-1d8a6a66-44a0-49cf-9bd6-e2088f1158ef');\n",
              "        const dataTable =\n",
              "          await google.colab.kernel.invokeFunction('convertToInteractive',\n",
              "                                                    [key], {});\n",
              "        if (!dataTable) return;\n",
              "\n",
              "        const docLinkHtml = 'Like what you see? Visit the ' +\n",
              "          '<a target=\"_blank\" href=https://colab.research.google.com/notebooks/data_table.ipynb>data table notebook</a>'\n",
              "          + ' to learn more about interactive tables.';\n",
              "        element.innerHTML = '';\n",
              "        dataTable['output_type'] = 'display_data';\n",
              "        await google.colab.output.renderOutput(dataTable, element);\n",
              "        const docLink = document.createElement('div');\n",
              "        docLink.innerHTML = docLinkHtml;\n",
              "        element.appendChild(docLink);\n",
              "      }\n",
              "    </script>\n",
              "  </div>\n",
              "\n",
              "\n",
              "<div id=\"df-336e035e-7c90-4fc1-8e9c-9d8b56ab19d7\">\n",
              "  <button class=\"colab-df-quickchart\" onclick=\"quickchart('df-336e035e-7c90-4fc1-8e9c-9d8b56ab19d7')\"\n",
              "            title=\"Suggest charts\"\n",
              "            style=\"display:none;\">\n",
              "\n",
              "<svg xmlns=\"http://www.w3.org/2000/svg\" height=\"24px\"viewBox=\"0 0 24 24\"\n",
              "     width=\"24px\">\n",
              "    <g>\n",
              "        <path d=\"M19 3H5c-1.1 0-2 .9-2 2v14c0 1.1.9 2 2 2h14c1.1 0 2-.9 2-2V5c0-1.1-.9-2-2-2zM9 17H7v-7h2v7zm4 0h-2V7h2v10zm4 0h-2v-4h2v4z\"/>\n",
              "    </g>\n",
              "</svg>\n",
              "  </button>\n",
              "\n",
              "<style>\n",
              "  .colab-df-quickchart {\n",
              "      --bg-color: #E8F0FE;\n",
              "      --fill-color: #1967D2;\n",
              "      --hover-bg-color: #E2EBFA;\n",
              "      --hover-fill-color: #174EA6;\n",
              "      --disabled-fill-color: #AAA;\n",
              "      --disabled-bg-color: #DDD;\n",
              "  }\n",
              "\n",
              "  [theme=dark] .colab-df-quickchart {\n",
              "      --bg-color: #3B4455;\n",
              "      --fill-color: #D2E3FC;\n",
              "      --hover-bg-color: #434B5C;\n",
              "      --hover-fill-color: #FFFFFF;\n",
              "      --disabled-bg-color: #3B4455;\n",
              "      --disabled-fill-color: #666;\n",
              "  }\n",
              "\n",
              "  .colab-df-quickchart {\n",
              "    background-color: var(--bg-color);\n",
              "    border: none;\n",
              "    border-radius: 50%;\n",
              "    cursor: pointer;\n",
              "    display: none;\n",
              "    fill: var(--fill-color);\n",
              "    height: 32px;\n",
              "    padding: 0;\n",
              "    width: 32px;\n",
              "  }\n",
              "\n",
              "  .colab-df-quickchart:hover {\n",
              "    background-color: var(--hover-bg-color);\n",
              "    box-shadow: 0 1px 2px rgba(60, 64, 67, 0.3), 0 1px 3px 1px rgba(60, 64, 67, 0.15);\n",
              "    fill: var(--button-hover-fill-color);\n",
              "  }\n",
              "\n",
              "  .colab-df-quickchart-complete:disabled,\n",
              "  .colab-df-quickchart-complete:disabled:hover {\n",
              "    background-color: var(--disabled-bg-color);\n",
              "    fill: var(--disabled-fill-color);\n",
              "    box-shadow: none;\n",
              "  }\n",
              "\n",
              "  .colab-df-spinner {\n",
              "    border: 2px solid var(--fill-color);\n",
              "    border-color: transparent;\n",
              "    border-bottom-color: var(--fill-color);\n",
              "    animation:\n",
              "      spin 1s steps(1) infinite;\n",
              "  }\n",
              "\n",
              "  @keyframes spin {\n",
              "    0% {\n",
              "      border-color: transparent;\n",
              "      border-bottom-color: var(--fill-color);\n",
              "      border-left-color: var(--fill-color);\n",
              "    }\n",
              "    20% {\n",
              "      border-color: transparent;\n",
              "      border-left-color: var(--fill-color);\n",
              "      border-top-color: var(--fill-color);\n",
              "    }\n",
              "    30% {\n",
              "      border-color: transparent;\n",
              "      border-left-color: var(--fill-color);\n",
              "      border-top-color: var(--fill-color);\n",
              "      border-right-color: var(--fill-color);\n",
              "    }\n",
              "    40% {\n",
              "      border-color: transparent;\n",
              "      border-right-color: var(--fill-color);\n",
              "      border-top-color: var(--fill-color);\n",
              "    }\n",
              "    60% {\n",
              "      border-color: transparent;\n",
              "      border-right-color: var(--fill-color);\n",
              "    }\n",
              "    80% {\n",
              "      border-color: transparent;\n",
              "      border-right-color: var(--fill-color);\n",
              "      border-bottom-color: var(--fill-color);\n",
              "    }\n",
              "    90% {\n",
              "      border-color: transparent;\n",
              "      border-bottom-color: var(--fill-color);\n",
              "    }\n",
              "  }\n",
              "</style>\n",
              "\n",
              "  <script>\n",
              "    async function quickchart(key) {\n",
              "      const quickchartButtonEl =\n",
              "        document.querySelector('#' + key + ' button');\n",
              "      quickchartButtonEl.disabled = true;  // To prevent multiple clicks.\n",
              "      quickchartButtonEl.classList.add('colab-df-spinner');\n",
              "      try {\n",
              "        const charts = await google.colab.kernel.invokeFunction(\n",
              "            'suggestCharts', [key], {});\n",
              "      } catch (error) {\n",
              "        console.error('Error during call to suggestCharts:', error);\n",
              "      }\n",
              "      quickchartButtonEl.classList.remove('colab-df-spinner');\n",
              "      quickchartButtonEl.classList.add('colab-df-quickchart-complete');\n",
              "    }\n",
              "    (() => {\n",
              "      let quickchartButtonEl =\n",
              "        document.querySelector('#df-336e035e-7c90-4fc1-8e9c-9d8b56ab19d7 button');\n",
              "      quickchartButtonEl.style.display =\n",
              "        google.colab.kernel.accessAllowed ? 'block' : 'none';\n",
              "    })();\n",
              "  </script>\n",
              "</div>\n",
              "    </div>\n",
              "  </div>\n"
            ]
          },
          "metadata": {},
          "execution_count": 127
        }
      ]
    },
    {
      "cell_type": "code",
      "source": [
        "d5.head()"
      ],
      "metadata": {
        "colab": {
          "base_uri": "https://localhost:8080/",
          "height": 417
        },
        "id": "YycjVzrlPRiV",
        "outputId": "c9934bc2-adc6-42ba-bd0e-5da0013ad280"
      },
      "execution_count": 128,
      "outputs": [
        {
          "output_type": "execute_result",
          "data": {
            "text/plain": [
              "       id                                               name   host_id  \\\n",
              "1    5121                                    BlissArtsSpace!    7356.0   \n",
              "2    5203                 Cozy Clean Guest Room - Family Apt    7490.0   \n",
              "3    5178                   Large Furnished Room Near B'way　    8967.0   \n",
              "8   31130                             Most Central Location!  117287.0   \n",
              "10   6872  Uptown Sanctuary w/ Private Bath (Month to Month)   16104.0   \n",
              "\n",
              "      host_name neighbourhood_group       neighbourhood  latitude  longitude  \\\n",
              "1         Garon            Brooklyn  Bedford-Stuyvesant  40.68535  -73.95512   \n",
              "2     MaryEllen           Manhattan     Upper West Side  40.80380  -73.96751   \n",
              "3      Shunichi           Manhattan             Midtown  40.76457  -73.98317   \n",
              "8   Lara Nicole           Manhattan      Hell's Kitchen  40.76720  -73.98464   \n",
              "10          Kae           Manhattan         East Harlem  40.80107  -73.94255   \n",
              "\n",
              "       room_type  price  minimum_nights  number_of_reviews last_review  \\\n",
              "1   Private room   60.0            30.0               50.0  2019-12-02   \n",
              "2   Private room   75.0             2.0              118.0  2017-07-21   \n",
              "3   Private room   68.0             2.0              575.0  2023-02-19   \n",
              "8   Private room  200.0             1.0               68.0  2021-10-01   \n",
              "10  Private room   65.0            30.0                1.0  2022-06-05   \n",
              "\n",
              "    reviews_per_month  calculated_host_listings_count  availability_365  \\\n",
              "1                0.30                             2.0             365.0   \n",
              "2                0.72                             1.0               0.0   \n",
              "3                3.41                             1.0             106.0   \n",
              "8                0.44                             4.0             310.0   \n",
              "10               0.11                             2.0             204.0   \n",
              "\n",
              "    number_of_reviews_ltm license  codigo_barrio  codigo_room  \n",
              "1                     0.0       0          200.0         1200  \n",
              "2                     0.0       0          100.0         1200  \n",
              "3                    52.0       0          100.0         1200  \n",
              "8                     0.0       0          100.0         1200  \n",
              "10                    1.0       0          100.0         1200  "
            ],
            "text/html": [
              "\n",
              "  <div id=\"df-d8e59a6d-f4ff-44fb-af27-e506dd778e8f\" class=\"colab-df-container\">\n",
              "    <div>\n",
              "<style scoped>\n",
              "    .dataframe tbody tr th:only-of-type {\n",
              "        vertical-align: middle;\n",
              "    }\n",
              "\n",
              "    .dataframe tbody tr th {\n",
              "        vertical-align: top;\n",
              "    }\n",
              "\n",
              "    .dataframe thead th {\n",
              "        text-align: right;\n",
              "    }\n",
              "</style>\n",
              "<table border=\"1\" class=\"dataframe\">\n",
              "  <thead>\n",
              "    <tr style=\"text-align: right;\">\n",
              "      <th></th>\n",
              "      <th>id</th>\n",
              "      <th>name</th>\n",
              "      <th>host_id</th>\n",
              "      <th>host_name</th>\n",
              "      <th>neighbourhood_group</th>\n",
              "      <th>neighbourhood</th>\n",
              "      <th>latitude</th>\n",
              "      <th>longitude</th>\n",
              "      <th>room_type</th>\n",
              "      <th>price</th>\n",
              "      <th>minimum_nights</th>\n",
              "      <th>number_of_reviews</th>\n",
              "      <th>last_review</th>\n",
              "      <th>reviews_per_month</th>\n",
              "      <th>calculated_host_listings_count</th>\n",
              "      <th>availability_365</th>\n",
              "      <th>number_of_reviews_ltm</th>\n",
              "      <th>license</th>\n",
              "      <th>codigo_barrio</th>\n",
              "      <th>codigo_room</th>\n",
              "    </tr>\n",
              "  </thead>\n",
              "  <tbody>\n",
              "    <tr>\n",
              "      <th>1</th>\n",
              "      <td>5121</td>\n",
              "      <td>BlissArtsSpace!</td>\n",
              "      <td>7356.0</td>\n",
              "      <td>Garon</td>\n",
              "      <td>Brooklyn</td>\n",
              "      <td>Bedford-Stuyvesant</td>\n",
              "      <td>40.68535</td>\n",
              "      <td>-73.95512</td>\n",
              "      <td>Private room</td>\n",
              "      <td>60.0</td>\n",
              "      <td>30.0</td>\n",
              "      <td>50.0</td>\n",
              "      <td>2019-12-02</td>\n",
              "      <td>0.30</td>\n",
              "      <td>2.0</td>\n",
              "      <td>365.0</td>\n",
              "      <td>0.0</td>\n",
              "      <td>0</td>\n",
              "      <td>200.0</td>\n",
              "      <td>1200</td>\n",
              "    </tr>\n",
              "    <tr>\n",
              "      <th>2</th>\n",
              "      <td>5203</td>\n",
              "      <td>Cozy Clean Guest Room - Family Apt</td>\n",
              "      <td>7490.0</td>\n",
              "      <td>MaryEllen</td>\n",
              "      <td>Manhattan</td>\n",
              "      <td>Upper West Side</td>\n",
              "      <td>40.80380</td>\n",
              "      <td>-73.96751</td>\n",
              "      <td>Private room</td>\n",
              "      <td>75.0</td>\n",
              "      <td>2.0</td>\n",
              "      <td>118.0</td>\n",
              "      <td>2017-07-21</td>\n",
              "      <td>0.72</td>\n",
              "      <td>1.0</td>\n",
              "      <td>0.0</td>\n",
              "      <td>0.0</td>\n",
              "      <td>0</td>\n",
              "      <td>100.0</td>\n",
              "      <td>1200</td>\n",
              "    </tr>\n",
              "    <tr>\n",
              "      <th>3</th>\n",
              "      <td>5178</td>\n",
              "      <td>Large Furnished Room Near B'way</td>\n",
              "      <td>8967.0</td>\n",
              "      <td>Shunichi</td>\n",
              "      <td>Manhattan</td>\n",
              "      <td>Midtown</td>\n",
              "      <td>40.76457</td>\n",
              "      <td>-73.98317</td>\n",
              "      <td>Private room</td>\n",
              "      <td>68.0</td>\n",
              "      <td>2.0</td>\n",
              "      <td>575.0</td>\n",
              "      <td>2023-02-19</td>\n",
              "      <td>3.41</td>\n",
              "      <td>1.0</td>\n",
              "      <td>106.0</td>\n",
              "      <td>52.0</td>\n",
              "      <td>0</td>\n",
              "      <td>100.0</td>\n",
              "      <td>1200</td>\n",
              "    </tr>\n",
              "    <tr>\n",
              "      <th>8</th>\n",
              "      <td>31130</td>\n",
              "      <td>Most Central Location!</td>\n",
              "      <td>117287.0</td>\n",
              "      <td>Lara Nicole</td>\n",
              "      <td>Manhattan</td>\n",
              "      <td>Hell's Kitchen</td>\n",
              "      <td>40.76720</td>\n",
              "      <td>-73.98464</td>\n",
              "      <td>Private room</td>\n",
              "      <td>200.0</td>\n",
              "      <td>1.0</td>\n",
              "      <td>68.0</td>\n",
              "      <td>2021-10-01</td>\n",
              "      <td>0.44</td>\n",
              "      <td>4.0</td>\n",
              "      <td>310.0</td>\n",
              "      <td>0.0</td>\n",
              "      <td>0</td>\n",
              "      <td>100.0</td>\n",
              "      <td>1200</td>\n",
              "    </tr>\n",
              "    <tr>\n",
              "      <th>10</th>\n",
              "      <td>6872</td>\n",
              "      <td>Uptown Sanctuary w/ Private Bath (Month to Month)</td>\n",
              "      <td>16104.0</td>\n",
              "      <td>Kae</td>\n",
              "      <td>Manhattan</td>\n",
              "      <td>East Harlem</td>\n",
              "      <td>40.80107</td>\n",
              "      <td>-73.94255</td>\n",
              "      <td>Private room</td>\n",
              "      <td>65.0</td>\n",
              "      <td>30.0</td>\n",
              "      <td>1.0</td>\n",
              "      <td>2022-06-05</td>\n",
              "      <td>0.11</td>\n",
              "      <td>2.0</td>\n",
              "      <td>204.0</td>\n",
              "      <td>1.0</td>\n",
              "      <td>0</td>\n",
              "      <td>100.0</td>\n",
              "      <td>1200</td>\n",
              "    </tr>\n",
              "  </tbody>\n",
              "</table>\n",
              "</div>\n",
              "    <div class=\"colab-df-buttons\">\n",
              "\n",
              "  <div class=\"colab-df-container\">\n",
              "    <button class=\"colab-df-convert\" onclick=\"convertToInteractive('df-d8e59a6d-f4ff-44fb-af27-e506dd778e8f')\"\n",
              "            title=\"Convert this dataframe to an interactive table.\"\n",
              "            style=\"display:none;\">\n",
              "\n",
              "  <svg xmlns=\"http://www.w3.org/2000/svg\" height=\"24px\" viewBox=\"0 -960 960 960\">\n",
              "    <path d=\"M120-120v-720h720v720H120Zm60-500h600v-160H180v160Zm220 220h160v-160H400v160Zm0 220h160v-160H400v160ZM180-400h160v-160H180v160Zm440 0h160v-160H620v160ZM180-180h160v-160H180v160Zm440 0h160v-160H620v160Z\"/>\n",
              "  </svg>\n",
              "    </button>\n",
              "\n",
              "  <style>\n",
              "    .colab-df-container {\n",
              "      display:flex;\n",
              "      gap: 12px;\n",
              "    }\n",
              "\n",
              "    .colab-df-convert {\n",
              "      background-color: #E8F0FE;\n",
              "      border: none;\n",
              "      border-radius: 50%;\n",
              "      cursor: pointer;\n",
              "      display: none;\n",
              "      fill: #1967D2;\n",
              "      height: 32px;\n",
              "      padding: 0 0 0 0;\n",
              "      width: 32px;\n",
              "    }\n",
              "\n",
              "    .colab-df-convert:hover {\n",
              "      background-color: #E2EBFA;\n",
              "      box-shadow: 0px 1px 2px rgba(60, 64, 67, 0.3), 0px 1px 3px 1px rgba(60, 64, 67, 0.15);\n",
              "      fill: #174EA6;\n",
              "    }\n",
              "\n",
              "    .colab-df-buttons div {\n",
              "      margin-bottom: 4px;\n",
              "    }\n",
              "\n",
              "    [theme=dark] .colab-df-convert {\n",
              "      background-color: #3B4455;\n",
              "      fill: #D2E3FC;\n",
              "    }\n",
              "\n",
              "    [theme=dark] .colab-df-convert:hover {\n",
              "      background-color: #434B5C;\n",
              "      box-shadow: 0px 1px 3px 1px rgba(0, 0, 0, 0.15);\n",
              "      filter: drop-shadow(0px 1px 2px rgba(0, 0, 0, 0.3));\n",
              "      fill: #FFFFFF;\n",
              "    }\n",
              "  </style>\n",
              "\n",
              "    <script>\n",
              "      const buttonEl =\n",
              "        document.querySelector('#df-d8e59a6d-f4ff-44fb-af27-e506dd778e8f button.colab-df-convert');\n",
              "      buttonEl.style.display =\n",
              "        google.colab.kernel.accessAllowed ? 'block' : 'none';\n",
              "\n",
              "      async function convertToInteractive(key) {\n",
              "        const element = document.querySelector('#df-d8e59a6d-f4ff-44fb-af27-e506dd778e8f');\n",
              "        const dataTable =\n",
              "          await google.colab.kernel.invokeFunction('convertToInteractive',\n",
              "                                                    [key], {});\n",
              "        if (!dataTable) return;\n",
              "\n",
              "        const docLinkHtml = 'Like what you see? Visit the ' +\n",
              "          '<a target=\"_blank\" href=https://colab.research.google.com/notebooks/data_table.ipynb>data table notebook</a>'\n",
              "          + ' to learn more about interactive tables.';\n",
              "        element.innerHTML = '';\n",
              "        dataTable['output_type'] = 'display_data';\n",
              "        await google.colab.output.renderOutput(dataTable, element);\n",
              "        const docLink = document.createElement('div');\n",
              "        docLink.innerHTML = docLinkHtml;\n",
              "        element.appendChild(docLink);\n",
              "      }\n",
              "    </script>\n",
              "  </div>\n",
              "\n",
              "\n",
              "<div id=\"df-012226fc-b915-486d-87a4-e37e2d458346\">\n",
              "  <button class=\"colab-df-quickchart\" onclick=\"quickchart('df-012226fc-b915-486d-87a4-e37e2d458346')\"\n",
              "            title=\"Suggest charts\"\n",
              "            style=\"display:none;\">\n",
              "\n",
              "<svg xmlns=\"http://www.w3.org/2000/svg\" height=\"24px\"viewBox=\"0 0 24 24\"\n",
              "     width=\"24px\">\n",
              "    <g>\n",
              "        <path d=\"M19 3H5c-1.1 0-2 .9-2 2v14c0 1.1.9 2 2 2h14c1.1 0 2-.9 2-2V5c0-1.1-.9-2-2-2zM9 17H7v-7h2v7zm4 0h-2V7h2v10zm4 0h-2v-4h2v4z\"/>\n",
              "    </g>\n",
              "</svg>\n",
              "  </button>\n",
              "\n",
              "<style>\n",
              "  .colab-df-quickchart {\n",
              "      --bg-color: #E8F0FE;\n",
              "      --fill-color: #1967D2;\n",
              "      --hover-bg-color: #E2EBFA;\n",
              "      --hover-fill-color: #174EA6;\n",
              "      --disabled-fill-color: #AAA;\n",
              "      --disabled-bg-color: #DDD;\n",
              "  }\n",
              "\n",
              "  [theme=dark] .colab-df-quickchart {\n",
              "      --bg-color: #3B4455;\n",
              "      --fill-color: #D2E3FC;\n",
              "      --hover-bg-color: #434B5C;\n",
              "      --hover-fill-color: #FFFFFF;\n",
              "      --disabled-bg-color: #3B4455;\n",
              "      --disabled-fill-color: #666;\n",
              "  }\n",
              "\n",
              "  .colab-df-quickchart {\n",
              "    background-color: var(--bg-color);\n",
              "    border: none;\n",
              "    border-radius: 50%;\n",
              "    cursor: pointer;\n",
              "    display: none;\n",
              "    fill: var(--fill-color);\n",
              "    height: 32px;\n",
              "    padding: 0;\n",
              "    width: 32px;\n",
              "  }\n",
              "\n",
              "  .colab-df-quickchart:hover {\n",
              "    background-color: var(--hover-bg-color);\n",
              "    box-shadow: 0 1px 2px rgba(60, 64, 67, 0.3), 0 1px 3px 1px rgba(60, 64, 67, 0.15);\n",
              "    fill: var(--button-hover-fill-color);\n",
              "  }\n",
              "\n",
              "  .colab-df-quickchart-complete:disabled,\n",
              "  .colab-df-quickchart-complete:disabled:hover {\n",
              "    background-color: var(--disabled-bg-color);\n",
              "    fill: var(--disabled-fill-color);\n",
              "    box-shadow: none;\n",
              "  }\n",
              "\n",
              "  .colab-df-spinner {\n",
              "    border: 2px solid var(--fill-color);\n",
              "    border-color: transparent;\n",
              "    border-bottom-color: var(--fill-color);\n",
              "    animation:\n",
              "      spin 1s steps(1) infinite;\n",
              "  }\n",
              "\n",
              "  @keyframes spin {\n",
              "    0% {\n",
              "      border-color: transparent;\n",
              "      border-bottom-color: var(--fill-color);\n",
              "      border-left-color: var(--fill-color);\n",
              "    }\n",
              "    20% {\n",
              "      border-color: transparent;\n",
              "      border-left-color: var(--fill-color);\n",
              "      border-top-color: var(--fill-color);\n",
              "    }\n",
              "    30% {\n",
              "      border-color: transparent;\n",
              "      border-left-color: var(--fill-color);\n",
              "      border-top-color: var(--fill-color);\n",
              "      border-right-color: var(--fill-color);\n",
              "    }\n",
              "    40% {\n",
              "      border-color: transparent;\n",
              "      border-right-color: var(--fill-color);\n",
              "      border-top-color: var(--fill-color);\n",
              "    }\n",
              "    60% {\n",
              "      border-color: transparent;\n",
              "      border-right-color: var(--fill-color);\n",
              "    }\n",
              "    80% {\n",
              "      border-color: transparent;\n",
              "      border-right-color: var(--fill-color);\n",
              "      border-bottom-color: var(--fill-color);\n",
              "    }\n",
              "    90% {\n",
              "      border-color: transparent;\n",
              "      border-bottom-color: var(--fill-color);\n",
              "    }\n",
              "  }\n",
              "</style>\n",
              "\n",
              "  <script>\n",
              "    async function quickchart(key) {\n",
              "      const quickchartButtonEl =\n",
              "        document.querySelector('#' + key + ' button');\n",
              "      quickchartButtonEl.disabled = true;  // To prevent multiple clicks.\n",
              "      quickchartButtonEl.classList.add('colab-df-spinner');\n",
              "      try {\n",
              "        const charts = await google.colab.kernel.invokeFunction(\n",
              "            'suggestCharts', [key], {});\n",
              "      } catch (error) {\n",
              "        console.error('Error during call to suggestCharts:', error);\n",
              "      }\n",
              "      quickchartButtonEl.classList.remove('colab-df-spinner');\n",
              "      quickchartButtonEl.classList.add('colab-df-quickchart-complete');\n",
              "    }\n",
              "    (() => {\n",
              "      let quickchartButtonEl =\n",
              "        document.querySelector('#df-012226fc-b915-486d-87a4-e37e2d458346 button');\n",
              "      quickchartButtonEl.style.display =\n",
              "        google.colab.kernel.accessAllowed ? 'block' : 'none';\n",
              "    })();\n",
              "  </script>\n",
              "</div>\n",
              "    </div>\n",
              "  </div>\n"
            ]
          },
          "metadata": {},
          "execution_count": 128
        }
      ]
    },
    {
      "cell_type": "markdown",
      "source": [
        "### **Regresion Lineal para los alojamientos Enteros**\n",
        "\n",
        "Se utilizan los mismos features obtenidos previamente y se declaran las nuevas variables x,y para la regresion"
      ],
      "metadata": {
        "id": "LVhT5PImP0cY"
      }
    },
    {
      "cell_type": "code",
      "source": [
        "x2 = d4.drop(columns=features_drop)\n",
        "y2 = d4['price']\n",
        "\n",
        "from sklearn.ensemble import RandomForestRegressor\n",
        "# Features seleccionados:\n",
        "d4_x = d4[['host_id', 'latitude', 'longitude', 'minimum_nights', 'number_of_reviews']]\n",
        "# Division de datos en conjuntos de entrenamiento y prueba\n",
        "X3_train, X3_test, y3_train, y3_test = train_test_split(d4_x, y2, test_size=0.2, shuffle=True)\n",
        "\n",
        "# Crear un modelo de regresión lineal\n",
        "model3 =RandomForestRegressor(random_state=42, n_estimators=10,max_depth=10)\n",
        "# Ajuste\n",
        "model3.fit(X3_train,y3_train)\n",
        "# Predecir los valores en el conjunto de prueba\n",
        "prediction1= model3.predict(X3_test)"
      ],
      "metadata": {
        "id": "IYLlU2RUQGlC"
      },
      "execution_count": 283,
      "outputs": []
    },
    {
      "cell_type": "code",
      "source": [
        "#Evaluamos las métricas de regresión\n",
        "from sklearn.metrics import mean_squared_error, mean_absolute_error,r2_score\n",
        "print('MSE: ',mean_squared_error(y_true= y3_test, y_pred= prediction1))\n",
        "print('MAE: ',mean_absolute_error(y_true= y3_test, y_pred= prediction1))\n",
        "print('R2: ',r2_score(y_true= y3_test, y_pred= prediction1))"
      ],
      "metadata": {
        "colab": {
          "base_uri": "https://localhost:8080/"
        },
        "id": "FU9c5NXJRNxx",
        "outputId": "d0bbbc39-91a6-4986-da76-ed0ec96f7b9e"
      },
      "execution_count": 166,
      "outputs": [
        {
          "output_type": "stream",
          "name": "stdout",
          "text": [
            "MSE:  3608.9878698259017\n",
            "MAE:  46.22901573677421\n",
            "R2:  0.22942724344957677\n"
          ]
        }
      ]
    },
    {
      "cell_type": "markdown",
      "source": [
        "### **Regresion Lineal para los alojamientos de Habitacion privada**\n",
        "\n",
        "Se utilizan los mismos features obtenidos previamente y se declaran las nuevas variables x,y para la regresion"
      ],
      "metadata": {
        "id": "yBAztlYLRvHE"
      }
    },
    {
      "cell_type": "code",
      "source": [
        "x3 = d5.drop(columns=features_drop)\n",
        "y3 = d5['price']\n",
        "\n",
        "from sklearn.ensemble import RandomForestRegressor\n",
        "# Features seleccionados:\n",
        "d5_x = d5[['host_id', 'latitude', 'longitude', 'minimum_nights', 'number_of_reviews']]\n",
        "# Division de datos en conjuntos de entrenamiento y prueba\n",
        "X5_train, X5_test, y5_train, y5_test = train_test_split(d5_x, y3, test_size=0.2, shuffle=True)\n",
        "\n",
        "# Crear un modelo de regresión lineal\n",
        "model5 =RandomForestRegressor(random_state=42, n_estimators=10,max_depth=10)\n",
        "# Ajuste\n",
        "model5.fit(X5_train,y5_train)\n",
        "# Predecir los valores en el conjunto de prueba\n",
        "prediction2= model5.predict(X5_test)"
      ],
      "metadata": {
        "id": "MbHDhMxjRsrv"
      },
      "execution_count": 291,
      "outputs": []
    },
    {
      "cell_type": "code",
      "source": [
        "#Evaluamos las métricas de regresión\n",
        "from sklearn.metrics import mean_squared_error, mean_absolute_error,r2_score\n",
        "print('MSE: ',mean_squared_error(y_true= y5_test, y_pred= prediction2))\n",
        "print('MAE: ',mean_absolute_error(y_true= y5_test, y_pred= prediction2))\n",
        "print('R2: ',r2_score(y_true= y5_test, y_pred= prediction2))"
      ],
      "metadata": {
        "colab": {
          "base_uri": "https://localhost:8080/"
        },
        "id": "ZlvxjBf-SJd6",
        "outputId": "8451d630-0716-4c48-e04c-3c5a3a155e26"
      },
      "execution_count": 179,
      "outputs": [
        {
          "output_type": "stream",
          "name": "stdout",
          "text": [
            "MSE:  1416.8759540626884\n",
            "MAE:  29.336391790543676\n",
            "R2:  0.3949096028599314\n"
          ]
        }
      ]
    },
    {
      "cell_type": "markdown",
      "source": [
        "### **Se pudo mejorar las metricas de R2 para ambas regresiones, anterioemente estaban en 0.069 y ahora por encima de 0.22**"
      ],
      "metadata": {
        "id": "TsfmOiaEWmJi"
      }
    },
    {
      "cell_type": "markdown",
      "source": [
        "## **PCA para la evaluacion de las variables del modelo de Alojamiento Entero**\n",
        "\n",
        "\n"
      ],
      "metadata": {
        "id": "AlLz7jJ1ZQzE"
      }
    },
    {
      "cell_type": "code",
      "source": [
        "#PCA Escalamiento de datos\n",
        "\n",
        "from sklearn.preprocessing import StandardScaler\n",
        "\n",
        "sc = StandardScaler()\n",
        "X3_train = sc.fit_transform(X3_train)\n",
        "X3_test = sc.transform(X3_test)"
      ],
      "metadata": {
        "id": "N7nqoi-hZTc_"
      },
      "execution_count": 284,
      "outputs": []
    },
    {
      "cell_type": "code",
      "source": [
        "from sklearn.decomposition import PCA\n",
        "\n",
        "pca = PCA()\n",
        "\n",
        "X3_train = pca.fit_transform(X3_train)\n",
        "X3_test = pca.transform(X3_test)"
      ],
      "metadata": {
        "id": "2nt8PU6JZgB5"
      },
      "execution_count": 285,
      "outputs": []
    },
    {
      "cell_type": "code",
      "source": [
        "#Varianza explicada para cada componente\n",
        "explained_variance = pca.explained_variance_ratio_\n",
        "explained_variance"
      ],
      "metadata": {
        "colab": {
          "base_uri": "https://localhost:8080/"
        },
        "id": "Hj5UZTK9aI1v",
        "outputId": "bbdff56f-c2dd-4913-b08a-8d2f31c2109c"
      },
      "execution_count": 286,
      "outputs": [
        {
          "output_type": "execute_result",
          "data": {
            "text/plain": [
              "array([0.27041494, 0.22545227, 0.19923316, 0.15775062, 0.147149  ])"
            ]
          },
          "metadata": {},
          "execution_count": 286
        }
      ]
    },
    {
      "cell_type": "code",
      "source": [
        "from sklearn.decomposition import PCA\n",
        "\n",
        "\n",
        "\n",
        "pca = PCA(n_components=3)\n",
        "\n",
        "X3_train = pca.fit_transform(X3_train)\n",
        "\n",
        "X3_test = pca.transform(X3_test)"
      ],
      "metadata": {
        "id": "_83xv45NkxWr"
      },
      "execution_count": 287,
      "outputs": []
    },
    {
      "cell_type": "code",
      "source": [
        "model6 =RandomForestRegressor(random_state=42, n_estimators=10,max_depth=4)\n",
        "# Ajuste\n",
        "model6.fit(X3_train,y3_train)\n",
        "# Predecir los valores en el conjunto de prueba\n",
        "prediction3= model6.predict(X3_test)"
      ],
      "metadata": {
        "id": "YLHTaiUmlR9q"
      },
      "execution_count": 288,
      "outputs": []
    },
    {
      "cell_type": "code",
      "source": [
        "#Evaluamos las métricas de regresión\n",
        "from sklearn.metrics import mean_squared_error, mean_absolute_error,r2_score\n",
        "print('MSE: ',mean_squared_error(y_true= y3_test, y_pred= prediction3))\n",
        "print('MAE: ',mean_absolute_error(y_true= y3_test, y_pred= prediction3))\n",
        "print('R2: ',r2_score(y_true= y3_test, y_pred= prediction3))"
      ],
      "metadata": {
        "colab": {
          "base_uri": "https://localhost:8080/"
        },
        "id": "PAh9iEI6my1G",
        "outputId": "ebab98ea-acd2-4803-e06d-d69ba7e5b955"
      },
      "execution_count": 290,
      "outputs": [
        {
          "output_type": "stream",
          "name": "stdout",
          "text": [
            "MSE:  4526.969702207136\n",
            "MAE:  54.668295986413696\n",
            "R2:  0.019360891350940546\n"
          ]
        }
      ]
    },
    {
      "cell_type": "markdown",
      "source": [
        "## **PCA para la evaluacion de las variables del modelo de Alojamiento Habitacion Privada**\n"
      ],
      "metadata": {
        "id": "Dabfu-ZsaYjU"
      }
    },
    {
      "cell_type": "code",
      "source": [
        "#PCA Escalamiento de datos\n",
        "\n",
        "from sklearn.preprocessing import StandardScaler\n",
        "\n",
        "sc1 = StandardScaler()\n",
        "X5_train = sc1.fit_transform(X5_train)\n",
        "X5_test = sc1.transform(X5_test)"
      ],
      "metadata": {
        "id": "0oU6cn9UaX76"
      },
      "execution_count": 292,
      "outputs": []
    },
    {
      "cell_type": "code",
      "source": [
        "from sklearn.decomposition import PCA\n",
        "\n",
        "pca1 = PCA()\n",
        "\n",
        "X5_train = pca1.fit_transform(X5_train)\n",
        "X5_test = pca1.transform(X5_test)"
      ],
      "metadata": {
        "id": "qTUdrEg1ac2J"
      },
      "execution_count": 293,
      "outputs": []
    },
    {
      "cell_type": "code",
      "source": [
        "#Varianza explicada para cada componente\n",
        "explained_variance1 = pca1.explained_variance_ratio_\n",
        "explained_variance1"
      ],
      "metadata": {
        "colab": {
          "base_uri": "https://localhost:8080/"
        },
        "id": "YF2ZLbC1aeP_",
        "outputId": "c1cf2531-6541-4787-ce11-a586a1571dc6"
      },
      "execution_count": 294,
      "outputs": [
        {
          "output_type": "execute_result",
          "data": {
            "text/plain": [
              "array([0.24241614, 0.22572165, 0.20144192, 0.17245397, 0.15796633])"
            ]
          },
          "metadata": {},
          "execution_count": 294
        }
      ]
    },
    {
      "cell_type": "code",
      "source": [
        "from sklearn.decomposition import PCA\n",
        "\n",
        "\n",
        "pca = PCA(n_components=3)\n",
        "\n",
        "X5_train = pca.fit_transform(X5_train)\n",
        "\n",
        "X5_test = pca.transform(X5_test)"
      ],
      "metadata": {
        "id": "zI6RcYXnnTxt"
      },
      "execution_count": 295,
      "outputs": []
    },
    {
      "cell_type": "code",
      "source": [
        "model7 =RandomForestRegressor(random_state=42, n_estimators=10,max_depth=4)\n",
        "# Ajuste\n",
        "model7.fit(X5_train,y5_train)\n",
        "# Predecir los valores en el conjunto de prueba\n",
        "prediction4= model7.predict(X5_test)"
      ],
      "metadata": {
        "id": "wHDHojCcnaRz"
      },
      "execution_count": 298,
      "outputs": []
    },
    {
      "cell_type": "code",
      "source": [
        "#Evaluamos las métricas de regresión\n",
        "from sklearn.metrics import mean_squared_error, mean_absolute_error,r2_score\n",
        "print('MSE: ',mean_squared_error(y_true= y5_test, y_pred= prediction4))\n",
        "print('MAE: ',mean_absolute_error(y_true= y5_test, y_pred= prediction4))\n",
        "print('R2: ',r2_score(y_true= y5_test, y_pred= prediction4))"
      ],
      "metadata": {
        "colab": {
          "base_uri": "https://localhost:8080/"
        },
        "id": "NN6u8odsn8Js",
        "outputId": "1032f25f-5fca-4ef6-90d2-c232ce947bb9"
      },
      "execution_count": 299,
      "outputs": [
        {
          "output_type": "stream",
          "name": "stdout",
          "text": [
            "MSE:  2240.1111733442654\n",
            "MAE:  31.6379771509596\n",
            "R2:  0.13965176686788006\n"
          ]
        }
      ]
    },
    {
      "cell_type": "markdown",
      "source": [
        "# **CONCLUSIONES:**\n",
        "\n",
        "En ambos casos se usaron los 3 primeros componentes responsables de mas del 60% de la varianza. Sin embargo se obtuvieron resultados inferiores de R2 respecto a los obtenidos previamente."
      ],
      "metadata": {
        "id": "mGJNbw1QohuA"
      }
    },
    {
      "cell_type": "code",
      "source": [],
      "metadata": {
        "id": "Sbhom6xZnXZP"
      },
      "execution_count": null,
      "outputs": []
    }
  ]
}